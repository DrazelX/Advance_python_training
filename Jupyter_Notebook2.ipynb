{
 "cells": [
  {
   "cell_type": "code",
   "execution_count": 1,
   "id": "6d6b60fa",
   "metadata": {},
   "outputs": [
    {
     "data": {
      "text/plain": [
       "'hi'"
      ]
     },
     "execution_count": 1,
     "metadata": {},
     "output_type": "execute_result"
    }
   ],
   "source": [
    "\"hi\""
   ]
  },
  {
   "cell_type": "code",
   "execution_count": 2,
   "id": "5449d201",
   "metadata": {},
   "outputs": [],
   "source": [
    "# 1st - Mongodb -- Install, Cli, Collection, CRUD\n",
    "# 2nd - Flask -- Flask, POST<PUT, GET, DELETE, Install flask, POSTMAN query, MVT\n",
    "# 3rd - Basic Python- Datatypes, builtin functions, lambda, regex, decorators, generators, comprehension\n",
    "\n",
    "# pycharm, commandline, notebook\n",
    "\n",
    "# file ... read.txt"
   ]
  },
  {
   "cell_type": "code",
   "execution_count": 3,
   "id": "9b579298",
   "metadata": {},
   "outputs": [
    {
     "name": "stdout",
     "output_type": "stream",
     "text": [
      "hi\n",
      "hello\n",
      "\n"
     ]
    }
   ],
   "source": [
    "# read entire file as single string\n",
    "with open(\"sample.txt\", \"rt\") as f:\n",
    "    data = f.read()\n",
    "print(data)"
   ]
  },
  {
   "cell_type": "code",
   "execution_count": 4,
   "id": "98c9220a",
   "metadata": {},
   "outputs": [
    {
     "name": "stdout",
     "output_type": "stream",
     "text": [
      "hi\n",
      "\n",
      "hello\n",
      "\n"
     ]
    }
   ],
   "source": [
    "# iterate over the file\n",
    "with open('sample.txt', 'rt') as f:\n",
    "    for line in f:\n",
    "        print(line)"
   ]
  },
  {
   "cell_type": "code",
   "execution_count": 5,
   "id": "a2006d9b",
   "metadata": {},
   "outputs": [],
   "source": [
    "# write chunk of text data\n",
    "\n",
    "with open(\"sample.txt\", \"wt\") as f:\n",
    "    f.write(\"Good Morning\")\n",
    "    f.write(\"Advance Python Training\")"
   ]
  },
  {
   "cell_type": "code",
   "execution_count": 6,
   "id": "47007928",
   "metadata": {},
   "outputs": [],
   "source": [
    "# f = open(\"filename\", \"mode\")\n",
    "# f.read()\n",
    "# f.write()\n",
    "# f.close()"
   ]
  },
  {
   "cell_type": "code",
   "execution_count": 7,
   "id": "73187c95",
   "metadata": {},
   "outputs": [],
   "source": [
    "# redirect out file\n",
    "\n",
    "with open(\"sample.txt\", \"wt\") as f:\n",
    "    print(\" Hi python\", file=f)\n",
    "    print(\"line3\",file=f)"
   ]
  },
  {
   "cell_type": "code",
   "execution_count": 8,
   "id": "a8a2df9f",
   "metadata": {},
   "outputs": [],
   "source": [
    "f = open(\"sample.txt\", \"rt\")\n",
    "data = f.read()\n",
    "f.close()"
   ]
  },
  {
   "cell_type": "code",
   "execution_count": 9,
   "id": "cde6bfd9",
   "metadata": {},
   "outputs": [
    {
     "data": {
      "text/plain": [
       "' Hi python\\nline3\\n'"
      ]
     },
     "execution_count": 9,
     "metadata": {},
     "output_type": "execute_result"
    }
   ],
   "source": [
    "data"
   ]
  },
  {
   "cell_type": "code",
   "execution_count": 24,
   "id": "c99ba800",
   "metadata": {},
   "outputs": [
    {
     "ename": "SyntaxError",
     "evalue": "(unicode error) 'unicodeescape' codec can't decode bytes in position 2-3: truncated \\UXXXXXXXX escape (Temp/ipykernel_7360/2633263196.py, line 2)",
     "output_type": "error",
     "traceback": [
      "\u001b[1;36m  File \u001b[1;32m\"C:\\Users\\AYUSHS~1\\AppData\\Local\\Temp/ipykernel_7360/2633263196.py\"\u001b[1;36m, line \u001b[1;32m2\u001b[0m\n\u001b[1;33m    f = open(\"C:\\Users\\AYUSH SRIVASTAVA\\sample-error.txt\", \"rt\", encoding=\"ascii\", error =\"replace\")\u001b[0m\n\u001b[1;37m                                                         ^\u001b[0m\n\u001b[1;31mSyntaxError\u001b[0m\u001b[1;31m:\u001b[0m (unicode error) 'unicodeescape' codec can't decode bytes in position 2-3: truncated \\UXXXXXXXX escape\n"
     ]
    }
   ],
   "source": [
    "# Replace bad chars with unicode replace\n",
    "f = open(\"C:\\Users\\AYUSH SRIVASTAVA\\sample-error.txt\", \"rt\", encoding=\"ascii\", error =\"replace\")\n",
    "f.read()"
   ]
  },
  {
   "cell_type": "code",
   "execution_count": 13,
   "id": "c2947029",
   "metadata": {},
   "outputs": [],
   "source": [
    "# Replace bad xhars with u+ffd replace\n",
    "# f = open(\"Sample-error.txt\", \"rt\", encoding=\"ascii\", errors=\"ignore\"):\n",
    "# f.read()"
   ]
  },
  {
   "cell_type": "code",
   "execution_count": 14,
   "id": "c424dc68",
   "metadata": {},
   "outputs": [],
   "source": [
    "# # Write binary data file\n",
    "# with open('somefile.bin', 'wb') as f:\n",
    "    "
   ]
  },
  {
   "cell_type": "code",
   "execution_count": 15,
   "id": "0aa80138",
   "metadata": {},
   "outputs": [],
   "source": [
    "# # read the data from binary file\n",
    "# with open('somefile.bin',\"rb\") as f:\n",
    "#     data = f.read()"
   ]
  },
  {
   "cell_type": "code",
   "execution_count": 16,
   "id": "65f6e4de",
   "metadata": {},
   "outputs": [],
   "source": [
    "# data"
   ]
  },
  {
   "cell_type": "code",
   "execution_count": 17,
   "id": "0a7bde2a",
   "metadata": {},
   "outputs": [],
   "source": [
    "import os\n",
    "if not os.path.exists(\"somefile\"):\n",
    "    with open(\"somefile\", \"wt\")as f:\n",
    "        f.write(\"Hello\\n\")\n",
    "else:\n",
    "    print(\"file is already exista!!!\")"
   ]
  },
  {
   "cell_type": "code",
   "execution_count": 18,
   "id": "4bb2c615",
   "metadata": {},
   "outputs": [
    {
     "ename": "FileNotFoundError",
     "evalue": "[Errno 2] No such file or directory: 'somefile.bin'",
     "output_type": "error",
     "traceback": [
      "\u001b[1;31m---------------------------------------------------------------------------\u001b[0m",
      "\u001b[1;31mFileNotFoundError\u001b[0m                         Traceback (most recent call last)",
      "\u001b[1;32mC:\\Users\\AYUSHS~1\\AppData\\Local\\Temp/ipykernel_7360/2919454290.py\u001b[0m in \u001b[0;36m<module>\u001b[1;34m\u001b[0m\n\u001b[1;32m----> 1\u001b[1;33m \u001b[1;32mwith\u001b[0m \u001b[0mopen\u001b[0m\u001b[1;33m(\u001b[0m\u001b[1;34m'somefile.bin'\u001b[0m\u001b[1;33m,\u001b[0m\u001b[1;34m\"rb\"\u001b[0m\u001b[1;33m)\u001b[0m \u001b[1;32mas\u001b[0m \u001b[0mf\u001b[0m\u001b[1;33m:\u001b[0m\u001b[1;33m\u001b[0m\u001b[1;33m\u001b[0m\u001b[0m\n\u001b[0m\u001b[0;32m      2\u001b[0m     \u001b[0mdata\u001b[0m \u001b[1;33m=\u001b[0m \u001b[0mf\u001b[0m\u001b[1;33m.\u001b[0m\u001b[0mread\u001b[0m\u001b[1;33m(\u001b[0m\u001b[1;33m)\u001b[0m\u001b[1;33m\u001b[0m\u001b[1;33m\u001b[0m\u001b[0m\n",
      "\u001b[1;31mFileNotFoundError\u001b[0m: [Errno 2] No such file or directory: 'somefile.bin'"
     ]
    }
   ],
   "source": [
    "with open('somefile.bin',\"rb\") as f:\n",
    "    data = f.read()"
   ]
  },
  {
   "cell_type": "code",
   "execution_count": 21,
   "id": "b94c1d2c",
   "metadata": {},
   "outputs": [],
   "source": [
    "# gzip compression\n",
    "\n",
    "import gzip\n",
    "with gzip.open(\"somefile-new,gz\", \"wt\") as f:\n",
    "    f.write(\"txt compression\")"
   ]
  },
  {
   "cell_type": "code",
   "execution_count": 22,
   "id": "ad14be91",
   "metadata": {},
   "outputs": [],
   "source": [
    "# bz2\n",
    "import bz2\n",
    "with bz2.open(\"somefile.bz2\", \"wt\") as f:\n",
    "    f.write(\"text compression\")"
   ]
  },
  {
   "cell_type": "code",
   "execution_count": 23,
   "id": "0b74f9cc",
   "metadata": {},
   "outputs": [
    {
     "name": "stdout",
     "output_type": "stream",
     "text": [
      "text infor txt compression\n"
     ]
    }
   ],
   "source": [
    "# read\n",
    "import gzip\n",
    "with gzip.open(\"somefile-new,gz\", \"rt\") as f:\n",
    "    text = f.read()\n",
    "    print(\"text infor\", text)"
   ]
  },
  {
   "cell_type": "code",
   "execution_count": 25,
   "id": "9ed2664e",
   "metadata": {},
   "outputs": [
    {
     "name": "stdout",
     "output_type": "stream",
     "text": [
      "text1 text compression\n"
     ]
    }
   ],
   "source": [
    "# bz2 compression\n",
    "with bz2.open(\"somefile.bz2\", \"rt\") as f:\n",
    "    text = f.read()\n",
    "    print(\"text1\", text)"
   ]
  },
  {
   "cell_type": "code",
   "execution_count": 26,
   "id": "153d41ae",
   "metadata": {},
   "outputs": [],
   "source": [
    "fh = open(\"sample.txt\")"
   ]
  },
  {
   "cell_type": "code",
   "execution_count": 27,
   "id": "6c4a20a7",
   "metadata": {},
   "outputs": [
    {
     "name": "stdout",
     "output_type": "stream",
     "text": [
      " Hi python\n",
      "line3\n",
      "\n"
     ]
    }
   ],
   "source": [
    "print(fh.read())"
   ]
  },
  {
   "cell_type": "code",
   "execution_count": 29,
   "id": "57824ce7",
   "metadata": {},
   "outputs": [
    {
     "data": {
      "text/plain": [
       "''"
      ]
     },
     "execution_count": 29,
     "metadata": {},
     "output_type": "execute_result"
    }
   ],
   "source": [
    "# print null string\n",
    "fh.read()"
   ]
  },
  {
   "cell_type": "code",
   "execution_count": 30,
   "id": "ecc93acd",
   "metadata": {},
   "outputs": [],
   "source": [
    "fh = open(\"sample.txt\")"
   ]
  },
  {
   "cell_type": "code",
   "execution_count": 31,
   "id": "00672cad",
   "metadata": {},
   "outputs": [
    {
     "data": {
      "text/plain": [
       "' Hi python\\n'"
      ]
     },
     "execution_count": 31,
     "metadata": {},
     "output_type": "execute_result"
    }
   ],
   "source": [
    "fh.readline()"
   ]
  },
  {
   "cell_type": "code",
   "execution_count": 32,
   "id": "46dc6e2e",
   "metadata": {},
   "outputs": [
    {
     "data": {
      "text/plain": [
       "'line3\\n'"
      ]
     },
     "execution_count": 32,
     "metadata": {},
     "output_type": "execute_result"
    }
   ],
   "source": [
    "fh.readline()"
   ]
  },
  {
   "cell_type": "code",
   "execution_count": 37,
   "id": "a8cd4cc6",
   "metadata": {},
   "outputs": [
    {
     "name": "stdout",
     "output_type": "stream",
     "text": [
      " Hi python\n",
      "\n",
      "['line3\\n']\n"
     ]
    }
   ],
   "source": [
    "with open(\"sample.txt\") as fh:\n",
    "    print(fh.readline())\n",
    "    print(fh.readlines())"
   ]
  },
  {
   "cell_type": "code",
   "execution_count": 40,
   "id": "d39aaf56",
   "metadata": {},
   "outputs": [
    {
     "name": "stdout",
     "output_type": "stream",
     "text": [
      " Hi python\n",
      "line3\n",
      "\n",
      "[' Hi python\\n', 'line3\\n']\n"
     ]
    }
   ],
   "source": [
    "with open(\"sample.txt\") as fh:\n",
    "    data = fh.read()\n",
    "    print(data)\n",
    "    fh.seek(0,0) # reset again\n",
    "    print(fh.readlines())"
   ]
  },
  {
   "cell_type": "code",
   "execution_count": 41,
   "id": "0af96d22",
   "metadata": {},
   "outputs": [
    {
     "name": "stdout",
     "output_type": "stream",
     "text": [
      " Hi python\n",
      "line3\n"
     ]
    }
   ],
   "source": [
    "with open(\"sample.txt\") as fh:\n",
    "    for line in fh:\n",
    "        print(line, end='')"
   ]
  },
  {
   "cell_type": "code",
   "execution_count": 45,
   "id": "2e5f6348",
   "metadata": {},
   "outputs": [
    {
     "name": "stdout",
     "output_type": "stream",
     "text": [
      "1  Hi python\n"
     ]
    }
   ],
   "source": [
    "# print all lines containing python inclusing line number\n",
    "with open(\"sample.txt\") as fh:\n",
    "    count = 1\n",
    "    for line in fh:\n",
    "        if 'python'.upper() in line.upper():\n",
    "            print(count, line, end='')\n",
    "            count +=1"
   ]
  },
  {
   "cell_type": "code",
   "execution_count": 50,
   "id": "9e109687",
   "metadata": {},
   "outputs": [],
   "source": [
    "# CSV File\n",
    "\n",
    "# data = {}\n",
    "# with open(\"XNSE-BAJAJ_AUTO.csv\") as b:\n",
    "#     pricelist = []\n",
    "#     for rec in b:\n",
    "#         rec = rec.strip()\n",
    "#         cols = [x.strip('\"') for x in rec.split(',')]\n",
    "#         if cols[2] == \"Open\" or cols[2] == \"High\":\n",
    "#             continue\n",
    "#         if cols[1] in data:\n",
    "#             data[cols[1].strip()].append(float(cols[2]))\n",
    "#         else:\n",
    "#             data[cols[1].strip()] = [float(cols[2])]\n",
    "        \n",
    "# for year in data:\n",
    "#     print(\"Average price for {} is {}\".format(year, round(sum(data[year])/len(data[year]),2)))\n"
   ]
  },
  {
   "cell_type": "code",
   "execution_count": 51,
   "id": "7019e837",
   "metadata": {},
   "outputs": [],
   "source": [
    "# data = {}\n",
    "# with open(\"XNSE-BAJAJ_AUTO.csv\") as b, open(\"data-writes.txt\", \"w+\") as w:\n",
    "#     pricelist = []\n",
    "#     for rec in b:\n",
    "#         rec = rec.strip()\n",
    "#         cols = [x.strip('\"') for x in rec.split(',')]\n",
    "#         if cols[2] == \"Open\" or cols[2] == \"High\":\n",
    "#             continue\n",
    "#         if cols[1] in data:\n",
    "#             data[cols[1].strip()].append(float(cols[2]))\n",
    "#         else:\n",
    "#             data[cols[1].strip()] = [float(cols[2])]\n",
    "#     for year in data:\n",
    "#         avg_price = round(sum(data[year]) / len(data[year]), 2)\n",
    "#         w.write(\"Avg price for {} is {} \\n\".format(year, avg_price))\n"
   ]
  },
  {
   "cell_type": "code",
   "execution_count": 52,
   "id": "70bd2955",
   "metadata": {},
   "outputs": [],
   "source": [
    "import os\n",
    "path = \"/usr/ayush/data/data.csv\""
   ]
  },
  {
   "cell_type": "code",
   "execution_count": 53,
   "id": "8d66d42a",
   "metadata": {},
   "outputs": [
    {
     "data": {
      "text/plain": [
       "'data.csv'"
      ]
     },
     "execution_count": 53,
     "metadata": {},
     "output_type": "execute_result"
    }
   ],
   "source": [
    "os.path.basename(path)"
   ]
  },
  {
   "cell_type": "code",
   "execution_count": 54,
   "id": "06fc9909",
   "metadata": {},
   "outputs": [
    {
     "data": {
      "text/plain": [
       "'/usr/ayush/data'"
      ]
     },
     "execution_count": 54,
     "metadata": {},
     "output_type": "execute_result"
    }
   ],
   "source": [
    "# Go the directory name\n",
    "os.path.dirname(path)"
   ]
  },
  {
   "cell_type": "code",
   "execution_count": 55,
   "id": "13644e74",
   "metadata": {},
   "outputs": [
    {
     "data": {
      "text/plain": [
       "'tmp\\\\data\\\\data.csv'"
      ]
     },
     "execution_count": 55,
     "metadata": {},
     "output_type": "execute_result"
    }
   ],
   "source": [
    "# join component path\n",
    "os.path.join(\"tmp\", \"data\", os.path.basename(path))"
   ]
  },
  {
   "cell_type": "code",
   "execution_count": 56,
   "id": "7ef39ea7",
   "metadata": {},
   "outputs": [
    {
     "data": {
      "text/plain": [
       "'C:\\\\Users\\\\AYUSH SRIVASTAVA/Data/data.csv'"
      ]
     },
     "execution_count": 56,
     "metadata": {},
     "output_type": "execute_result"
    }
   ],
   "source": [
    "# Expand the user's home directory\n",
    "\n",
    "path = '~/Data/data.csv'\n",
    "os.path.expanduser(path)"
   ]
  },
  {
   "cell_type": "code",
   "execution_count": 57,
   "id": "e76cbf42",
   "metadata": {},
   "outputs": [
    {
     "data": {
      "text/plain": [
       "('~/Data/data', '.csv')"
      ]
     },
     "execution_count": 57,
     "metadata": {},
     "output_type": "execute_result"
    }
   ],
   "source": [
    "# split the file extension\n",
    "os.path.splitext(path)"
   ]
  },
  {
   "cell_type": "code",
   "execution_count": 58,
   "id": "bf27031a",
   "metadata": {},
   "outputs": [
    {
     "data": {
      "text/plain": [
       "False"
      ]
     },
     "execution_count": 58,
     "metadata": {},
     "output_type": "execute_result"
    }
   ],
   "source": [
    "import os\n",
    "os.path.exists('/etx/passwd')"
   ]
  },
  {
   "cell_type": "code",
   "execution_count": 59,
   "id": "ff02b639",
   "metadata": {},
   "outputs": [
    {
     "data": {
      "text/plain": [
       "False"
      ]
     },
     "execution_count": 59,
     "metadata": {},
     "output_type": "execute_result"
    }
   ],
   "source": [
    "# is regular\n",
    "os.path.isfile('/etc/passwd')"
   ]
  },
  {
   "cell_type": "code",
   "execution_count": 61,
   "id": "a157d65e",
   "metadata": {},
   "outputs": [
    {
     "data": {
      "text/plain": [
       "False"
      ]
     },
     "execution_count": 61,
     "metadata": {},
     "output_type": "execute_result"
    }
   ],
   "source": [
    "# directory present or not\n",
    "os.path.isdir(\"/etc/passwd\")"
   ]
  },
  {
   "cell_type": "code",
   "execution_count": 65,
   "id": "fc6e6a8c",
   "metadata": {},
   "outputs": [
    {
     "data": {
      "text/plain": [
       "False"
      ]
     },
     "execution_count": 65,
     "metadata": {},
     "output_type": "execute_result"
    }
   ],
   "source": [
    "# is symbolic path\n",
    "os.path.islink(\"/usr/local/bin/document\")"
   ]
  },
  {
   "cell_type": "code",
   "execution_count": 67,
   "id": "24f13c17",
   "metadata": {},
   "outputs": [
    {
     "name": "stdout",
     "output_type": "stream",
     "text": [
      "['$Recycle.Bin', '$WinREAgent', 'bootmgr', 'BOOTNXT', 'Config.Msi', 'Documents and Settings', 'DumpStack.log.tmp', 'hiberfil.sys', 'Intel', 'pagefile.sys', 'PerfLogs', 'Program Files', 'Program Files (x86)', 'ProgramData', 'Recovery', 'swapfile.sys', 'System Volume Information', 'Users', 'Windows']\n"
     ]
    }
   ],
   "source": [
    "# directory name all\n",
    "import os\n",
    "name= os.listdir(\"/\")\n",
    "print(name)"
   ]
  },
  {
   "cell_type": "code",
   "execution_count": 68,
   "id": "42bb7ca3",
   "metadata": {},
   "outputs": [
    {
     "data": {
      "text/plain": [
       "'C:\\\\usr\\\\local\\\\bin\\\\document'"
      ]
     },
     "execution_count": 68,
     "metadata": {},
     "output_type": "execute_result"
    }
   ],
   "source": [
    "# real path\n",
    "os.path.realpath(\"/usr/local/bin/document\")"
   ]
  },
  {
   "cell_type": "code",
   "execution_count": 69,
   "id": "ed612886",
   "metadata": {},
   "outputs": [],
   "source": [
    "# get all regular file\n",
    "import os.path\n",
    "names = [name for name in os.listdir(\"/\") if os.path.isfile(os.path.join('/',name))]"
   ]
  },
  {
   "cell_type": "code",
   "execution_count": 70,
   "id": "d6ad6d77",
   "metadata": {},
   "outputs": [
    {
     "data": {
      "text/plain": [
       "['bootmgr',\n",
       " 'BOOTNXT',\n",
       " 'DumpStack.log.tmp',\n",
       " 'hiberfil.sys',\n",
       " 'pagefile.sys',\n",
       " 'swapfile.sys']"
      ]
     },
     "execution_count": 70,
     "metadata": {},
     "output_type": "execute_result"
    }
   ],
   "source": [
    "names"
   ]
  },
  {
   "cell_type": "code",
   "execution_count": 71,
   "id": "202ebd5a",
   "metadata": {},
   "outputs": [],
   "source": [
    "# get all dirs\n",
    "\n",
    "dirnames = [name for name in os.listdir('/') if os.path.join('/', name)]"
   ]
  },
  {
   "cell_type": "code",
   "execution_count": 72,
   "id": "34882646",
   "metadata": {},
   "outputs": [
    {
     "data": {
      "text/plain": [
       "['$Recycle.Bin',\n",
       " '$WinREAgent',\n",
       " 'bootmgr',\n",
       " 'BOOTNXT',\n",
       " 'Config.Msi',\n",
       " 'Documents and Settings',\n",
       " 'DumpStack.log.tmp',\n",
       " 'hiberfil.sys',\n",
       " 'Intel',\n",
       " 'pagefile.sys',\n",
       " 'PerfLogs',\n",
       " 'Program Files',\n",
       " 'Program Files (x86)',\n",
       " 'ProgramData',\n",
       " 'Recovery',\n",
       " 'swapfile.sys',\n",
       " 'System Volume Information',\n",
       " 'Users',\n",
       " 'Windows']"
      ]
     },
     "execution_count": 72,
     "metadata": {},
     "output_type": "execute_result"
    }
   ],
   "source": [
    "dirnames"
   ]
  },
  {
   "cell_type": "code",
   "execution_count": 73,
   "id": "3a67b0ef",
   "metadata": {},
   "outputs": [],
   "source": [
    "pyfiles = [name for name in os.listdir('/') if name.endswith('.py')]"
   ]
  },
  {
   "cell_type": "code",
   "execution_count": 74,
   "id": "c371deb7",
   "metadata": {},
   "outputs": [
    {
     "data": {
      "text/plain": [
       "[]"
      ]
     },
     "execution_count": 74,
     "metadata": {},
     "output_type": "execute_result"
    }
   ],
   "source": [
    "pyfiles"
   ]
  },
  {
   "cell_type": "code",
   "execution_count": 75,
   "id": "9b4b1ff9",
   "metadata": {},
   "outputs": [],
   "source": [
    "# text, bin, "
   ]
  },
  {
   "cell_type": "code",
   "execution_count": 76,
   "id": "0c9a4d5d",
   "metadata": {},
   "outputs": [],
   "source": [
    "# pickle file\n",
    "import pickle"
   ]
  },
  {
   "cell_type": "code",
   "execution_count": 78,
   "id": "c6ffa98e",
   "metadata": {},
   "outputs": [],
   "source": [
    "dict_pickle = {\"key\": \"john\", \"name\": \"fred\", \"age\": 21, \"pat\": 400000}\n",
    "f = open('pickel1','wb')\n",
    "# dump the pickle object\n",
    "pickle.dump(dict_pickle, f)"
   ]
  },
  {
   "cell_type": "code",
   "execution_count": 96,
   "id": "902a8b46",
   "metadata": {},
   "outputs": [],
   "source": [
    "# dump into pickle string\n",
    "s = pickle.dumps(dict_pickle)"
   ]
  },
  {
   "cell_type": "code",
   "execution_count": 99,
   "id": "8ec98f52",
   "metadata": {},
   "outputs": [
    {
     "data": {
      "text/plain": [
       "{'key': 'john', 'name': 'fred', 'age': 21, 'pat': 400000}"
      ]
     },
     "execution_count": 99,
     "metadata": {},
     "output_type": "execute_result"
    }
   ],
   "source": [
    "pickle.loads(s)\n",
    "# make any line comment remove another comment\n",
    "# print(s)"
   ]
  },
  {
   "cell_type": "code",
   "execution_count": 83,
   "id": "6c3bd653",
   "metadata": {},
   "outputs": [],
   "source": [
    "# restore from file\n",
    "f = open('pickel1', 'rb')\n",
    "# load the object\n",
    "data = pickle.load(f)"
   ]
  },
  {
   "cell_type": "code",
   "execution_count": 84,
   "id": "d451c727",
   "metadata": {},
   "outputs": [
    {
     "data": {
      "text/plain": [
       "{'key': 'john', 'name': 'fred', 'age': 21, 'pat': 400000}"
      ]
     },
     "execution_count": 84,
     "metadata": {},
     "output_type": "execute_result"
    }
   ],
   "source": [
    "data"
   ]
  },
  {
   "cell_type": "code",
   "execution_count": 85,
   "id": "c83bdf80",
   "metadata": {},
   "outputs": [],
   "source": [
    "import pickle"
   ]
  },
  {
   "cell_type": "code",
   "execution_count": 86,
   "id": "e2334c60",
   "metadata": {},
   "outputs": [],
   "source": [
    "f = open(\"somedata1\", \"wb\")"
   ]
  },
  {
   "cell_type": "code",
   "execution_count": 87,
   "id": "7b56d15b",
   "metadata": {},
   "outputs": [],
   "source": [
    "pickle.dump([1,2,3,4], f)"
   ]
  },
  {
   "cell_type": "code",
   "execution_count": 88,
   "id": "02846235",
   "metadata": {},
   "outputs": [],
   "source": [
    "pickle.dump(\"hello\", f)"
   ]
  },
  {
   "cell_type": "code",
   "execution_count": 90,
   "id": "84e095ca",
   "metadata": {},
   "outputs": [],
   "source": [
    "pickle.dump({\"apple\", \"pear\", \"banana\"}, f)"
   ]
  },
  {
   "cell_type": "code",
   "execution_count": 91,
   "id": "20202e26",
   "metadata": {},
   "outputs": [],
   "source": [
    "f.close()"
   ]
  },
  {
   "cell_type": "code",
   "execution_count": 92,
   "id": "45ee52f4",
   "metadata": {},
   "outputs": [],
   "source": [
    "f = open(\"somedata1\", \"rb\")"
   ]
  },
  {
   "cell_type": "code",
   "execution_count": 93,
   "id": "e19d1dd0",
   "metadata": {},
   "outputs": [
    {
     "data": {
      "text/plain": [
       "[1, 2, 3, 4]"
      ]
     },
     "execution_count": 93,
     "metadata": {},
     "output_type": "execute_result"
    }
   ],
   "source": [
    "pickle.load(f)"
   ]
  },
  {
   "cell_type": "code",
   "execution_count": 94,
   "id": "4d873407",
   "metadata": {},
   "outputs": [
    {
     "data": {
      "text/plain": [
       "'hello'"
      ]
     },
     "execution_count": 94,
     "metadata": {},
     "output_type": "execute_result"
    }
   ],
   "source": [
    "pickle.load(f)"
   ]
  },
  {
   "cell_type": "code",
   "execution_count": 95,
   "id": "efe0c6f1",
   "metadata": {},
   "outputs": [
    {
     "data": {
      "text/plain": [
       "{'apple', 'banana', 'pear'}"
      ]
     },
     "execution_count": 95,
     "metadata": {},
     "output_type": "execute_result"
    }
   ],
   "source": [
    "pickle.load(f)"
   ]
  },
  {
   "cell_type": "code",
   "execution_count": 100,
   "id": "939afce4",
   "metadata": {},
   "outputs": [
    {
     "name": "stdout",
     "output_type": "stream",
     "text": [
      "john ==> {'key': 'john', 'name': 'fred', 'age': 21, 'pay': 400000}\n",
      "jay ==> {'key': 'jay', 'name': 'jay', 'age': 50, 'pay': 500000}\n"
     ]
    }
   ],
   "source": [
    "import pickle\n",
    "\n",
    "def storeData():\n",
    "    # initializing the data\n",
    "    pickle_dataset_1 = {\"key\": \"john\", \"name\": \"fred\", \"age\":21, \"pay\": 400000}\n",
    "    pickle_dataset_2 = {\"key\":  \"jay\", \"name\": \"jay\", \"age\":50, \"pay\": 500000}\n",
    "    \n",
    "    db ={}\n",
    "    db['john'] = pickle_dataset_1\n",
    "    db['jay'] = pickle_dataset_2\n",
    "    dbfile = open(\"examplepickle\", \"wb\")\n",
    "    pickle.dump(db, dbfile)\n",
    "    dbfile.close()\n",
    "\n",
    "def loadData():\n",
    "    # for reading\n",
    "    \n",
    "    dbfile = open(\"examplepickle\", \"rb\")\n",
    "    db = pickle.load(dbfile)\n",
    "    for key in db:\n",
    "        print(key, \"==>\", db[key])\n",
    "    dbfile.close()\n",
    "\n",
    "if __name__ == '__main__':\n",
    "    storeData()\n",
    "    loadData()"
   ]
  },
  {
   "cell_type": "code",
   "execution_count": 138,
   "id": "3e3941d2",
   "metadata": {},
   "outputs": [
    {
     "name": "stdout",
     "output_type": "stream",
     "text": [
      "[['john', 'fred', 21, 400000], ['jay', 'jay', 50, 500000]]\n"
     ]
    }
   ],
   "source": [
    "# with List\n",
    "import pickle\n",
    "\n",
    "def storeData():\n",
    "    # initializing the data\n",
    "    pickle_dataset_1 = ['john','fred',21,400000]\n",
    "    pickle_dataset_2 = [\"jay\",\"jay\",50,500000]\n",
    "    \n",
    "    db = [1,2]\n",
    "    db[0] = pickle_dataset_1\n",
    "    db[1] = pickle_dataset_2\n",
    "    dbfile = open(\"examplepickle\", \"wb\")\n",
    "    pickle.dump(db, dbfile)\n",
    "    dbfile.close()\n",
    "\n",
    "def loadData():\n",
    "    # for reading\n",
    "    \n",
    "    dbfile = open(\"examplepickle\", \"rb\")\n",
    "    db = pickle.load(dbfile)\n",
    "\n",
    "    print(db)\n",
    "    dbfile.close()\n",
    "\n",
    "if __name__ == '__main__':\n",
    "    storeData()\n",
    "    loadData()"
   ]
  },
  {
   "cell_type": "code",
   "execution_count": 108,
   "id": "f2180229",
   "metadata": {},
   "outputs": [
    {
     "name": "stdout",
     "output_type": "stream",
     "text": [
      "{\"name\": \"Infy\", \"shares\": 100, \"price\": 1000}\n"
     ]
    }
   ],
   "source": [
    "# json data\n",
    "import json\n",
    "data = {\n",
    "    \"name\": \"Infy\",\n",
    "    \"shares\": 100,\n",
    "    \"price\": 1000\n",
    "}\n",
    "\n",
    "json_str = json.dumps(data)\n",
    "print(json_str)"
   ]
  },
  {
   "cell_type": "code",
   "execution_count": 110,
   "id": "2e36fe84",
   "metadata": {},
   "outputs": [
    {
     "name": "stdout",
     "output_type": "stream",
     "text": [
      "{\"name\": \"Infy\", \"shares\": 100, \"price\": 1000}\n"
     ]
    }
   ],
   "source": [
    "data1 = json.loads(json_str)\n",
    "print(json_str)"
   ]
  },
  {
   "cell_type": "code",
   "execution_count": 121,
   "id": "f247f881",
   "metadata": {},
   "outputs": [],
   "source": [
    "with open(\"data.json\", \"w\") as f:\n",
    "    json.dump(data,f)"
   ]
  },
  {
   "cell_type": "code",
   "execution_count": 126,
   "id": "97da9124",
   "metadata": {},
   "outputs": [
    {
     "name": "stdout",
     "output_type": "stream",
     "text": [
      "{'name': 'Infy', 'shares': 100, 'price': 1000}\n"
     ]
    }
   ],
   "source": [
    "with open(\"data.json\", \"r\") as f:\n",
    "    g = json.load(f)\n",
    "    print(g)"
   ]
  },
  {
   "cell_type": "code",
   "execution_count": 123,
   "id": "720f6718",
   "metadata": {},
   "outputs": [
    {
     "data": {
      "text/plain": [
       "'false'"
      ]
     },
     "execution_count": 123,
     "metadata": {},
     "output_type": "execute_result"
    }
   ],
   "source": [
    "json.dumps(False)"
   ]
  },
  {
   "cell_type": "code",
   "execution_count": 125,
   "id": "66db0194",
   "metadata": {},
   "outputs": [],
   "source": [
    "d = '{\"a\":true, \"b\": \"Hello\", \"c\": null}'"
   ]
  },
  {
   "cell_type": "code",
   "execution_count": null,
   "id": "5e1ee22c",
   "metadata": {},
   "outputs": [],
   "source": []
  }
 ],
 "metadata": {
  "kernelspec": {
   "display_name": "Python 3 (ipykernel)",
   "language": "python",
   "name": "python3"
  },
  "language_info": {
   "codemirror_mode": {
    "name": "ipython",
    "version": 3
   },
   "file_extension": ".py",
   "mimetype": "text/x-python",
   "name": "python",
   "nbconvert_exporter": "python",
   "pygments_lexer": "ipython3",
   "version": "3.9.7"
  }
 },
 "nbformat": 4,
 "nbformat_minor": 5
}
