{
 "cells": [
  {
   "cell_type": "code",
   "execution_count": 1,
   "id": "f6ec194b",
   "metadata": {},
   "outputs": [
    {
     "data": {
      "text/plain": [
       "'a=10, b=4, c=88'"
      ]
     },
     "execution_count": 1,
     "metadata": {},
     "output_type": "execute_result"
    }
   ],
   "source": [
    "a = 10\n",
    "b = 4\n",
    "c = 88\n",
    "'a={}, b={}, c={}'.format(a,b,c)"
   ]
  },
  {
   "cell_type": "code",
   "execution_count": 2,
   "id": "f9523888",
   "metadata": {},
   "outputs": [
    {
     "data": {
      "text/plain": [
       "'python is fun'"
      ]
     },
     "execution_count": 2,
     "metadata": {},
     "output_type": "execute_result"
    }
   ],
   "source": [
    "'     python is fun    '.strip()"
   ]
  },
  {
   "cell_type": "code",
   "execution_count": 3,
   "id": "c3014159",
   "metadata": {},
   "outputs": [
    {
     "data": {
      "text/plain": [
       "True"
      ]
     },
     "execution_count": 3,
     "metadata": {},
     "output_type": "execute_result"
    }
   ],
   "source": [
    "s = \"malayalam\"\n",
    "s == s[::-1]"
   ]
  },
  {
   "cell_type": "code",
   "execution_count": 4,
   "id": "e1b84fdc",
   "metadata": {},
   "outputs": [
    {
     "data": {
      "text/plain": [
       "['abc', 'cu']"
      ]
     },
     "execution_count": 4,
     "metadata": {},
     "output_type": "execute_result"
    }
   ],
   "source": [
    "s = \"abc$cu\"\n",
    "s.split(\"$\")"
   ]
  },
  {
   "cell_type": "code",
   "execution_count": 5,
   "id": "ca49bb57",
   "metadata": {},
   "outputs": [
    {
     "data": {
      "text/plain": [
       "['my', 'name']"
      ]
     },
     "execution_count": 5,
     "metadata": {},
     "output_type": "execute_result"
    }
   ],
   "source": [
    "s = \"my name\"\n",
    "s.split()"
   ]
  },
  {
   "cell_type": "code",
   "execution_count": 7,
   "id": "8bad7289",
   "metadata": {},
   "outputs": [
    {
     "name": "stdout",
     "output_type": "stream",
     "text": [
      "\n",
      " Enter number5\n",
      "Factorial is:  120\n"
     ]
    }
   ],
   "source": [
    "n = int(input(\"\\n Enter number\"))\n",
    "fact = 1\n",
    "\n",
    "for i in range(1,n+1):\n",
    "    fact = fact * i\n",
    "\n",
    "print (\"Factorial is: \",end = \" \")\n",
    "print(fact)"
   ]
  },
  {
   "cell_type": "code",
   "execution_count": 8,
   "id": "a29db958",
   "metadata": {},
   "outputs": [],
   "source": [
    "d = {'a':100, 'b':20, 'c':30, 'e':20, 'k':{'x':10}, 'v':[1,2,3]}\n"
   ]
  },
  {
   "cell_type": "code",
   "execution_count": 9,
   "id": "a1975e27",
   "metadata": {},
   "outputs": [
    {
     "data": {
      "text/plain": [
       "[1, 2, 3]"
      ]
     },
     "execution_count": 9,
     "metadata": {},
     "output_type": "execute_result"
    }
   ],
   "source": [
    "d['v'][0:3]\n"
   ]
  },
  {
   "cell_type": "code",
   "execution_count": 10,
   "id": "880bdbf8",
   "metadata": {},
   "outputs": [],
   "source": [
    "tp = ((1,2,3),7,(45,66,67),(6,7,9),[1,2,44,6],{'1':1})"
   ]
  },
  {
   "cell_type": "code",
   "execution_count": 11,
   "id": "7fb85f31",
   "metadata": {},
   "outputs": [
    {
     "name": "stdout",
     "output_type": "stream",
     "text": [
      "(1, 2, 3)\n",
      "(45, 66, 67)\n",
      "(6, 7, 9)\n"
     ]
    }
   ],
   "source": [
    "for i in tp:\n",
    "    if isinstance(i, tuple):\n",
    "        print(i)"
   ]
  },
  {
   "cell_type": "code",
   "execution_count": 12,
   "id": "fbe31401",
   "metadata": {},
   "outputs": [
    {
     "name": "stdout",
     "output_type": "stream",
     "text": [
      "(1, 2, 3)\n",
      "1\n",
      "2\n",
      "3\n",
      "(45, 66, 67)\n",
      "45\n",
      "66\n",
      "67\n",
      "(6, 7, 9)\n",
      "6\n",
      "7\n",
      "9\n"
     ]
    }
   ],
   "source": [
    "for i in tp:\n",
    "    if isinstance(i, tuple):\n",
    "        print(i)\n",
    "        for j in i:\n",
    "            print(j)"
   ]
  },
  {
   "cell_type": "code",
   "execution_count": 13,
   "id": "8b2fd4c5",
   "metadata": {},
   "outputs": [
    {
     "data": {
      "text/plain": [
       "7"
      ]
     },
     "execution_count": 13,
     "metadata": {},
     "output_type": "execute_result"
    }
   ],
   "source": [
    "tp[1]"
   ]
  },
  {
   "cell_type": "code",
   "execution_count": 15,
   "id": "32108e4a",
   "metadata": {},
   "outputs": [
    {
     "data": {
      "text/plain": [
       "2798345094720"
      ]
     },
     "execution_count": 15,
     "metadata": {},
     "output_type": "execute_result"
    }
   ],
   "source": [
    "id(tp)"
   ]
  },
  {
   "cell_type": "code",
   "execution_count": 1,
   "id": "072f7fb0",
   "metadata": {},
   "outputs": [
    {
     "data": {
      "text/plain": [
       "'hi'"
      ]
     },
     "execution_count": 1,
     "metadata": {},
     "output_type": "execute_result"
    }
   ],
   "source": [
    "\"hi\""
   ]
  },
  {
   "cell_type": "code",
   "execution_count": 2,
   "id": "e46c1ecc",
   "metadata": {},
   "outputs": [
    {
     "name": "stdout",
     "output_type": "stream",
     "text": [
      "1. Create Employee records\n",
      "2. Update the Employee details\n",
      "3. Delete employee record\n",
      "4. Display\n",
      "5. Exit\n",
      "Enter your choice[1-5]: 1\n",
      "Enter the Employee name: Ayush\n",
      "Enter the Employee id: 101\n",
      "Enter the phone number: 222222222\n",
      "Technologies[comma seperated ed: C++, Python, .Net] C++,Java,Python\n",
      "1. Create Employee records\n",
      "2. Update the Employee details\n",
      "3. Delete employee record\n",
      "4. Display\n",
      "5. Exit\n",
      "Enter your choice[1-5]: 4\n",
      "{101: {'name': 'Ayush', 'phone': '222222222', 'tech': ['C++', 'Java', 'Python']}}\n",
      "1. Create Employee records\n",
      "2. Update the Employee details\n",
      "3. Delete employee record\n",
      "4. Display\n",
      "5. Exit\n",
      "Enter your choice[1-5]: 2\n",
      "Whoes details you want to update ?, Please enter the emp_id: 101\n",
      "name(Ayush)Ayush Srivastava\n",
      "phone(222222222)\n",
      "tech(['C++', 'Java', 'Python']).Net\n",
      "1. Create Employee records\n",
      "2. Update the Employee details\n",
      "3. Delete employee record\n",
      "4. Display\n",
      "5. Exit\n",
      "Enter your choice[1-5]: 4\n",
      "{101: {'name': 'Ayush Srivastava', 'phone': '222222222', 'tech': '.Net'}}\n",
      "1. Create Employee records\n",
      "2. Update the Employee details\n",
      "3. Delete employee record\n",
      "4. Display\n",
      "5. Exit\n",
      "Enter your choice[1-5]: 5\n"
     ]
    }
   ],
   "source": [
    "emp_info = {}\n",
    "\n",
    "while True:\n",
    "    print(\"1. Create Employee records\")\n",
    "    print(\"2. Update the Employee details\")\n",
    "    print(\"3. Delete employee record\")\n",
    "    print(\"4. Display\")\n",
    "    print(\"5. Exit\")\n",
    "    ch = int(input(\"Enter your choice[1-5]: \"))\n",
    "    if ch == 1:\n",
    "        name = input(\"Enter the Employee name: \")\n",
    "        emp_id = int(input(\"Enter the Employee id: \"))\n",
    "        ph = input(\"Enter the phone number: \")\n",
    "        tech = input(\"Technologies[comma seperated ed: C++, Python, .Net] \")\n",
    "        emp_info[emp_id] = {\"name\" : name, \"phone\" : ph, \"tech\" : tech.split(',')}\n",
    "    elif ch == 2:\n",
    "        who = int(input(\"Whoes details you want to update ?, Please enter the emp_id: \"))\n",
    "        rec = emp_info[who]\n",
    "        for field, value in rec.items():\n",
    "            new = input('{}({})'.format(field, value))\n",
    "            emp_info[who][field] = value if new == '' else new\n",
    "    elif ch == 3:\n",
    "        pass\n",
    "    elif ch == 4:\n",
    "        print(emp_info)\n",
    "    else:\n",
    "        break"
   ]
  },
  {
   "cell_type": "code",
   "execution_count": null,
   "id": "4c5f6e32",
   "metadata": {},
   "outputs": [],
   "source": [
    "emp_info = {}\n",
    "\n",
    "while True:\n",
    "    print(\"1. Create Employee records\")\n",
    "    print(\"2. Update the Employee details\")\n",
    "    print(\"3. Delete employee record\")\n",
    "    print(\"4. Display\")\n",
    "    print(\"5. Exit\")\n",
    "    ch = int(input(\"Enter your choice[1-5]: \"))\n",
    "    if ch == 1:\n",
    "        name = input(\"Enter the Employee name: \")\n",
    "        emp_id = int(input(\"Enter the Employee id: \"))\n",
    "        ph = input(\"Enter the phone number: \")\n",
    "        tech = input(\"Technologies[comma seperated ed: C++, Python, .Net] \")\n",
    "        emp_info[emp_id] = {\"name\" : name, \"phone\" : ph, \"tech\" : tech.split(',')}\n",
    "    elif ch == 2:\n",
    "        who = int(input(\"Whoes details you want to update ?, Please enter the emp_id: \"))\n",
    "        rec = emp_info[who]\n",
    "        for field, value in rec.items():\n",
    "            new = input('{}({})'.format(field, value))\n",
    "            emp_info[who][field] = value if new == '' else new\n",
    "    elif ch == 3:\n",
    "        who = int(input(\"Enter emp_id to delete Employee details: \"))\n",
    "        if who in emp_info:\n",
    "            del emp_info[who]\n",
    "            print(\"Deleted\")\n",
    "        else:\n",
    "            print(\"Record Not Found! \")\n",
    "    elif ch == 4:\n",
    "        print(emp_info)\n",
    "    else:\n",
    "        break"
   ]
  },
  {
   "cell_type": "code",
   "execution_count": null,
   "id": "e13cee39",
   "metadata": {},
   "outputs": [],
   "source": [
    "emp_info = {}\n",
    "\n",
    "while True:\n",
    "    print(\"1. Create Employee records\")\n",
    "    print(\"2. Update the Employee details\")\n",
    "    print(\"3. Delete employee record\")\n",
    "    print(\"4. Display\")\n",
    "    print(\"5. Exit\")\n",
    "    ch = int(input(\"Enter your choice[1-5]: \"))\n",
    "    if ch == 1:\n",
    "        name = input(\"Enter the Employee name: \")\n",
    "        emp_id = int(input(\"Enter the Employee id: \"))\n",
    "        ph = input(\"Enter the phone number: \")\n",
    "        tech = input(\"Technologies[comma seperated ed: C++, Python, .Net] \")\n",
    "        emp_info[emp_id] = {\"name\" : name, \"phone\" : ph, \"tech\" : tech.split(',')}\n",
    "    elif ch == 2:\n",
    "        who = int(input(\"Whoes details you want to update ?, Please enter the emp_id: \"))\n",
    "        rec = emp_info[who]\n",
    "        for field, value in rec.items():\n",
    "            new = input('{}({})'.format(field, value))\n",
    "            emp_info[who][field] = value if new == '' else new\n",
    "    elif ch == 3:\n",
    "        who = int(input(\"Enter emp_id to delete Employee details: \"))\n",
    "        if who in emp_info:\n",
    "            del emp_info[who]\n",
    "            print(\"Deleted\")\n",
    "        else:\n",
    "            print(\"Record Not Found! \")\n",
    "    elif ch == 4:\n",
    "        print(emp_info)\n",
    "    else:\n",
    "        break"
   ]
  },
  {
   "cell_type": "code",
   "execution_count": null,
   "id": "91cd6fc0",
   "metadata": {},
   "outputs": [],
   "source": []
  },
  {
   "cell_type": "code",
   "execution_count": null,
   "id": "f47d02b6",
   "metadata": {},
   "outputs": [],
   "source": [
    "emp_info = {}\n",
    "\n",
    "while True:\n",
    "    print(\"1. Create Employee records\")\n",
    "    print(\"2. Update the Employee details\")\n",
    "    print(\"3. Delete employee record\")\n",
    "    print(\"4. Display\")\n",
    "    print(\"5. Exit\")\n",
    "    ch = int(input(\"Enter your choice[1-5]: \"))\n",
    "    if ch == 1:\n",
    "        name = input(\"Enter the Employee name: \")\n",
    "        emp_id = int(input(\"Enter the Employee id: \"))\n",
    "        ph = input(\"Enter the phone number: \")\n",
    "        tech = input(\"Technologies[comma seperated ed: C++, Python, .Net] \")\n",
    "        emp_info[emp_id] = {\"name\" : name, \"phone\" : ph, \"tech\" : tech.split(',')}\n",
    "    elif ch == 2:\n",
    "        who = int(input(\"Whoes details you want to update ?, Please enter the emp_id: \"))\n",
    "        rec = emp_info[who]\n",
    "        for field, value in rec.items():\n",
    "            new = input('{}({})'.format(field, value))\n",
    "            emp_info[who][field] = value if new == '' else new\n",
    "    elif ch == 3:\n",
    "        who = int(input(\"Enter emp_id to delete Employee details: \"))\n",
    "        if who in emp_info:\n",
    "            del emp_info[who]\n",
    "            print(\"Deleted\")\n",
    "        else:\n",
    "            print(\"Record Not Found! \")\n",
    "    elif ch == 4:\n",
    "        print(emp_info)\n",
    "    else:\n",
    "        break"
   ]
  },
  {
   "cell_type": "code",
   "execution_count": null,
   "id": "7f5a5f7d",
   "metadata": {},
   "outputs": [],
   "source": [
    "{\"hi\"}"
   ]
  },
  {
   "cell_type": "code",
   "execution_count": null,
   "id": "545b0d05",
   "metadata": {},
   "outputs": [],
   "source": [
    "\"hi\""
   ]
  },
  {
   "cell_type": "code",
   "execution_count": null,
   "id": "7dce3bd2",
   "metadata": {},
   "outputs": [],
   "source": [
    "print(\"hello\")"
   ]
  },
  {
   "cell_type": "code",
   "execution_count": null,
   "id": "48f2d2f1",
   "metadata": {},
   "outputs": [],
   "source": [
    "s"
   ]
  },
  {
   "cell_type": "code",
   "execution_count": null,
   "id": "1524663a",
   "metadata": {},
   "outputs": [],
   "source": []
  },
  {
   "cell_type": "code",
   "execution_count": null,
   "id": "d09720c2",
   "metadata": {},
   "outputs": [],
   "source": []
  },
  {
   "cell_type": "code",
   "execution_count": null,
   "id": "eb810525",
   "metadata": {},
   "outputs": [],
   "source": []
  },
  {
   "cell_type": "code",
   "execution_count": null,
   "id": "2d9e9847",
   "metadata": {},
   "outputs": [],
   "source": []
  },
  {
   "cell_type": "code",
   "execution_count": null,
   "id": "a81a5685",
   "metadata": {},
   "outputs": [],
   "source": []
  },
  {
   "cell_type": "code",
   "execution_count": null,
   "id": "04b50edc",
   "metadata": {},
   "outputs": [],
   "source": []
  },
  {
   "cell_type": "code",
   "execution_count": null,
   "id": "015bd51b",
   "metadata": {},
   "outputs": [],
   "source": [
    "for i in range(10):\n",
    "    print(i)"
   ]
  },
  {
   "cell_type": "code",
   "execution_count": 1,
   "id": "a822d7f0",
   "metadata": {},
   "outputs": [
    {
     "data": {
      "text/plain": [
       "'hi'"
      ]
     },
     "execution_count": 1,
     "metadata": {},
     "output_type": "execute_result"
    }
   ],
   "source": [
    "\"hi\""
   ]
  },
  {
   "cell_type": "code",
   "execution_count": 2,
   "id": "001df926",
   "metadata": {},
   "outputs": [
    {
     "name": "stdout",
     "output_type": "stream",
     "text": [
      "1. Create Employee records\n",
      "2. Update the Employee details\n",
      "3. Delete employee record\n",
      "4. Display\n",
      "5. Exit\n",
      "Enter your choice[1-5]: 1\n",
      "Enter the Employee name: 1\n",
      "Enter the Employee id: Aks\n"
     ]
    },
    {
     "ename": "ValueError",
     "evalue": "invalid literal for int() with base 10: 'Aks'",
     "output_type": "error",
     "traceback": [
      "\u001b[1;31m---------------------------------------------------------------------------\u001b[0m",
      "\u001b[1;31mValueError\u001b[0m                                Traceback (most recent call last)",
      "\u001b[1;32mC:\\Users\\AYUSHS~1\\AppData\\Local\\Temp/ipykernel_9812/1436779385.py\u001b[0m in \u001b[0;36m<module>\u001b[1;34m\u001b[0m\n\u001b[0;32m     10\u001b[0m     \u001b[1;32mif\u001b[0m \u001b[0mch\u001b[0m \u001b[1;33m==\u001b[0m \u001b[1;36m1\u001b[0m\u001b[1;33m:\u001b[0m\u001b[1;33m\u001b[0m\u001b[1;33m\u001b[0m\u001b[0m\n\u001b[0;32m     11\u001b[0m         \u001b[0mname\u001b[0m \u001b[1;33m=\u001b[0m \u001b[0minput\u001b[0m\u001b[1;33m(\u001b[0m\u001b[1;34m\"Enter the Employee name: \"\u001b[0m\u001b[1;33m)\u001b[0m\u001b[1;33m\u001b[0m\u001b[1;33m\u001b[0m\u001b[0m\n\u001b[1;32m---> 12\u001b[1;33m         \u001b[0memp_id\u001b[0m \u001b[1;33m=\u001b[0m \u001b[0mint\u001b[0m\u001b[1;33m(\u001b[0m\u001b[0minput\u001b[0m\u001b[1;33m(\u001b[0m\u001b[1;34m\"Enter the Employee id: \"\u001b[0m\u001b[1;33m)\u001b[0m\u001b[1;33m)\u001b[0m\u001b[1;33m\u001b[0m\u001b[1;33m\u001b[0m\u001b[0m\n\u001b[0m\u001b[0;32m     13\u001b[0m         \u001b[0mph\u001b[0m \u001b[1;33m=\u001b[0m \u001b[0minput\u001b[0m\u001b[1;33m(\u001b[0m\u001b[1;34m\"Enter the phone number: \"\u001b[0m\u001b[1;33m)\u001b[0m\u001b[1;33m\u001b[0m\u001b[1;33m\u001b[0m\u001b[0m\n\u001b[0;32m     14\u001b[0m         \u001b[0mtech\u001b[0m \u001b[1;33m=\u001b[0m \u001b[0minput\u001b[0m\u001b[1;33m(\u001b[0m\u001b[1;34m\"Technologies[comma seperated ed: C++, Python, .Net] \"\u001b[0m\u001b[1;33m)\u001b[0m\u001b[1;33m\u001b[0m\u001b[1;33m\u001b[0m\u001b[0m\n",
      "\u001b[1;31mValueError\u001b[0m: invalid literal for int() with base 10: 'Aks'"
     ]
    }
   ],
   "source": [
    "emp_info = {}\n",
    "\n",
    "while True:\n",
    "    print(\"1. Create Employee records\")\n",
    "    print(\"2. Update the Employee details\")\n",
    "    print(\"3. Delete employee record\")\n",
    "    print(\"4. Display\")\n",
    "    print(\"5. Exit\")\n",
    "    ch = int(input(\"Enter your choice[1-5]: \"))\n",
    "    if ch == 1:\n",
    "        name = input(\"Enter the Employee name: \")\n",
    "        emp_id = int(input(\"Enter the Employee id: \"))\n",
    "        ph = input(\"Enter the phone number: \")\n",
    "        tech = input(\"Technologies[comma seperated ed: C++, Python, .Net] \")\n",
    "        emp_info[emp_id] = {\"name\" : name, \"phone\" : ph, \"tech\" : tech.split(',')}\n",
    "    elif ch == 2:\n",
    "        who = int(input(\"Whoes details you want to update ?, Please enter the emp_id: \"))\n",
    "        rec = emp_info[who]\n",
    "        for field, value in rec.items():\n",
    "            new = input('{}({})'.format(field, value))\n",
    "            emp_info[who][field] = value if new == '' else new\n",
    "    elif ch == 3:\n",
    "        who = int(input(\"Enter emp_id to delete Employee details: \"))\n",
    "        if who in emp_info:\n",
    "            del emp_info[who]\n",
    "            print(\"Deleted\")\n",
    "        else:\n",
    "            print(\"Record Not Found! \")\n",
    "    elif ch == 4:\n",
    "        print(emp_info)\n",
    "    else:\n",
    "        break"
   ]
  },
  {
   "cell_type": "code",
   "execution_count": 3,
   "id": "c8cbd237",
   "metadata": {},
   "outputs": [
    {
     "name": "stdout",
     "output_type": "stream",
     "text": [
      "1. Create Employee records\n",
      "2. Update the Employee details\n",
      "3. Delete employee record\n",
      "4. Display\n",
      "5. Exit\n",
      "Enter your choice[1-5]: 1\n",
      "Enter the Employee name: Aks\n",
      "Enter the Employee id: 111\n",
      "Enter the phone number: 323234\n",
      "Technologies[comma seperated ed: C++, Python, .Net] cpp,sdaf\n",
      "1. Create Employee records\n",
      "2. Update the Employee details\n",
      "3. Delete employee record\n",
      "4. Display\n",
      "5. Exit\n",
      "Enter your choice[1-5]: 4\n",
      "{111: {'name': 'Aks', 'phone': '323234', 'tech': ['cpp', 'sdaf']}}\n",
      "1. Create Employee records\n",
      "2. Update the Employee details\n",
      "3. Delete employee record\n",
      "4. Display\n",
      "5. Exit\n",
      "Enter your choice[1-5]: 3\n",
      "Enter emp_id to delete Employee details: 111\n",
      "Deleted\n",
      "1. Create Employee records\n",
      "2. Update the Employee details\n",
      "3. Delete employee record\n",
      "4. Display\n",
      "5. Exit\n",
      "Enter your choice[1-5]: 5\n"
     ]
    }
   ],
   "source": [
    "emp_info = {}\n",
    "\n",
    "while True:\n",
    "    print(\"1. Create Employee records\")\n",
    "    print(\"2. Update the Employee details\")\n",
    "    print(\"3. Delete employee record\")\n",
    "    print(\"4. Display\")\n",
    "    print(\"5. Exit\")\n",
    "    ch = int(input(\"Enter your choice[1-5]: \"))\n",
    "    if ch == 1:\n",
    "        name = input(\"Enter the Employee name: \")\n",
    "        emp_id = int(input(\"Enter the Employee id: \"))\n",
    "        ph = input(\"Enter the phone number: \")\n",
    "        tech = input(\"Technologies[comma seperated ed: C++, Python, .Net] \")\n",
    "        emp_info[emp_id] = {\"name\" : name, \"phone\" : ph, \"tech\" : tech.split(',')}\n",
    "    elif ch == 2:\n",
    "        who = int(input(\"Whoes details you want to update ?, Please enter the emp_id: \"))\n",
    "        rec = emp_info[who]\n",
    "        for field, value in rec.items():\n",
    "            new = input('{}({})'.format(field, value))\n",
    "            emp_info[who][field] = value if new == '' else new\n",
    "    elif ch == 3:\n",
    "        who = int(input(\"Enter emp_id to delete Employee details: \"))\n",
    "        if who in emp_info:\n",
    "            del emp_info[who]\n",
    "            print(\"Deleted\")\n",
    "        else:\n",
    "            print(\"Record Not Found! \")\n",
    "    elif ch == 4:\n",
    "        print(emp_info)\n",
    "    else:\n",
    "        break"
   ]
  },
  {
   "cell_type": "code",
   "execution_count": 4,
   "id": "c5903dd2",
   "metadata": {},
   "outputs": [
    {
     "data": {
      "text/plain": [
       "[0, 1, 2, 3, 4, 5, 6, 7, 8, 9]"
      ]
     },
     "execution_count": 4,
     "metadata": {},
     "output_type": "execute_result"
    }
   ],
   "source": [
    "[x for x in range(10)]"
   ]
  },
  {
   "cell_type": "code",
   "execution_count": 5,
   "id": "49ab39f4",
   "metadata": {},
   "outputs": [
    {
     "data": {
      "text/plain": [
       "[0, 2, 4, 6, 8]"
      ]
     },
     "execution_count": 5,
     "metadata": {},
     "output_type": "execute_result"
    }
   ],
   "source": [
    "[x for x in range(10) if x%2 == 0]"
   ]
  },
  {
   "cell_type": "code",
   "execution_count": 6,
   "id": "b37af67e",
   "metadata": {},
   "outputs": [
    {
     "name": "stdout",
     "output_type": "stream",
     "text": [
      "Enter a index for which you want to see square: 7\n",
      "64\n"
     ]
    }
   ],
   "source": [
    "n = [1,2,3,4,5,6,7,8]\n",
    "\n",
    "num = int(input(\"Enter a index for which you want to see square: \"))\n",
    "squares = []\n",
    "for num in n:\n",
    "    squares.append(num**2)\n",
    "idx_pos = n.index(num)\n",
    "print(squares[idx_pos])"
   ]
  },
  {
   "cell_type": "code",
   "execution_count": 8,
   "id": "979e31ff",
   "metadata": {},
   "outputs": [
    {
     "name": "stdout",
     "output_type": "stream",
     "text": [
      "Emter the index for which you want to see square: 4\n",
      "16\n"
     ]
    }
   ],
   "source": [
    "num = int(input(\"Emter the index for which you want to see square: \"))\n",
    "sq = [num**2 for num in n]\n",
    "idx_pos = n.index(num)\n",
    "print(sq[idx_pos])"
   ]
  },
  {
   "cell_type": "code",
   "execution_count": 9,
   "id": "29c4dd9e",
   "metadata": {},
   "outputs": [
    {
     "data": {
      "text/plain": [
       "{1: 1, 2: 4, 3: 9, 4: 16, 5: 25}"
      ]
     },
     "execution_count": 9,
     "metadata": {},
     "output_type": "execute_result"
    }
   ],
   "source": [
    "{k:k**2 for k in range(1,6)}"
   ]
  },
  {
   "cell_type": "code",
   "execution_count": 10,
   "id": "2d897595",
   "metadata": {},
   "outputs": [],
   "source": [
    "#convert tuple to dict\n",
    "\n",
    "# {0:45, 1:77, 2:109, 4:data, 4:[]}\n",
    "tp = (45, 77, 109, 'data', [\"raj\", \"rohan\"])"
   ]
  },
  {
   "cell_type": "code",
   "execution_count": 11,
   "id": "1873ba4f",
   "metadata": {},
   "outputs": [
    {
     "data": {
      "text/plain": [
       "{0: 45, 1: 77, 2: 109, 3: 'data', 4: ['raj', 'rohan']}"
      ]
     },
     "execution_count": 11,
     "metadata": {},
     "output_type": "execute_result"
    }
   ],
   "source": [
    "{k:tp[k] for k in range(len(tp))}"
   ]
  },
  {
   "cell_type": "code",
   "execution_count": 12,
   "id": "c20f54c9",
   "metadata": {},
   "outputs": [
    {
     "ename": "SyntaxError",
     "evalue": "invalid syntax (Temp/ipykernel_9812/317753760.py, line 3)",
     "output_type": "error",
     "traceback": [
      "\u001b[1;36m  File \u001b[1;32m\"C:\\Users\\AYUSHS~1\\AppData\\Local\\Temp/ipykernel_9812/317753760.py\"\u001b[1;36m, line \u001b[1;32m3\u001b[0m\n\u001b[1;33m    (tp.index(v):v for v in tp))\u001b[0m\n\u001b[1;37m                ^\u001b[0m\n\u001b[1;31mSyntaxError\u001b[0m\u001b[1;31m:\u001b[0m invalid syntax\n"
     ]
    }
   ],
   "source": [
    "# second logic\n",
    "\n",
    "(tp.index(v):v for v in tp))"
   ]
  },
  {
   "cell_type": "code",
   "execution_count": 13,
   "id": "a6050550",
   "metadata": {},
   "outputs": [
    {
     "data": {
      "text/plain": [
       "{0: 45, 1: 77, 2: 109, 3: 'data', 4: ['raj', 'rohan']}"
      ]
     },
     "execution_count": 13,
     "metadata": {},
     "output_type": "execute_result"
    }
   ],
   "source": [
    "{tp.index(v):v for v in tp}"
   ]
  },
  {
   "cell_type": "code",
   "execution_count": 14,
   "id": "93eeb47a",
   "metadata": {},
   "outputs": [
    {
     "name": "stdout",
     "output_type": "stream",
     "text": [
      "(['raj', 'rohan'], 'data', 109, 77, 45)\n"
     ]
    }
   ],
   "source": [
    "# reverse element of tuple\n",
    "\n",
    "new_tp = tp[::-1]\n",
    "print(new_tp)"
   ]
  },
  {
   "cell_type": "code",
   "execution_count": 15,
   "id": "63adcf52",
   "metadata": {},
   "outputs": [],
   "source": [
    "s = {2,4,6,8,90,88,92,91}"
   ]
  },
  {
   "cell_type": "code",
   "execution_count": 16,
   "id": "f4dbb614",
   "metadata": {},
   "outputs": [
    {
     "data": {
      "text/plain": [
       "set"
      ]
     },
     "execution_count": 16,
     "metadata": {},
     "output_type": "execute_result"
    }
   ],
   "source": [
    "type(s)"
   ]
  },
  {
   "cell_type": "code",
   "execution_count": 17,
   "id": "7fefbb84",
   "metadata": {},
   "outputs": [],
   "source": [
    "lst = [1,1,1,2,2,2,3,4,5]"
   ]
  },
  {
   "cell_type": "code",
   "execution_count": 18,
   "id": "ff81b471",
   "metadata": {},
   "outputs": [
    {
     "data": {
      "text/plain": [
       "[1, 1, 1, 2, 2, 2, 3, 4, 5]"
      ]
     },
     "execution_count": 18,
     "metadata": {},
     "output_type": "execute_result"
    }
   ],
   "source": [
    "lst"
   ]
  },
  {
   "cell_type": "code",
   "execution_count": 19,
   "id": "95fba223",
   "metadata": {},
   "outputs": [
    {
     "data": {
      "text/plain": [
       "{1, 2, 3, 4, 5}"
      ]
     },
     "execution_count": 19,
     "metadata": {},
     "output_type": "execute_result"
    }
   ],
   "source": [
    "set(lst)"
   ]
  },
  {
   "cell_type": "code",
   "execution_count": 20,
   "id": "17241733",
   "metadata": {},
   "outputs": [],
   "source": [
    "s.add(100)"
   ]
  },
  {
   "cell_type": "code",
   "execution_count": 21,
   "id": "b191f572",
   "metadata": {},
   "outputs": [
    {
     "data": {
      "text/plain": [
       "{2, 4, 6, 8, 88, 90, 91, 92, 100}"
      ]
     },
     "execution_count": 21,
     "metadata": {},
     "output_type": "execute_result"
    }
   ],
   "source": [
    "s"
   ]
  },
  {
   "cell_type": "code",
   "execution_count": 22,
   "id": "bd0d6409",
   "metadata": {},
   "outputs": [],
   "source": [
    "lst = [34,6,7,5,3,2,(88,),4,5,7,8,9,4,3,'hi',5,(7,97,7),4,2]"
   ]
  },
  {
   "cell_type": "code",
   "execution_count": 23,
   "id": "7872a53f",
   "metadata": {},
   "outputs": [
    {
     "data": {
      "text/plain": [
       "{(7, 97, 7), (88,), 2, 3, 34, 4, 5, 6, 7, 8, 9, 'hi'}"
      ]
     },
     "execution_count": 23,
     "metadata": {},
     "output_type": "execute_result"
    }
   ],
   "source": [
    "set(lst)"
   ]
  },
  {
   "cell_type": "code",
   "execution_count": 24,
   "id": "73e35029",
   "metadata": {},
   "outputs": [
    {
     "data": {
      "text/plain": [
       "{1, 2, 3, 4, 5, 6, 7, 8, 9, 10, 11, 12}"
      ]
     },
     "execution_count": 24,
     "metadata": {},
     "output_type": "execute_result"
    }
   ],
   "source": [
    "s1 = {1,2,3,4,5,6,7,8}\n",
    "s2 = {5,6,7,8,9,10,11,12}\n",
    "\n",
    "s1.union(s2)"
   ]
  },
  {
   "cell_type": "code",
   "execution_count": 25,
   "id": "58aad2d7",
   "metadata": {},
   "outputs": [
    {
     "data": {
      "text/plain": [
       "{1, 2, 3, 4}"
      ]
     },
     "execution_count": 25,
     "metadata": {},
     "output_type": "execute_result"
    }
   ],
   "source": [
    "s1.difference(s2)"
   ]
  },
  {
   "cell_type": "code",
   "execution_count": 26,
   "id": "5297b0d8",
   "metadata": {},
   "outputs": [
    {
     "data": {
      "text/plain": [
       "{9, 10, 11, 12}"
      ]
     },
     "execution_count": 26,
     "metadata": {},
     "output_type": "execute_result"
    }
   ],
   "source": [
    "s2.difference(s1)"
   ]
  },
  {
   "cell_type": "code",
   "execution_count": 27,
   "id": "a6536eff",
   "metadata": {},
   "outputs": [
    {
     "data": {
      "text/plain": [
       "{5, 6, 7, 8}"
      ]
     },
     "execution_count": 27,
     "metadata": {},
     "output_type": "execute_result"
    }
   ],
   "source": [
    "s1.intersection(s2)"
   ]
  },
  {
   "cell_type": "code",
   "execution_count": 28,
   "id": "6f7ed0ae",
   "metadata": {},
   "outputs": [
    {
     "data": {
      "text/plain": [
       "{1, 2, 3, 4}"
      ]
     },
     "execution_count": 28,
     "metadata": {},
     "output_type": "execute_result"
    }
   ],
   "source": [
    "s1-s2"
   ]
  },
  {
   "cell_type": "code",
   "execution_count": 30,
   "id": "75a6126e",
   "metadata": {},
   "outputs": [
    {
     "data": {
      "text/plain": [
       "{9, 10, 11, 12}"
      ]
     },
     "execution_count": 30,
     "metadata": {},
     "output_type": "execute_result"
    }
   ],
   "source": [
    "s2-s1"
   ]
  },
  {
   "cell_type": "code",
   "execution_count": 31,
   "id": "4b33dc07",
   "metadata": {},
   "outputs": [
    {
     "data": {
      "text/plain": [
       "1"
      ]
     },
     "execution_count": 31,
     "metadata": {},
     "output_type": "execute_result"
    }
   ],
   "source": [
    "s1.pop()"
   ]
  },
  {
   "cell_type": "code",
   "execution_count": 32,
   "id": "a364311b",
   "metadata": {},
   "outputs": [
    {
     "data": {
      "text/plain": [
       "['__and__',\n",
       " '__class__',\n",
       " '__class_getitem__',\n",
       " '__contains__',\n",
       " '__delattr__',\n",
       " '__dir__',\n",
       " '__doc__',\n",
       " '__eq__',\n",
       " '__format__',\n",
       " '__ge__',\n",
       " '__getattribute__',\n",
       " '__gt__',\n",
       " '__hash__',\n",
       " '__iand__',\n",
       " '__init__',\n",
       " '__init_subclass__',\n",
       " '__ior__',\n",
       " '__isub__',\n",
       " '__iter__',\n",
       " '__ixor__',\n",
       " '__le__',\n",
       " '__len__',\n",
       " '__lt__',\n",
       " '__ne__',\n",
       " '__new__',\n",
       " '__or__',\n",
       " '__rand__',\n",
       " '__reduce__',\n",
       " '__reduce_ex__',\n",
       " '__repr__',\n",
       " '__ror__',\n",
       " '__rsub__',\n",
       " '__rxor__',\n",
       " '__setattr__',\n",
       " '__sizeof__',\n",
       " '__str__',\n",
       " '__sub__',\n",
       " '__subclasshook__',\n",
       " '__xor__',\n",
       " 'add',\n",
       " 'clear',\n",
       " 'copy',\n",
       " 'difference',\n",
       " 'difference_update',\n",
       " 'discard',\n",
       " 'intersection',\n",
       " 'intersection_update',\n",
       " 'isdisjoint',\n",
       " 'issubset',\n",
       " 'issuperset',\n",
       " 'pop',\n",
       " 'remove',\n",
       " 'symmetric_difference',\n",
       " 'symmetric_difference_update',\n",
       " 'union',\n",
       " 'update']"
      ]
     },
     "execution_count": 32,
     "metadata": {},
     "output_type": "execute_result"
    }
   ],
   "source": [
    "dir(s1)"
   ]
  },
  {
   "cell_type": "code",
   "execution_count": 35,
   "id": "09c3940d",
   "metadata": {},
   "outputs": [],
   "source": [
    "s1.remove(2)"
   ]
  },
  {
   "cell_type": "code",
   "execution_count": 36,
   "id": "a801bf34",
   "metadata": {},
   "outputs": [
    {
     "data": {
      "text/plain": [
       "{3, 4, 5, 6, 7, 8}"
      ]
     },
     "execution_count": 36,
     "metadata": {},
     "output_type": "execute_result"
    }
   ],
   "source": [
    "s1"
   ]
  },
  {
   "cell_type": "code",
   "execution_count": 37,
   "id": "5db97687",
   "metadata": {},
   "outputs": [],
   "source": [
    "s3 = {5,6}"
   ]
  },
  {
   "cell_type": "code",
   "execution_count": 38,
   "id": "6c701ac0",
   "metadata": {},
   "outputs": [
    {
     "data": {
      "text/plain": [
       "True"
      ]
     },
     "execution_count": 38,
     "metadata": {},
     "output_type": "execute_result"
    }
   ],
   "source": [
    "s3.issubset(s1)"
   ]
  },
  {
   "cell_type": "code",
   "execution_count": 39,
   "id": "3bc01873",
   "metadata": {},
   "outputs": [
    {
     "data": {
      "text/plain": [
       "False"
      ]
     },
     "execution_count": 39,
     "metadata": {},
     "output_type": "execute_result"
    }
   ],
   "source": [
    "s1.issubset(s3)"
   ]
  },
  {
   "cell_type": "code",
   "execution_count": 40,
   "id": "0a728c30",
   "metadata": {},
   "outputs": [
    {
     "data": {
      "text/plain": [
       "True"
      ]
     },
     "execution_count": 40,
     "metadata": {},
     "output_type": "execute_result"
    }
   ],
   "source": [
    "s1.issuperset(s3)"
   ]
  },
  {
   "cell_type": "code",
   "execution_count": 42,
   "id": "745902f5",
   "metadata": {},
   "outputs": [],
   "source": [
    "def greeting(name, age):\n",
    "    print(\"hello %s\" % name)\n",
    "    print(\"Welcome to python\")\n",
    "    print(\"Your age is %s\" %age)"
   ]
  },
  {
   "cell_type": "code",
   "execution_count": 43,
   "id": "7c02f369",
   "metadata": {},
   "outputs": [
    {
     "name": "stdout",
     "output_type": "stream",
     "text": [
      "hello ayush\n",
      "Welcome to python\n",
      "Your age is 22\n"
     ]
    }
   ],
   "source": [
    "greeting('ayush',22)"
   ]
  },
  {
   "cell_type": "code",
   "execution_count": 45,
   "id": "df955de6",
   "metadata": {},
   "outputs": [],
   "source": [
    "def greeting(name, age):\n",
    "    print(\"hello %s\" % name)\n",
    "    print(\"Welcome to python\")\n",
    "    if isinstance(age, (int, float)):\n",
    "        print(age)"
   ]
  },
  {
   "cell_type": "code",
   "execution_count": 47,
   "id": "131e28b4",
   "metadata": {},
   "outputs": [
    {
     "name": "stdout",
     "output_type": "stream",
     "text": [
      "hello aks\n",
      "Welcome to python\n",
      "11\n"
     ]
    }
   ],
   "source": [
    "greeting('aks',11)"
   ]
  },
  {
   "cell_type": "code",
   "execution_count": 48,
   "id": "c3b924aa",
   "metadata": {},
   "outputs": [],
   "source": [
    "def greeting(name = '',age =25):\n",
    "    \"\"\"\n",
    "    this function is responsible to greet people\n",
    "    \"\"\"\n",
    "    print(\"Hello {}\".format(name))\n",
    "    print(\"Welcome to python\")\n",
    "    if isinstance(age,(int, float)):\n",
    "        print(\"age\", age)"
   ]
  },
  {
   "cell_type": "code",
   "execution_count": 49,
   "id": "ae2fbf52",
   "metadata": {},
   "outputs": [
    {
     "name": "stdout",
     "output_type": "stream",
     "text": [
      "Hello ayush\n",
      "Welcome to python\n",
      "age 25\n"
     ]
    }
   ],
   "source": [
    "greeting('ayush')"
   ]
  },
  {
   "cell_type": "code",
   "execution_count": 50,
   "id": "c91a49a4",
   "metadata": {},
   "outputs": [],
   "source": [
    "def greeting(name = '',age =25):\n",
    "    \"\"\"\n",
    "    this function is responsible to greet people\n",
    "    \n",
    "    \"\"\"\n",
    "    print(\"Hello {}\".format(name))\n",
    "    print(\"Welcome to python\")\n",
    "    if isinstance(age,(int, float)):\n",
    "        print(\"age\", age)"
   ]
  },
  {
   "cell_type": "code",
   "execution_count": 51,
   "id": "a40d8b8d",
   "metadata": {},
   "outputs": [
    {
     "name": "stdout",
     "output_type": "stream",
     "text": [
      "Hello aks\n",
      "Welcome to python\n",
      "age 21\n"
     ]
    }
   ],
   "source": [
    "greeting('aks',21)"
   ]
  },
  {
   "cell_type": "code",
   "execution_count": 52,
   "id": "6c1ba554",
   "metadata": {},
   "outputs": [
    {
     "name": "stdout",
     "output_type": "stream",
     "text": [
      "Hello 21\n",
      "Welcome to python\n"
     ]
    }
   ],
   "source": [
    "greeting(21,'aks')"
   ]
  },
  {
   "cell_type": "code",
   "execution_count": 54,
   "id": "55a6fe11",
   "metadata": {},
   "outputs": [
    {
     "name": "stdout",
     "output_type": "stream",
     "text": [
      "Hello aks\n",
      "Welcome to python\n",
      "age 21\n"
     ]
    }
   ],
   "source": [
    "greeting(age = 21, name = \"aks\")"
   ]
  },
  {
   "cell_type": "code",
   "execution_count": 55,
   "id": "2c4ab502",
   "metadata": {},
   "outputs": [],
   "source": [
    "def greeting(name, age, phone=\"00000\", address=\"pune\"):\n",
    "    \"\"\"\n",
    "    this function is responsible to greet people\n",
    "    \n",
    "    \"\"\"\n",
    "    print(\"Name {}\".format(name))\n",
    "    print(\"age {}\".format(age))\n",
    "    print(\"Phone {}\".format(phone))\n",
    "    print(\"address %s\" % address)"
   ]
  },
  {
   "cell_type": "code",
   "execution_count": 56,
   "id": "261926f4",
   "metadata": {},
   "outputs": [
    {
     "name": "stdout",
     "output_type": "stream",
     "text": [
      "Name aks\n",
      "age 25\n",
      "Phone 00000\n",
      "address pune\n"
     ]
    }
   ],
   "source": [
    "greeting('aks',25)"
   ]
  },
  {
   "cell_type": "code",
   "execution_count": 57,
   "id": "a36dee15",
   "metadata": {},
   "outputs": [
    {
     "name": "stdout",
     "output_type": "stream",
     "text": [
      "Name aks\n",
      "age 25\n",
      "Phone 1221121\n",
      "address Lko\n"
     ]
    }
   ],
   "source": [
    "greeting('aks',25,1221121,'Lko')"
   ]
  },
  {
   "cell_type": "code",
   "execution_count": 61,
   "id": "8c517b9c",
   "metadata": {},
   "outputs": [],
   "source": [
    "def greeting(*args, phone = \"11111\", address = \"Pune\"):\n",
    "    print(\"Complete args {}\".format(args))\n",
    "    print(\"Hello {}\".format(args[0]))\n",
    "    print(\"age {}\".format(args[1]))\n",
    "    print(\"phone \", phone)\n",
    "    print(\"address \", address)"
   ]
  },
  {
   "cell_type": "code",
   "execution_count": 59,
   "id": "7cd15bea",
   "metadata": {},
   "outputs": [
    {
     "ename": "TypeError",
     "evalue": "greeting() got an unexpected keyword argument 'Address'",
     "output_type": "error",
     "traceback": [
      "\u001b[1;31m---------------------------------------------------------------------------\u001b[0m",
      "\u001b[1;31mTypeError\u001b[0m                                 Traceback (most recent call last)",
      "\u001b[1;32mC:\\Users\\AYUSHS~1\\AppData\\Local\\Temp/ipykernel_9812/2380246951.py\u001b[0m in \u001b[0;36m<module>\u001b[1;34m\u001b[0m\n\u001b[1;32m----> 1\u001b[1;33m \u001b[0mgreeting\u001b[0m\u001b[1;33m(\u001b[0m\u001b[1;34m'aks'\u001b[0m\u001b[1;33m,\u001b[0m\u001b[1;36m18\u001b[0m\u001b[1;33m,\u001b[0m\u001b[0mphone\u001b[0m\u001b[1;33m=\u001b[0m\u001b[1;34m'00000'\u001b[0m\u001b[1;33m,\u001b[0m \u001b[0mAddress\u001b[0m \u001b[1;33m=\u001b[0m \u001b[1;34m'lko'\u001b[0m\u001b[1;33m)\u001b[0m\u001b[1;33m\u001b[0m\u001b[1;33m\u001b[0m\u001b[0m\n\u001b[0m",
      "\u001b[1;31mTypeError\u001b[0m: greeting() got an unexpected keyword argument 'Address'"
     ]
    }
   ],
   "source": [
    "greeting('aks',18,phone='00000', Address = 'lko')"
   ]
  },
  {
   "cell_type": "code",
   "execution_count": 2,
   "id": "827511cf",
   "metadata": {},
   "outputs": [],
   "source": [
    "def greeting(*args, phone = \"11111\", address = \"Pune\"):\n",
    "    print(\"Complete args {}\".format(args))\n",
    "    print(\"Hello {}\".format(args[0]))\n",
    "    print(\"age {}\".format(args[1]))\n",
    "    print(\"phone \", phone)\n",
    "    print(\"address \", address)"
   ]
  },
  {
   "cell_type": "code",
   "execution_count": 3,
   "id": "8db8c249",
   "metadata": {},
   "outputs": [
    {
     "name": "stdout",
     "output_type": "stream",
     "text": [
      "Complete args ('aks', 18)\n",
      "Hello aks\n",
      "age 18\n",
      "phone  00000\n",
      "address  lko\n"
     ]
    }
   ],
   "source": [
    "greeting('aks',18,phone='00000', address = 'lko')"
   ]
  },
  {
   "cell_type": "code",
   "execution_count": 4,
   "id": "60354935",
   "metadata": {},
   "outputs": [
    {
     "name": "stdout",
     "output_type": "stream",
     "text": [
      "Complete args ('aks', 18)\n",
      "Hello aks\n",
      "age 18\n",
      "phone  00000\n",
      "address  lko\n"
     ]
    }
   ],
   "source": [
    "greeting('aks',18,phone='00000', address = \"lko\")"
   ]
  },
  {
   "cell_type": "code",
   "execution_count": 65,
   "id": "bb541348",
   "metadata": {},
   "outputs": [
    {
     "name": "stdout",
     "output_type": "stream",
     "text": [
      "Complete args ('aks', 18)\n",
      "Hello aks\n",
      "age 18\n",
      "phone  00000\n",
      "address  lko\n"
     ]
    }
   ],
   "source": [
    "greeting('aks',18,phone='00000', address = 'lko')"
   ]
  },
  {
   "cell_type": "code",
   "execution_count": 66,
   "id": "749347cc",
   "metadata": {},
   "outputs": [
    {
     "name": "stdout",
     "output_type": "stream",
     "text": [
      "Complete args ('aks', 18, 'rohana', '101', 'name', {'1': 1})\n",
      "Hello aks\n",
      "age 18\n",
      "phone  00000\n",
      "address  lko\n"
     ]
    }
   ],
   "source": [
    "greeting('aks',18,'rohana',\"101\",\"name\",{\"1\":1},phone='00000', address = 'lko')"
   ]
  },
  {
   "cell_type": "code",
   "execution_count": 67,
   "id": "04123c35",
   "metadata": {},
   "outputs": [],
   "source": [
    "def get_data(name, *args, phone=\"0000\", address = \"Pune\"):\n",
    "    print(\"name\", name)\n",
    "    print(\"args\", args)\n",
    "    print(\"phone\", phone)\n",
    "    print(\"address\", address)"
   ]
  },
  {
   "cell_type": "code",
   "execution_count": 68,
   "id": "29e52c64",
   "metadata": {},
   "outputs": [
    {
     "name": "stdout",
     "output_type": "stream",
     "text": [
      "name aks\n",
      "args ('IT', 'Lucknow')\n",
      "phone 123324\n",
      "address lko\n"
     ]
    }
   ],
   "source": [
    "get_data('aks',\"IT\", \"Lucknow\", phone=\"123324\", address = \"lko\")"
   ]
  },
  {
   "cell_type": "code",
   "execution_count": 69,
   "id": "de36c853",
   "metadata": {},
   "outputs": [],
   "source": [
    "def get_data(name, *args, **kwargs):\n",
    "    print(\"name \", name)\n",
    "    print(\"args \", args)\n",
    "    print(\"kwargs \", kwargs)"
   ]
  },
  {
   "cell_type": "code",
   "execution_count": 70,
   "id": "9c394fb8",
   "metadata": {},
   "outputs": [
    {
     "name": "stdout",
     "output_type": "stream",
     "text": [
      "name  aks\n",
      "args  (90904, 'IT', 'Banglore')\n",
      "kwargs  {'phone': '1214233', 'location': 'Pune'}\n"
     ]
    }
   ],
   "source": [
    "get_data('aks', 90904, \"IT\", \"Banglore\", phone = \"1214233\", location = \"Pune\")"
   ]
  },
  {
   "cell_type": "code",
   "execution_count": 73,
   "id": "495230c2",
   "metadata": {},
   "outputs": [],
   "source": [
    "def get_data(name, *args, **kwargs):\n",
    "    print(\"name \", name)\n",
    "    print(\"args \", args)\n",
    "    print(\"Phone \", kwargs['phone'])"
   ]
  },
  {
   "cell_type": "code",
   "execution_count": 72,
   "id": "51f50357",
   "metadata": {},
   "outputs": [
    {
     "name": "stdout",
     "output_type": "stream",
     "text": [
      "name  aks\n",
      "args  (90904, 'IT', 'Banglore')\n",
      "kwargs  1214233\n"
     ]
    }
   ],
   "source": [
    "get_data('aks', 90904, \"IT\", \"Banglore\", phone = \"1214233\", location = \"Pune\")"
   ]
  },
  {
   "cell_type": "code",
   "execution_count": 74,
   "id": "78fd5fc2",
   "metadata": {},
   "outputs": [
    {
     "name": "stdout",
     "output_type": "stream",
     "text": [
      "name  aks\n",
      "args  (90904, 'IT', 'Banglore')\n",
      "Phone  1214233\n"
     ]
    }
   ],
   "source": [
    "get_data('aks', 90904, \"IT\", \"Banglore\", phone = \"1214233\", location = \"Pune\")"
   ]
  },
  {
   "cell_type": "code",
   "execution_count": 75,
   "id": "fa71f4fe",
   "metadata": {},
   "outputs": [],
   "source": [
    "def get_data(name, *args, dis = 100, **kwargs):\n",
    "    print(\"name \", name)\n",
    "    print(\"args \", args)\n",
    "    print(\"Phone \", kwargs['phone'])\n",
    "    print(\"Discount \", dis)"
   ]
  },
  {
   "cell_type": "code",
   "execution_count": 76,
   "id": "38c64f6a",
   "metadata": {},
   "outputs": [
    {
     "name": "stdout",
     "output_type": "stream",
     "text": [
      "name  aks\n",
      "args  (90904, 'IT', 'Banglore')\n",
      "Phone  1214233\n",
      "Discount  200\n"
     ]
    }
   ],
   "source": [
    "get_data('aks', 90904, \"IT\", \"Banglore\",dis = 200, phone = \"1214233\", location = \"Pune\")"
   ]
  },
  {
   "cell_type": "code",
   "execution_count": 5,
   "id": "a9e88eed",
   "metadata": {},
   "outputs": [
    {
     "name": "stdout",
     "output_type": "stream",
     "text": [
      "Enter number: 10\n",
      "1\n",
      "0\n"
     ]
    }
   ],
   "source": [
    "i=1\n",
    "n = input(\"Enter number: \")\n",
    "for i in n:\n",
    "    print(i)"
   ]
  },
  {
   "cell_type": "code",
   "execution_count": 86,
   "id": "8548dab0",
   "metadata": {},
   "outputs": [],
   "source": [
    "def dis_natural_no(n):\n",
    "    i=1\n",
    "    for i in range(1,n+1):\n",
    "        print(i)"
   ]
  },
  {
   "cell_type": "code",
   "execution_count": 85,
   "id": "8415edd9",
   "metadata": {},
   "outputs": [
    {
     "name": "stdout",
     "output_type": "stream",
     "text": [
      "1\n",
      "2\n",
      "3\n",
      "4\n",
      "5\n"
     ]
    }
   ],
   "source": [
    "dis_natural_no(5)"
   ]
  },
  {
   "cell_type": "code",
   "execution_count": 89,
   "id": "0992d03a",
   "metadata": {},
   "outputs": [
    {
     "name": "stdout",
     "output_type": "stream",
     "text": [
      "1\n",
      "2\n",
      "3\n",
      "4\n",
      "5\n",
      "6\n",
      "7\n"
     ]
    }
   ],
   "source": [
    "def dis_natural_no(n):\n",
    "    i=1\n",
    "    for i in range(1,n+1):\n",
    "        print(i)\n",
    "dis_natural_no(7)"
   ]
  },
  {
   "cell_type": "code",
   "execution_count": 88,
   "id": "e1617fc3",
   "metadata": {},
   "outputs": [
    {
     "name": "stdout",
     "output_type": "stream",
     "text": [
      "1\n",
      "2\n",
      "3\n",
      "4\n",
      "5\n",
      "6\n",
      "7\n",
      "8\n",
      "9\n",
      "10\n"
     ]
    }
   ],
   "source": [
    "dis_natural_no(10)"
   ]
  },
  {
   "cell_type": "code",
   "execution_count": 90,
   "id": "01395dd8",
   "metadata": {},
   "outputs": [],
   "source": [
    "def square(x):\n",
    "    return x**2"
   ]
  },
  {
   "cell_type": "code",
   "execution_count": 91,
   "id": "2b0eec32",
   "metadata": {},
   "outputs": [
    {
     "data": {
      "text/plain": [
       "100"
      ]
     },
     "execution_count": 91,
     "metadata": {},
     "output_type": "execute_result"
    }
   ],
   "source": [
    "square(10)"
   ]
  },
  {
   "cell_type": "code",
   "execution_count": 92,
   "id": "0b4b2a8b",
   "metadata": {},
   "outputs": [],
   "source": [
    "# lambda args: expression\n",
    "\n",
    "x = lambda x: x**2"
   ]
  },
  {
   "cell_type": "code",
   "execution_count": 93,
   "id": "d27d0f61",
   "metadata": {},
   "outputs": [
    {
     "data": {
      "text/plain": [
       "100"
      ]
     },
     "execution_count": 93,
     "metadata": {},
     "output_type": "execute_result"
    }
   ],
   "source": [
    "x(10)"
   ]
  },
  {
   "cell_type": "code",
   "execution_count": 94,
   "id": "2acea7fc",
   "metadata": {},
   "outputs": [
    {
     "data": {
      "text/plain": [
       "[4, 16, 25, 64, 81]"
      ]
     },
     "execution_count": 94,
     "metadata": {},
     "output_type": "execute_result"
    }
   ],
   "source": [
    "list(map(square,(2,4,5,8,9)))"
   ]
  },
  {
   "cell_type": "code",
   "execution_count": 95,
   "id": "9680d301",
   "metadata": {},
   "outputs": [],
   "source": [
    "# map(function, [], ())"
   ]
  },
  {
   "cell_type": "code",
   "execution_count": 96,
   "id": "c141fc0d",
   "metadata": {},
   "outputs": [
    {
     "data": {
      "text/plain": [
       "['PYTHON', 'IS', 'FUN']"
      ]
     },
     "execution_count": 96,
     "metadata": {},
     "output_type": "execute_result"
    }
   ],
   "source": [
    "list(map(str.upper,['python', 'is', 'fun']))"
   ]
  },
  {
   "cell_type": "code",
   "execution_count": 97,
   "id": "f296796c",
   "metadata": {},
   "outputs": [
    {
     "name": "stdout",
     "output_type": "stream",
     "text": [
      "PYTHON\n",
      "IS\n",
      "FUN\n"
     ]
    }
   ],
   "source": [
    "for w in ['python', 'is', 'fun']:\n",
    "    print(w.upper())"
   ]
  },
  {
   "cell_type": "code",
   "execution_count": 98,
   "id": "b8c66bcb",
   "metadata": {},
   "outputs": [],
   "source": [
    "def func():\n",
    "    x1=4\n",
    "    print(x1)"
   ]
  },
  {
   "cell_type": "code",
   "execution_count": 99,
   "id": "3a5163e9",
   "metadata": {},
   "outputs": [
    {
     "name": "stdout",
     "output_type": "stream",
     "text": [
      "4\n"
     ]
    }
   ],
   "source": [
    "func()"
   ]
  },
  {
   "cell_type": "code",
   "execution_count": 100,
   "id": "6d5e1c7a",
   "metadata": {},
   "outputs": [],
   "source": [
    "def func():\n",
    "    global x1\n",
    "    x1=4\n",
    "    print(x1)"
   ]
  },
  {
   "cell_type": "code",
   "execution_count": 101,
   "id": "00615d07",
   "metadata": {},
   "outputs": [
    {
     "name": "stdout",
     "output_type": "stream",
     "text": [
      "4\n"
     ]
    }
   ],
   "source": [
    "func()"
   ]
  },
  {
   "cell_type": "code",
   "execution_count": 102,
   "id": "70a44de0",
   "metadata": {},
   "outputs": [
    {
     "data": {
      "text/plain": [
       "4"
      ]
     },
     "execution_count": 102,
     "metadata": {},
     "output_type": "execute_result"
    }
   ],
   "source": [
    "x1"
   ]
  },
  {
   "cell_type": "code",
   "execution_count": 103,
   "id": "65616ecb",
   "metadata": {},
   "outputs": [],
   "source": [
    "def outer():\n",
    "    i=10\n",
    "    j=8\n",
    "    def inner():\n",
    "        print(i)\n",
    "        print(\"i am inner function\")\n",
    "    def inner2():\n",
    "        print(j)\n",
    "        print(\"second inner\")\n",
    "    inner()\n",
    "    inner2()\n",
    "    return inner, inner2"
   ]
  },
  {
   "cell_type": "code",
   "execution_count": 104,
   "id": "6a9fd62b",
   "metadata": {},
   "outputs": [
    {
     "name": "stdout",
     "output_type": "stream",
     "text": [
      "10\n",
      "i am inner function\n",
      "8\n",
      "second inner\n"
     ]
    }
   ],
   "source": [
    "p = outer()"
   ]
  },
  {
   "cell_type": "code",
   "execution_count": 105,
   "id": "1fe2aa0e",
   "metadata": {},
   "outputs": [
    {
     "name": "stdout",
     "output_type": "stream",
     "text": [
      "10\n",
      "i am inner function\n"
     ]
    }
   ],
   "source": [
    "p[0]()"
   ]
  },
  {
   "cell_type": "code",
   "execution_count": 106,
   "id": "76e7e76e",
   "metadata": {},
   "outputs": [
    {
     "name": "stdout",
     "output_type": "stream",
     "text": [
      "8\n",
      "second inner\n"
     ]
    }
   ],
   "source": [
    "p[1]()"
   ]
  },
  {
   "cell_type": "code",
   "execution_count": 109,
   "id": "a02cf77b",
   "metadata": {},
   "outputs": [
    {
     "data": {
      "text/plain": [
       "['__add__',\n",
       " '__class__',\n",
       " '__class_getitem__',\n",
       " '__contains__',\n",
       " '__delattr__',\n",
       " '__dir__',\n",
       " '__doc__',\n",
       " '__eq__',\n",
       " '__format__',\n",
       " '__ge__',\n",
       " '__getattribute__',\n",
       " '__getitem__',\n",
       " '__getnewargs__',\n",
       " '__gt__',\n",
       " '__hash__',\n",
       " '__init__',\n",
       " '__init_subclass__',\n",
       " '__iter__',\n",
       " '__le__',\n",
       " '__len__',\n",
       " '__lt__',\n",
       " '__mul__',\n",
       " '__ne__',\n",
       " '__new__',\n",
       " '__reduce__',\n",
       " '__reduce_ex__',\n",
       " '__repr__',\n",
       " '__rmul__',\n",
       " '__setattr__',\n",
       " '__sizeof__',\n",
       " '__str__',\n",
       " '__subclasshook__',\n",
       " 'count',\n",
       " 'index']"
      ]
     },
     "execution_count": 109,
     "metadata": {},
     "output_type": "execute_result"
    }
   ],
   "source": [
    "dir(p)"
   ]
  },
  {
   "cell_type": "code",
   "execution_count": 110,
   "id": "a1b0b1b5",
   "metadata": {},
   "outputs": [],
   "source": [
    "def outer(f):\n",
    "    def inner():\n",
    "        result = f()\n",
    "        return result ** 2\n",
    "    return inner"
   ]
  },
  {
   "cell_type": "code",
   "execution_count": 111,
   "id": "aecb9ad8",
   "metadata": {},
   "outputs": [],
   "source": [
    "def num():\n",
    "    return 5"
   ]
  },
  {
   "cell_type": "code",
   "execution_count": 112,
   "id": "dc080d64",
   "metadata": {},
   "outputs": [],
   "source": [
    "r = outer(num)"
   ]
  },
  {
   "cell_type": "code",
   "execution_count": 113,
   "id": "48a5ae2e",
   "metadata": {},
   "outputs": [
    {
     "data": {
      "text/plain": [
       "<function __main__.outer.<locals>.inner()>"
      ]
     },
     "execution_count": 113,
     "metadata": {},
     "output_type": "execute_result"
    }
   ],
   "source": [
    "r"
   ]
  },
  {
   "cell_type": "code",
   "execution_count": 114,
   "id": "cc196226",
   "metadata": {},
   "outputs": [
    {
     "data": {
      "text/plain": [
       "25"
      ]
     },
     "execution_count": 114,
     "metadata": {},
     "output_type": "execute_result"
    }
   ],
   "source": [
    "r()"
   ]
  },
  {
   "cell_type": "code",
   "execution_count": 115,
   "id": "9f0a94fe",
   "metadata": {},
   "outputs": [],
   "source": [
    "@outer\n",
    "def num():\n",
    "    return 5"
   ]
  },
  {
   "cell_type": "code",
   "execution_count": 116,
   "id": "0c9191f3",
   "metadata": {},
   "outputs": [
    {
     "data": {
      "text/plain": [
       "25"
      ]
     },
     "execution_count": 116,
     "metadata": {},
     "output_type": "execute_result"
    }
   ],
   "source": [
    "num()"
   ]
  },
  {
   "cell_type": "code",
   "execution_count": 117,
   "id": "b2b19826",
   "metadata": {},
   "outputs": [],
   "source": [
    "def outer(f):\n",
    "    def inner(n1,n2):\n",
    "        result = f(n1,n2)\n",
    "        return result **2\n",
    "    return inner"
   ]
  },
  {
   "cell_type": "code",
   "execution_count": 118,
   "id": "ad98a960",
   "metadata": {},
   "outputs": [],
   "source": [
    "@outer\n",
    "def num(n1,n2):\n",
    "    return n1+n2+5"
   ]
  },
  {
   "cell_type": "code",
   "execution_count": 119,
   "id": "c25a0c6d",
   "metadata": {},
   "outputs": [
    {
     "data": {
      "text/plain": [
       "64"
      ]
     },
     "execution_count": 119,
     "metadata": {},
     "output_type": "execute_result"
    }
   ],
   "source": [
    "num(1,2)"
   ]
  },
  {
   "cell_type": "code",
   "execution_count": 124,
   "id": "285c7b2a",
   "metadata": {},
   "outputs": [],
   "source": [
    "def validate(func):\n",
    "    def validator(*args, **kwargs):\n",
    "        if len(args)>1:\n",
    "            if args[1] == 0:\n",
    "                print(\"we are expecting non zero number\")\n",
    "                return None\n",
    "            else:\n",
    "                power = func(args[0],args[1])\n",
    "                return power\n",
    "        else:\n",
    "            print(\"Invalid args\")\n",
    "    return validator"
   ]
  },
  {
   "cell_type": "code",
   "execution_count": 125,
   "id": "457fc492",
   "metadata": {},
   "outputs": [],
   "source": [
    "import math"
   ]
  },
  {
   "cell_type": "code",
   "execution_count": 126,
   "id": "3dd81cbc",
   "metadata": {},
   "outputs": [],
   "source": [
    "@validate\n",
    "def mypower(x,y):\n",
    "    return math.pow(x,y)"
   ]
  },
  {
   "cell_type": "code",
   "execution_count": 129,
   "id": "23cc4f9d",
   "metadata": {},
   "outputs": [
    {
     "name": "stdout",
     "output_type": "stream",
     "text": [
      "we are expecting non zero number\n"
     ]
    }
   ],
   "source": [
    "mypower(10,0)"
   ]
  },
  {
   "cell_type": "code",
   "execution_count": 130,
   "id": "275431a4",
   "metadata": {},
   "outputs": [
    {
     "data": {
      "text/plain": [
       "100.0"
      ]
     },
     "execution_count": 130,
     "metadata": {},
     "output_type": "execute_result"
    }
   ],
   "source": [
    "mypower(10,2)"
   ]
  },
  {
   "cell_type": "code",
   "execution_count": 131,
   "id": "ac48544f",
   "metadata": {},
   "outputs": [
    {
     "name": "stdout",
     "output_type": "stream",
     "text": [
      "Invalid args\n"
     ]
    }
   ],
   "source": [
    "mypower(10)"
   ]
  },
  {
   "cell_type": "code",
   "execution_count": 1,
   "id": "126427a5",
   "metadata": {},
   "outputs": [
    {
     "data": {
      "text/plain": [
       "[2, 4, 6, 8, 10]"
      ]
     },
     "execution_count": 1,
     "metadata": {},
     "output_type": "execute_result"
    }
   ],
   "source": [
    "list_1 = [1,2,3,4,5,6,7,8,9,10]\n",
    "list(filter(lambda x: x%2==0, list_1))"
   ]
  },
  {
   "cell_type": "code",
   "execution_count": 3,
   "id": "ccb98fbc",
   "metadata": {},
   "outputs": [
    {
     "data": {
      "text/plain": [
       "[1, 8, 27, 64, 125, 216, 343, 512, 729]"
      ]
     },
     "execution_count": 3,
     "metadata": {},
     "output_type": "execute_result"
    }
   ],
   "source": [
    "list_1 = [1,2,3,4,5,6,7,8,9]\n",
    "list(map(lambda x: pow(x,3), list_1))"
   ]
  },
  {
   "cell_type": "code",
   "execution_count": 8,
   "id": "b650ba25",
   "metadata": {},
   "outputs": [],
   "source": [
    "# general purpose decorators\n",
    "\n",
    "def a_decorator_passing_arbitrary_arguments(function_to_decorate):\n",
    "    \n",
    "    def a_wrapper_accepting_arbitrary_arguments(*args, **kwargs):\n",
    "        print(\"The positional arguments are \", args)\n",
    "        print(\"The keyword arguments are \", kwargs)\n",
    "        function_to_decorate(*args)\n",
    "    \n",
    "    return a_wrapper_accepting_arbitrary_arguments\n",
    "\n",
    "@a_decorator_passing_arbitrary_arguments\n",
    "def function_with_no_arguments():\n",
    "    print(\"No arguments here....\")"
   ]
  },
  {
   "cell_type": "code",
   "execution_count": 9,
   "id": "88644d9f",
   "metadata": {},
   "outputs": [
    {
     "name": "stdout",
     "output_type": "stream",
     "text": [
      "The positional arguments are  ()\n",
      "The keyword arguments are  {}\n",
      "No arguments here....\n"
     ]
    }
   ],
   "source": [
    "function_with_no_arguments()"
   ]
  },
  {
   "cell_type": "code",
   "execution_count": 20,
   "id": "57bcc273",
   "metadata": {},
   "outputs": [
    {
     "name": "stdout",
     "output_type": "stream",
     "text": [
      "positional arguments are (10, 20, 30)\n",
      "The Keyword arguments are {}\n",
      "10 20 30\n"
     ]
    }
   ],
   "source": [
    "# passing positional arguments to decorators\n",
    "def accept_the_arguments(function_to_decorator):\n",
    "    def inner_function(*args, **kwargs):\n",
    "        print(\"positional arguments are\", args)\n",
    "        print(\"The Keyword arguments are\", kwargs)\n",
    "        function_to_decorator(*args)\n",
    "    return inner_function\n",
    "\n",
    "@accept_the_arguments\n",
    "def function_with_args(a,b,c):\n",
    "    print(a,b,c)\n",
    "\n",
    "function_with_args(10,20,30)"
   ]
  },
  {
   "cell_type": "code",
   "execution_count": 21,
   "id": "d090dfc0",
   "metadata": {},
   "outputs": [
    {
     "name": "stdout",
     "output_type": "stream",
     "text": [
      "positional arguments are (10, 20, 30)\n",
      "The Keyword arguments are {}\n",
      "10 20 30\n"
     ]
    }
   ],
   "source": [
    "function_with_args(10,20,30)"
   ]
  },
  {
   "cell_type": "code",
   "execution_count": 19,
   "id": "922a2ba3",
   "metadata": {},
   "outputs": [
    {
     "name": "stdout",
     "output_type": "stream",
     "text": [
      "positional arguments are (10, 20, 30)\n",
      "The Keyword arguments are {}\n",
      "10 20 30\n"
     ]
    }
   ],
   "source": [
    "# passing positional arguments to decorators\n",
    "def accept_the_arguments(function_to_decorator):\n",
    "    def inner_function(*args, **kwargs):\n",
    "        print(\"positional arguments are\", args)\n",
    "        print(\"The Keyword arguments are\", kwargs)\n",
    "        function_to_decorator(*args)\n",
    "    return inner_function\n",
    "\n",
    "@accept_the_arguments\n",
    "def function_with_args(a,b,c):\n",
    "    print(a,b,c)\n",
    "\n",
    "function_with_args(10,20,30)"
   ]
  },
  {
   "cell_type": "code",
   "execution_count": 24,
   "id": "49630d29",
   "metadata": {},
   "outputs": [],
   "source": [
    "# passing kwargs based arguments\n",
    "\n",
    "def accepting_kwargs(function_to_decorator):\n",
    "    def inner_function(*args, **kwargs):\n",
    "        print(\"args values \", args)\n",
    "        print(\"positional args \", kwargs)\n",
    "        function_to_decorator(*args, **kwargs)\n",
    "    return inner_function\n",
    "\n",
    "@accepting_kwargs\n",
    "def function_with_args(*args, **kwargs):\n",
    "    print(\"Inside function args\", args)\n",
    "    print(\"kwargs..\", kwargs)"
   ]
  },
  {
   "cell_type": "code",
   "execution_count": 25,
   "id": "f9742e76",
   "metadata": {},
   "outputs": [
    {
     "name": "stdout",
     "output_type": "stream",
     "text": [
      "args values  (1, 2, 3)\n",
      "positional args  {'name': 'aks', 'address': 'lko'}\n",
      "Inside function args (1, 2, 3)\n",
      "kwargs.. {'name': 'aks', 'address': 'lko'}\n"
     ]
    }
   ],
   "source": [
    "function_with_args(1,2,3,name = \"aks\", address = \"lko\")"
   ]
  },
  {
   "cell_type": "code",
   "execution_count": 26,
   "id": "38f658ac",
   "metadata": {},
   "outputs": [],
   "source": [
    "# passing argument to decorator\n",
    "\n",
    "def decorator_with_args(decorator_args1, decorator_args2, decorator_args3):\n",
    "    \n",
    "    def decorator(func):\n",
    "        def wrapper(function_args1, function_args2, function_args3):\n",
    "            print(\"The wrapper can access all the variables\\n\"\n",
    "                  \"\\t from the decorator maker:{0} {1} {2} \\n\"\n",
    "                  \"\\t from the function call:{3} {4} {5} \\n\"\n",
    "                 \"and pass them into decorator function\".format(decorator_args1,\n",
    "                                                                decorator_args2,\n",
    "                                                                decorator_args3,\n",
    "                                                                function_args1,\n",
    "                                                                function_args2,\n",
    "                                                                function_args3\n",
    "                                                                ))\n",
    "            return func(function_args1,function_args2,function_args3)\n",
    "        return wrapper\n",
    "    return decorator\n",
    "\n",
    "pandas = \"Pandas\"\n",
    "@decorator_with_args(pandas, \"Numpy\", \"Sciki-learn\")\n",
    "def actual_function(function_args1, function_args2, function_args3):\n",
    "    print(\"This is decorated function and it only knows its args: {0}, {1}, {2}\".format(\n",
    "        function_args1, function_args2, function_args3))"
   ]
  },
  {
   "cell_type": "code",
   "execution_count": 27,
   "id": "6f44a378",
   "metadata": {},
   "outputs": [
    {
     "name": "stdout",
     "output_type": "stream",
     "text": [
      "The wrapper can access all the variables\n",
      "\t from the decorator maker:Pandas Numpy Sciki-learn \n",
      "\t from the function call:John Science Tools \n",
      "and pass them into decorator function\n",
      "This is decorated function and it only knows its args: John, Science, Tools\n"
     ]
    }
   ],
   "source": [
    "actual_function(\"John\", \"Science\", \"Tools\")"
   ]
  },
  {
   "cell_type": "code",
   "execution_count": 28,
   "id": "1c49b210",
   "metadata": {},
   "outputs": [],
   "source": [
    "def count_digit(num):\n",
    "    count = 0\n",
    "    while num != 0:\n",
    "        num //=10\n",
    "        count += 1\n",
    "    \n",
    "    print(\"Number of Digits: \" + str(count))"
   ]
  },
  {
   "cell_type": "code",
   "execution_count": 30,
   "id": "44683f92",
   "metadata": {},
   "outputs": [
    {
     "name": "stdout",
     "output_type": "stream",
     "text": [
      "Number of Digits: 4\n"
     ]
    }
   ],
   "source": [
    "count_digit(1234)"
   ]
  },
  {
   "cell_type": "code",
   "execution_count": 31,
   "id": "5444d84d",
   "metadata": {},
   "outputs": [],
   "source": [
    "# chaining of decorator\n",
    "\n",
    "from functools import wraps\n",
    "#code for testing decorator chaining\n",
    "\n",
    "def decor1(func):\n",
    "    def inner():\n",
    "        x = func()\n",
    "        print(\"X in decor 2nd\", x)\n",
    "        return x*x # logic doing mul\n",
    "    return inner\n",
    "\n",
    "def decor(func):\n",
    "    def inner():\n",
    "        x = func()\n",
    "        print(\"X in decor 1\", x)\n",
    "        return 2*x # multiply with 2\n",
    "    return inner\n",
    "\n",
    "@decor1\n",
    "@decor\n",
    "def num():\n",
    "    return 10"
   ]
  },
  {
   "cell_type": "code",
   "execution_count": 32,
   "id": "8ff347f8",
   "metadata": {},
   "outputs": [
    {
     "name": "stdout",
     "output_type": "stream",
     "text": [
      "X in decor 1 10\n",
      "X in decor 2nd 20\n"
     ]
    },
    {
     "data": {
      "text/plain": [
       "400"
      ]
     },
     "execution_count": 32,
     "metadata": {},
     "output_type": "execute_result"
    }
   ],
   "source": [
    "num()"
   ]
  },
  {
   "cell_type": "code",
   "execution_count": 35,
   "id": "0706b6ed",
   "metadata": {},
   "outputs": [
    {
     "name": "stdout",
     "output_type": "stream",
     "text": [
      "hi\n",
      "hello\n"
     ]
    },
    {
     "data": {
      "text/plain": [
       "'hello'"
      ]
     },
     "execution_count": 35,
     "metadata": {},
     "output_type": "execute_result"
    }
   ],
   "source": [
    "def simple_func(): # define\n",
    "    print(\"hi\")    # logic1\n",
    "    print('hello') # 2\n",
    "    return 'hello' # 3 manupulation\n",
    "                   # return computed\n",
    "                     # logic...\n",
    "simple_func()"
   ]
  },
  {
   "cell_type": "code",
   "execution_count": 37,
   "id": "d96b8fcc",
   "metadata": {},
   "outputs": [
    {
     "data": {
      "text/plain": [
       "function"
      ]
     },
     "execution_count": 37,
     "metadata": {},
     "output_type": "execute_result"
    }
   ],
   "source": [
    "type(simple_func)"
   ]
  },
  {
   "cell_type": "code",
   "execution_count": 38,
   "id": "db169e9a",
   "metadata": {},
   "outputs": [],
   "source": [
    "def simple_generator():\n",
    "    print(\"hi\")\n",
    "    yield 'hello'\n",
    "    x = 10\n",
    "    y = x + 5\n",
    "    print(y)\n",
    "    yield \"Hello World\"\n",
    "    yield x"
   ]
  },
  {
   "cell_type": "code",
   "execution_count": 48,
   "id": "15dd6314",
   "metadata": {},
   "outputs": [],
   "source": [
    "ret = simple_generator()"
   ]
  },
  {
   "cell_type": "code",
   "execution_count": 49,
   "id": "a3b7de3c",
   "metadata": {},
   "outputs": [
    {
     "data": {
      "text/plain": [
       "<generator object simple_generator at 0x000001949E38E190>"
      ]
     },
     "execution_count": 49,
     "metadata": {},
     "output_type": "execute_result"
    }
   ],
   "source": [
    "ret"
   ]
  },
  {
   "cell_type": "code",
   "execution_count": 41,
   "id": "aff10af3",
   "metadata": {},
   "outputs": [
    {
     "name": "stdout",
     "output_type": "stream",
     "text": [
      "hi\n",
      "hello\n",
      "15\n",
      "Hello World\n",
      "10\n"
     ]
    }
   ],
   "source": [
    "for val in ret:\n",
    "    print(val)"
   ]
  },
  {
   "cell_type": "code",
   "execution_count": 46,
   "id": "0ad56f27",
   "metadata": {},
   "outputs": [
    {
     "name": "stdout",
     "output_type": "stream",
     "text": [
      "hi\n",
      "15\n"
     ]
    },
    {
     "data": {
      "text/plain": [
       "['hello', 'Hello World', 10]"
      ]
     },
     "execution_count": 46,
     "metadata": {},
     "output_type": "execute_result"
    }
   ],
   "source": [
    "list(ret)"
   ]
  },
  {
   "cell_type": "code",
   "execution_count": 50,
   "id": "62311e5c",
   "metadata": {},
   "outputs": [
    {
     "name": "stdout",
     "output_type": "stream",
     "text": [
      "hi\n"
     ]
    },
    {
     "data": {
      "text/plain": [
       "'hello'"
      ]
     },
     "execution_count": 50,
     "metadata": {},
     "output_type": "execute_result"
    }
   ],
   "source": [
    "next(ret)"
   ]
  },
  {
   "cell_type": "code",
   "execution_count": 51,
   "id": "1c184cf9",
   "metadata": {},
   "outputs": [
    {
     "name": "stdout",
     "output_type": "stream",
     "text": [
      "15\n"
     ]
    },
    {
     "data": {
      "text/plain": [
       "'Hello World'"
      ]
     },
     "execution_count": 51,
     "metadata": {},
     "output_type": "execute_result"
    }
   ],
   "source": [
    "next(ret)"
   ]
  },
  {
   "cell_type": "code",
   "execution_count": 52,
   "id": "4fa5d976",
   "metadata": {},
   "outputs": [
    {
     "data": {
      "text/plain": [
       "10"
      ]
     },
     "execution_count": 52,
     "metadata": {},
     "output_type": "execute_result"
    }
   ],
   "source": [
    "next(ret)"
   ]
  },
  {
   "cell_type": "code",
   "execution_count": 57,
   "id": "43c48332",
   "metadata": {},
   "outputs": [],
   "source": [
    "def fib(n):\n",
    "    numbers = []\n",
    "    first,second = 0,1\n",
    "    while first < n:\n",
    "        numbers.append(first)\n",
    "        first, second = second, first+second\n",
    "    print(numbers)"
   ]
  },
  {
   "cell_type": "code",
   "execution_count": 58,
   "id": "0bdf4eca",
   "metadata": {},
   "outputs": [
    {
     "name": "stdout",
     "output_type": "stream",
     "text": [
      "[0, 1, 1, 2, 3, 5, 8]\n"
     ]
    }
   ],
   "source": [
    "fib(10)"
   ]
  },
  {
   "cell_type": "code",
   "execution_count": 59,
   "id": "e5e47b16",
   "metadata": {},
   "outputs": [],
   "source": [
    "def fib(n):\n",
    "    first, second = 0,1\n",
    "    while n:\n",
    "        yield first\n",
    "        first, second = second, first+second\n",
    "        n -= 1"
   ]
  },
  {
   "cell_type": "code",
   "execution_count": 60,
   "id": "aec92491",
   "metadata": {},
   "outputs": [],
   "source": [
    "ret = fib(50)"
   ]
  },
  {
   "cell_type": "code",
   "execution_count": 61,
   "id": "b9f0cb2d",
   "metadata": {},
   "outputs": [
    {
     "data": {
      "text/plain": [
       "<generator object fib at 0x000001949E38E890>"
      ]
     },
     "execution_count": 61,
     "metadata": {},
     "output_type": "execute_result"
    }
   ],
   "source": [
    "ret"
   ]
  },
  {
   "cell_type": "code",
   "execution_count": 62,
   "id": "08d37a0b",
   "metadata": {},
   "outputs": [
    {
     "data": {
      "text/plain": [
       "0"
      ]
     },
     "execution_count": 62,
     "metadata": {},
     "output_type": "execute_result"
    }
   ],
   "source": [
    "next(ret)"
   ]
  },
  {
   "cell_type": "code",
   "execution_count": 63,
   "id": "04c9daa5",
   "metadata": {},
   "outputs": [
    {
     "data": {
      "text/plain": [
       "1"
      ]
     },
     "execution_count": 63,
     "metadata": {},
     "output_type": "execute_result"
    }
   ],
   "source": [
    "next(ret)"
   ]
  },
  {
   "cell_type": "code",
   "execution_count": 65,
   "id": "5f292b05",
   "metadata": {},
   "outputs": [
    {
     "data": {
      "text/plain": [
       "[1,\n",
       " 2,\n",
       " 3,\n",
       " 5,\n",
       " 8,\n",
       " 13,\n",
       " 21,\n",
       " 34,\n",
       " 55,\n",
       " 89,\n",
       " 144,\n",
       " 233,\n",
       " 377,\n",
       " 610,\n",
       " 987,\n",
       " 1597,\n",
       " 2584,\n",
       " 4181,\n",
       " 6765,\n",
       " 10946,\n",
       " 17711,\n",
       " 28657,\n",
       " 46368,\n",
       " 75025,\n",
       " 121393,\n",
       " 196418,\n",
       " 317811,\n",
       " 514229,\n",
       " 832040,\n",
       " 1346269,\n",
       " 2178309,\n",
       " 3524578,\n",
       " 5702887,\n",
       " 9227465,\n",
       " 14930352,\n",
       " 24157817,\n",
       " 39088169,\n",
       " 63245986,\n",
       " 102334155,\n",
       " 165580141,\n",
       " 267914296,\n",
       " 433494437,\n",
       " 701408733,\n",
       " 1134903170,\n",
       " 1836311903,\n",
       " 2971215073,\n",
       " 4807526976,\n",
       " 7778742049]"
      ]
     },
     "execution_count": 65,
     "metadata": {},
     "output_type": "execute_result"
    }
   ],
   "source": [
    "list(ret)"
   ]
  },
  {
   "cell_type": "code",
   "execution_count": 77,
   "id": "6c2a6e45",
   "metadata": {},
   "outputs": [],
   "source": [
    "import random\n",
    "name = [\"abc\", \"mno\", \"qrs\", \"wxy\"]\n",
    "designation = [\"mgr\", \"se\", \"sse\", \"admin\", \"hr\", \"fin\"]\n",
    "\n",
    "def people_list():\n",
    "    people = []\n",
    "    for i in range(100000):\n",
    "        person = {\"id\":i , \"name\":random.choice(name), \"designations\": random.choice(designation)}\n",
    "        people.append(person)\n",
    "    return people\n",
    "\n",
    "def people_generator():\n",
    "    people = []\n",
    "    for i in range(100000):\n",
    "        person = {\"id\":i , \"name\":random.choice(name), \"designations\": random.choice(designation)}\n",
    "        people.append(person)\n",
    "    yield people"
   ]
  },
  {
   "cell_type": "code",
   "execution_count": 69,
   "id": "eaf43595",
   "metadata": {},
   "outputs": [
    {
     "data": {
      "text/plain": [
       "[{'id': 0, 'name': 'abc', 'designations': 'sse'},\n",
       " {'id': 1, 'name': 'qrs', 'designations': 'mgr'}]"
      ]
     },
     "execution_count": 69,
     "metadata": {},
     "output_type": "execute_result"
    }
   ],
   "source": [
    "p = people_list()\n",
    "p[:2]"
   ]
  },
  {
   "cell_type": "code",
   "execution_count": 78,
   "id": "6ec13037",
   "metadata": {},
   "outputs": [],
   "source": [
    "ret = people_generator()"
   ]
  },
  {
   "cell_type": "code",
   "execution_count": 79,
   "id": "2402ccf2",
   "metadata": {},
   "outputs": [
    {
     "data": {
      "text/plain": [
       "<generator object people_generator at 0x000001949FDCA040>"
      ]
     },
     "execution_count": 79,
     "metadata": {},
     "output_type": "execute_result"
    }
   ],
   "source": [
    "ret"
   ]
  },
  {
   "cell_type": "code",
   "execution_count": 80,
   "id": "d8695008",
   "metadata": {},
   "outputs": [
    {
     "data": {
      "text/plain": [
       "[{'id': 0, 'name': 'qrs', 'designations': 'hr'},\n",
       " {'id': 1, 'name': 'wxy', 'designations': 'admin'},\n",
       " {'id': 2, 'name': 'qrs', 'designations': 'sse'},\n",
       " {'id': 3, 'name': 'mno', 'designations': 'se'},\n",
       " {'id': 4, 'name': 'abc', 'designations': 'se'},\n",
       " {'id': 5, 'name': 'mno', 'designations': 'sse'},\n",
       " {'id': 6, 'name': 'abc', 'designations': 'se'},\n",
       " {'id': 7, 'name': 'qrs', 'designations': 'sse'},\n",
       " {'id': 8, 'name': 'abc', 'designations': 'admin'},\n",
       " {'id': 9, 'name': 'mno', 'designations': 'hr'},\n",
       " {'id': 10, 'name': 'qrs', 'designations': 'fin'},\n",
       " {'id': 11, 'name': 'qrs', 'designations': 'hr'},\n",
       " {'id': 12, 'name': 'qrs', 'designations': 'se'},\n",
       " {'id': 13, 'name': 'wxy', 'designations': 'fin'},\n",
       " {'id': 14, 'name': 'mno', 'designations': 'se'},\n",
       " {'id': 15, 'name': 'qrs', 'designations': 'admin'},\n",
       " {'id': 16, 'name': 'mno', 'designations': 'se'},\n",
       " {'id': 17, 'name': 'wxy', 'designations': 'se'},\n",
       " {'id': 18, 'name': 'qrs', 'designations': 'admin'},\n",
       " {'id': 19, 'name': 'wxy', 'designations': 'hr'},\n",
       " {'id': 20, 'name': 'abc', 'designations': 'sse'},\n",
       " {'id': 21, 'name': 'wxy', 'designations': 'se'},\n",
       " {'id': 22, 'name': 'mno', 'designations': 'admin'},\n",
       " {'id': 23, 'name': 'mno', 'designations': 'mgr'},\n",
       " {'id': 24, 'name': 'mno', 'designations': 'mgr'},\n",
       " {'id': 25, 'name': 'abc', 'designations': 'fin'},\n",
       " {'id': 26, 'name': 'abc', 'designations': 'fin'},\n",
       " {'id': 27, 'name': 'mno', 'designations': 'se'},\n",
       " {'id': 28, 'name': 'qrs', 'designations': 'admin'},\n",
       " {'id': 29, 'name': 'mno', 'designations': 'se'},\n",
       " {'id': 30, 'name': 'wxy', 'designations': 'mgr'},\n",
       " {'id': 31, 'name': 'mno', 'designations': 'sse'},\n",
       " {'id': 32, 'name': 'qrs', 'designations': 'fin'},\n",
       " {'id': 33, 'name': 'qrs', 'designations': 'se'},\n",
       " {'id': 34, 'name': 'qrs', 'designations': 'hr'},\n",
       " {'id': 35, 'name': 'wxy', 'designations': 'fin'},\n",
       " {'id': 36, 'name': 'mno', 'designations': 'sse'},\n",
       " {'id': 37, 'name': 'abc', 'designations': 'sse'},\n",
       " {'id': 38, 'name': 'qrs', 'designations': 'se'},\n",
       " {'id': 39, 'name': 'mno', 'designations': 'admin'},\n",
       " {'id': 40, 'name': 'wxy', 'designations': 'fin'},\n",
       " {'id': 41, 'name': 'wxy', 'designations': 'hr'},\n",
       " {'id': 42, 'name': 'wxy', 'designations': 'hr'},\n",
       " {'id': 43, 'name': 'wxy', 'designations': 'mgr'},\n",
       " {'id': 44, 'name': 'mno', 'designations': 'hr'},\n",
       " {'id': 45, 'name': 'qrs', 'designations': 'fin'},\n",
       " {'id': 46, 'name': 'qrs', 'designations': 'fin'},\n",
       " {'id': 47, 'name': 'qrs', 'designations': 'sse'},\n",
       " {'id': 48, 'name': 'mno', 'designations': 'se'},\n",
       " {'id': 49, 'name': 'abc', 'designations': 'fin'},\n",
       " {'id': 50, 'name': 'qrs', 'designations': 'hr'},\n",
       " {'id': 51, 'name': 'qrs', 'designations': 'mgr'},\n",
       " {'id': 52, 'name': 'mno', 'designations': 'fin'},\n",
       " {'id': 53, 'name': 'qrs', 'designations': 'mgr'},\n",
       " {'id': 54, 'name': 'abc', 'designations': 'admin'},\n",
       " {'id': 55, 'name': 'abc', 'designations': 'fin'},\n",
       " {'id': 56, 'name': 'qrs', 'designations': 'fin'},\n",
       " {'id': 57, 'name': 'qrs', 'designations': 'sse'},\n",
       " {'id': 58, 'name': 'wxy', 'designations': 'mgr'},\n",
       " {'id': 59, 'name': 'mno', 'designations': 'sse'},\n",
       " {'id': 60, 'name': 'wxy', 'designations': 'se'},\n",
       " {'id': 61, 'name': 'mno', 'designations': 'fin'},\n",
       " {'id': 62, 'name': 'abc', 'designations': 'sse'},\n",
       " {'id': 63, 'name': 'wxy', 'designations': 'sse'},\n",
       " {'id': 64, 'name': 'wxy', 'designations': 'admin'},\n",
       " {'id': 65, 'name': 'qrs', 'designations': 'admin'},\n",
       " {'id': 66, 'name': 'mno', 'designations': 'admin'},\n",
       " {'id': 67, 'name': 'mno', 'designations': 'fin'},\n",
       " {'id': 68, 'name': 'qrs', 'designations': 'se'},\n",
       " {'id': 69, 'name': 'mno', 'designations': 'mgr'},\n",
       " {'id': 70, 'name': 'abc', 'designations': 'se'},\n",
       " {'id': 71, 'name': 'abc', 'designations': 'hr'},\n",
       " {'id': 72, 'name': 'qrs', 'designations': 'hr'},\n",
       " {'id': 73, 'name': 'abc', 'designations': 'hr'},\n",
       " {'id': 74, 'name': 'mno', 'designations': 'fin'},\n",
       " {'id': 75, 'name': 'qrs', 'designations': 'sse'},\n",
       " {'id': 76, 'name': 'qrs', 'designations': 'se'},\n",
       " {'id': 77, 'name': 'qrs', 'designations': 'sse'},\n",
       " {'id': 78, 'name': 'abc', 'designations': 'fin'},\n",
       " {'id': 79, 'name': 'mno', 'designations': 'fin'},\n",
       " {'id': 80, 'name': 'wxy', 'designations': 'admin'},\n",
       " {'id': 81, 'name': 'qrs', 'designations': 'mgr'},\n",
       " {'id': 82, 'name': 'qrs', 'designations': 'mgr'},\n",
       " {'id': 83, 'name': 'abc', 'designations': 'sse'},\n",
       " {'id': 84, 'name': 'mno', 'designations': 'fin'},\n",
       " {'id': 85, 'name': 'wxy', 'designations': 'mgr'},\n",
       " {'id': 86, 'name': 'mno', 'designations': 'se'},\n",
       " {'id': 87, 'name': 'abc', 'designations': 'admin'},\n",
       " {'id': 88, 'name': 'mno', 'designations': 'admin'},\n",
       " {'id': 89, 'name': 'abc', 'designations': 'mgr'},\n",
       " {'id': 90, 'name': 'qrs', 'designations': 'admin'},\n",
       " {'id': 91, 'name': 'qrs', 'designations': 'fin'},\n",
       " {'id': 92, 'name': 'qrs', 'designations': 'se'},\n",
       " {'id': 93, 'name': 'wxy', 'designations': 'mgr'},\n",
       " {'id': 94, 'name': 'wxy', 'designations': 'mgr'},\n",
       " {'id': 95, 'name': 'qrs', 'designations': 'fin'},\n",
       " {'id': 96, 'name': 'wxy', 'designations': 'fin'},\n",
       " {'id': 97, 'name': 'abc', 'designations': 'se'},\n",
       " {'id': 98, 'name': 'abc', 'designations': 'mgr'},\n",
       " {'id': 99, 'name': 'mno', 'designations': 'admin'},\n",
       " {'id': 100, 'name': 'qrs', 'designations': 'mgr'},\n",
       " {'id': 101, 'name': 'mno', 'designations': 'sse'},\n",
       " {'id': 102, 'name': 'mno', 'designations': 'sse'},\n",
       " {'id': 103, 'name': 'qrs', 'designations': 'admin'},\n",
       " {'id': 104, 'name': 'abc', 'designations': 'admin'},\n",
       " {'id': 105, 'name': 'mno', 'designations': 'fin'},\n",
       " {'id': 106, 'name': 'mno', 'designations': 'mgr'},\n",
       " {'id': 107, 'name': 'abc', 'designations': 'se'},\n",
       " {'id': 108, 'name': 'mno', 'designations': 'sse'},\n",
       " {'id': 109, 'name': 'mno', 'designations': 'fin'},\n",
       " {'id': 110, 'name': 'qrs', 'designations': 'admin'},\n",
       " {'id': 111, 'name': 'wxy', 'designations': 'se'},\n",
       " {'id': 112, 'name': 'qrs', 'designations': 'se'},\n",
       " {'id': 113, 'name': 'abc', 'designations': 'sse'},\n",
       " {'id': 114, 'name': 'wxy', 'designations': 'sse'},\n",
       " {'id': 115, 'name': 'qrs', 'designations': 'mgr'},\n",
       " {'id': 116, 'name': 'mno', 'designations': 'mgr'},\n",
       " {'id': 117, 'name': 'abc', 'designations': 'hr'},\n",
       " {'id': 118, 'name': 'mno', 'designations': 'hr'},\n",
       " {'id': 119, 'name': 'qrs', 'designations': 'hr'},\n",
       " {'id': 120, 'name': 'wxy', 'designations': 'admin'},\n",
       " {'id': 121, 'name': 'abc', 'designations': 'hr'},\n",
       " {'id': 122, 'name': 'mno', 'designations': 'sse'},\n",
       " {'id': 123, 'name': 'wxy', 'designations': 'sse'},\n",
       " {'id': 124, 'name': 'qrs', 'designations': 'se'},\n",
       " {'id': 125, 'name': 'qrs', 'designations': 'admin'},\n",
       " {'id': 126, 'name': 'qrs', 'designations': 'mgr'},\n",
       " {'id': 127, 'name': 'mno', 'designations': 'sse'},\n",
       " {'id': 128, 'name': 'abc', 'designations': 'fin'},\n",
       " {'id': 129, 'name': 'mno', 'designations': 'sse'},\n",
       " {'id': 130, 'name': 'qrs', 'designations': 'fin'},\n",
       " {'id': 131, 'name': 'mno', 'designations': 'se'},\n",
       " {'id': 132, 'name': 'qrs', 'designations': 'mgr'},\n",
       " {'id': 133, 'name': 'abc', 'designations': 'admin'},\n",
       " {'id': 134, 'name': 'abc', 'designations': 'se'},\n",
       " {'id': 135, 'name': 'qrs', 'designations': 'admin'},\n",
       " {'id': 136, 'name': 'abc', 'designations': 'se'},\n",
       " {'id': 137, 'name': 'qrs', 'designations': 'hr'},\n",
       " {'id': 138, 'name': 'abc', 'designations': 'admin'},\n",
       " {'id': 139, 'name': 'wxy', 'designations': 'admin'},\n",
       " {'id': 140, 'name': 'abc', 'designations': 'fin'},\n",
       " {'id': 141, 'name': 'mno', 'designations': 'hr'},\n",
       " {'id': 142, 'name': 'abc', 'designations': 'mgr'},\n",
       " {'id': 143, 'name': 'abc', 'designations': 'hr'},\n",
       " {'id': 144, 'name': 'abc', 'designations': 'mgr'},\n",
       " {'id': 145, 'name': 'mno', 'designations': 'fin'},\n",
       " {'id': 146, 'name': 'abc', 'designations': 'mgr'},\n",
       " {'id': 147, 'name': 'mno', 'designations': 'mgr'},\n",
       " {'id': 148, 'name': 'wxy', 'designations': 'mgr'},\n",
       " {'id': 149, 'name': 'mno', 'designations': 'sse'},\n",
       " {'id': 150, 'name': 'mno', 'designations': 'se'},\n",
       " {'id': 151, 'name': 'mno', 'designations': 'sse'},\n",
       " {'id': 152, 'name': 'abc', 'designations': 'mgr'},\n",
       " {'id': 153, 'name': 'wxy', 'designations': 'sse'},\n",
       " {'id': 154, 'name': 'wxy', 'designations': 'sse'},\n",
       " {'id': 155, 'name': 'qrs', 'designations': 'hr'},\n",
       " {'id': 156, 'name': 'abc', 'designations': 'se'},\n",
       " {'id': 157, 'name': 'wxy', 'designations': 'se'},\n",
       " {'id': 158, 'name': 'qrs', 'designations': 'sse'},\n",
       " {'id': 159, 'name': 'qrs', 'designations': 'mgr'},\n",
       " {'id': 160, 'name': 'qrs', 'designations': 'hr'},\n",
       " {'id': 161, 'name': 'abc', 'designations': 'hr'},\n",
       " {'id': 162, 'name': 'qrs', 'designations': 'sse'},\n",
       " {'id': 163, 'name': 'wxy', 'designations': 'mgr'},\n",
       " {'id': 164, 'name': 'qrs', 'designations': 'sse'},\n",
       " {'id': 165, 'name': 'qrs', 'designations': 'fin'},\n",
       " {'id': 166, 'name': 'qrs', 'designations': 'mgr'},\n",
       " {'id': 167, 'name': 'wxy', 'designations': 'sse'},\n",
       " {'id': 168, 'name': 'qrs', 'designations': 'fin'},\n",
       " {'id': 169, 'name': 'mno', 'designations': 'se'},\n",
       " {'id': 170, 'name': 'mno', 'designations': 'se'},\n",
       " {'id': 171, 'name': 'wxy', 'designations': 'hr'},\n",
       " {'id': 172, 'name': 'qrs', 'designations': 'se'},\n",
       " {'id': 173, 'name': 'abc', 'designations': 'sse'},\n",
       " {'id': 174, 'name': 'mno', 'designations': 'fin'},\n",
       " {'id': 175, 'name': 'qrs', 'designations': 'fin'},\n",
       " {'id': 176, 'name': 'abc', 'designations': 'sse'},\n",
       " {'id': 177, 'name': 'mno', 'designations': 'sse'},\n",
       " {'id': 178, 'name': 'mno', 'designations': 'se'},\n",
       " {'id': 179, 'name': 'mno', 'designations': 'se'},\n",
       " {'id': 180, 'name': 'wxy', 'designations': 'admin'},\n",
       " {'id': 181, 'name': 'qrs', 'designations': 'mgr'},\n",
       " {'id': 182, 'name': 'abc', 'designations': 'mgr'},\n",
       " {'id': 183, 'name': 'qrs', 'designations': 'hr'},\n",
       " {'id': 184, 'name': 'abc', 'designations': 'fin'},\n",
       " {'id': 185, 'name': 'mno', 'designations': 'fin'},\n",
       " {'id': 186, 'name': 'wxy', 'designations': 'fin'},\n",
       " {'id': 187, 'name': 'wxy', 'designations': 'se'},\n",
       " {'id': 188, 'name': 'mno', 'designations': 'sse'},\n",
       " {'id': 189, 'name': 'qrs', 'designations': 'hr'},\n",
       " {'id': 190, 'name': 'wxy', 'designations': 'fin'},\n",
       " {'id': 191, 'name': 'qrs', 'designations': 'se'},\n",
       " {'id': 192, 'name': 'qrs', 'designations': 'mgr'},\n",
       " {'id': 193, 'name': 'qrs', 'designations': 'sse'},\n",
       " {'id': 194, 'name': 'abc', 'designations': 'mgr'},\n",
       " {'id': 195, 'name': 'abc', 'designations': 'admin'},\n",
       " {'id': 196, 'name': 'abc', 'designations': 'hr'},\n",
       " {'id': 197, 'name': 'wxy', 'designations': 'mgr'},\n",
       " {'id': 198, 'name': 'abc', 'designations': 'hr'},\n",
       " {'id': 199, 'name': 'abc', 'designations': 'mgr'},\n",
       " {'id': 200, 'name': 'mno', 'designations': 'mgr'},\n",
       " {'id': 201, 'name': 'abc', 'designations': 'hr'},\n",
       " {'id': 202, 'name': 'qrs', 'designations': 'se'},\n",
       " {'id': 203, 'name': 'qrs', 'designations': 'hr'},\n",
       " {'id': 204, 'name': 'qrs', 'designations': 'admin'},\n",
       " {'id': 205, 'name': 'qrs', 'designations': 'fin'},\n",
       " {'id': 206, 'name': 'wxy', 'designations': 'se'},\n",
       " {'id': 207, 'name': 'wxy', 'designations': 'admin'},\n",
       " {'id': 208, 'name': 'wxy', 'designations': 'fin'},\n",
       " {'id': 209, 'name': 'qrs', 'designations': 'admin'},\n",
       " {'id': 210, 'name': 'qrs', 'designations': 'admin'},\n",
       " {'id': 211, 'name': 'qrs', 'designations': 'sse'},\n",
       " {'id': 212, 'name': 'qrs', 'designations': 'se'},\n",
       " {'id': 213, 'name': 'qrs', 'designations': 'admin'},\n",
       " {'id': 214, 'name': 'abc', 'designations': 'se'},\n",
       " {'id': 215, 'name': 'mno', 'designations': 'fin'},\n",
       " {'id': 216, 'name': 'qrs', 'designations': 'hr'},\n",
       " {'id': 217, 'name': 'abc', 'designations': 'admin'},\n",
       " {'id': 218, 'name': 'qrs', 'designations': 'fin'},\n",
       " {'id': 219, 'name': 'qrs', 'designations': 'fin'},\n",
       " {'id': 220, 'name': 'wxy', 'designations': 'se'},\n",
       " {'id': 221, 'name': 'abc', 'designations': 'mgr'},\n",
       " {'id': 222, 'name': 'abc', 'designations': 'sse'},\n",
       " {'id': 223, 'name': 'wxy', 'designations': 'sse'},\n",
       " {'id': 224, 'name': 'mno', 'designations': 'mgr'},\n",
       " {'id': 225, 'name': 'qrs', 'designations': 'sse'},\n",
       " {'id': 226, 'name': 'mno', 'designations': 'mgr'},\n",
       " {'id': 227, 'name': 'qrs', 'designations': 'sse'},\n",
       " {'id': 228, 'name': 'qrs', 'designations': 'se'},\n",
       " {'id': 229, 'name': 'mno', 'designations': 'mgr'},\n",
       " {'id': 230, 'name': 'abc', 'designations': 'sse'},\n",
       " {'id': 231, 'name': 'mno', 'designations': 'admin'},\n",
       " {'id': 232, 'name': 'mno', 'designations': 'fin'},\n",
       " {'id': 233, 'name': 'abc', 'designations': 'sse'},\n",
       " {'id': 234, 'name': 'mno', 'designations': 'fin'},\n",
       " {'id': 235, 'name': 'abc', 'designations': 'hr'},\n",
       " {'id': 236, 'name': 'qrs', 'designations': 'fin'},\n",
       " {'id': 237, 'name': 'abc', 'designations': 'mgr'},\n",
       " {'id': 238, 'name': 'abc', 'designations': 'mgr'},\n",
       " {'id': 239, 'name': 'wxy', 'designations': 'admin'},\n",
       " {'id': 240, 'name': 'abc', 'designations': 'hr'},\n",
       " {'id': 241, 'name': 'qrs', 'designations': 'admin'},\n",
       " {'id': 242, 'name': 'qrs', 'designations': 'fin'},\n",
       " {'id': 243, 'name': 'mno', 'designations': 'fin'},\n",
       " {'id': 244, 'name': 'abc', 'designations': 'admin'},\n",
       " {'id': 245, 'name': 'qrs', 'designations': 'hr'},\n",
       " {'id': 246, 'name': 'qrs', 'designations': 'se'},\n",
       " {'id': 247, 'name': 'wxy', 'designations': 'mgr'},\n",
       " {'id': 248, 'name': 'mno', 'designations': 'hr'},\n",
       " {'id': 249, 'name': 'mno', 'designations': 'admin'},\n",
       " {'id': 250, 'name': 'qrs', 'designations': 'sse'},\n",
       " {'id': 251, 'name': 'qrs', 'designations': 'mgr'},\n",
       " {'id': 252, 'name': 'wxy', 'designations': 'sse'},\n",
       " {'id': 253, 'name': 'qrs', 'designations': 'admin'},\n",
       " {'id': 254, 'name': 'qrs', 'designations': 'admin'},\n",
       " {'id': 255, 'name': 'abc', 'designations': 'admin'},\n",
       " {'id': 256, 'name': 'mno', 'designations': 'mgr'},\n",
       " {'id': 257, 'name': 'qrs', 'designations': 'sse'},\n",
       " {'id': 258, 'name': 'mno', 'designations': 'sse'},\n",
       " {'id': 259, 'name': 'qrs', 'designations': 'se'},\n",
       " {'id': 260, 'name': 'mno', 'designations': 'sse'},\n",
       " {'id': 261, 'name': 'mno', 'designations': 'hr'},\n",
       " {'id': 262, 'name': 'mno', 'designations': 'admin'},\n",
       " {'id': 263, 'name': 'abc', 'designations': 'hr'},\n",
       " {'id': 264, 'name': 'wxy', 'designations': 'hr'},\n",
       " {'id': 265, 'name': 'abc', 'designations': 'admin'},\n",
       " {'id': 266, 'name': 'wxy', 'designations': 'hr'},\n",
       " {'id': 267, 'name': 'abc', 'designations': 'sse'},\n",
       " {'id': 268, 'name': 'qrs', 'designations': 'hr'},\n",
       " {'id': 269, 'name': 'abc', 'designations': 'mgr'},\n",
       " {'id': 270, 'name': 'mno', 'designations': 'hr'},\n",
       " {'id': 271, 'name': 'qrs', 'designations': 'mgr'},\n",
       " {'id': 272, 'name': 'mno', 'designations': 'sse'},\n",
       " {'id': 273, 'name': 'qrs', 'designations': 'sse'},\n",
       " {'id': 274, 'name': 'mno', 'designations': 'sse'},\n",
       " {'id': 275, 'name': 'mno', 'designations': 'mgr'},\n",
       " {'id': 276, 'name': 'wxy', 'designations': 'fin'},\n",
       " {'id': 277, 'name': 'mno', 'designations': 'mgr'},\n",
       " {'id': 278, 'name': 'abc', 'designations': 'se'},\n",
       " {'id': 279, 'name': 'abc', 'designations': 'admin'},\n",
       " {'id': 280, 'name': 'mno', 'designations': 'hr'},\n",
       " {'id': 281, 'name': 'abc', 'designations': 'hr'},\n",
       " {'id': 282, 'name': 'mno', 'designations': 'se'},\n",
       " {'id': 283, 'name': 'abc', 'designations': 'sse'},\n",
       " {'id': 284, 'name': 'qrs', 'designations': 'fin'},\n",
       " {'id': 285, 'name': 'qrs', 'designations': 'hr'},\n",
       " {'id': 286, 'name': 'qrs', 'designations': 'fin'},\n",
       " {'id': 287, 'name': 'mno', 'designations': 'fin'},\n",
       " {'id': 288, 'name': 'abc', 'designations': 'sse'},\n",
       " {'id': 289, 'name': 'wxy', 'designations': 'se'},\n",
       " {'id': 290, 'name': 'abc', 'designations': 'mgr'},\n",
       " {'id': 291, 'name': 'mno', 'designations': 'hr'},\n",
       " {'id': 292, 'name': 'wxy', 'designations': 'se'},\n",
       " {'id': 293, 'name': 'wxy', 'designations': 'se'},\n",
       " {'id': 294, 'name': 'qrs', 'designations': 'fin'},\n",
       " {'id': 295, 'name': 'qrs', 'designations': 'sse'},\n",
       " {'id': 296, 'name': 'qrs', 'designations': 'admin'},\n",
       " {'id': 297, 'name': 'mno', 'designations': 'fin'},\n",
       " {'id': 298, 'name': 'wxy', 'designations': 'se'},\n",
       " {'id': 299, 'name': 'qrs', 'designations': 'fin'},\n",
       " {'id': 300, 'name': 'qrs', 'designations': 'sse'},\n",
       " {'id': 301, 'name': 'qrs', 'designations': 'mgr'},\n",
       " {'id': 302, 'name': 'qrs', 'designations': 'mgr'},\n",
       " {'id': 303, 'name': 'mno', 'designations': 'admin'},\n",
       " {'id': 304, 'name': 'mno', 'designations': 'hr'},\n",
       " {'id': 305, 'name': 'qrs', 'designations': 'hr'},\n",
       " {'id': 306, 'name': 'mno', 'designations': 'hr'},\n",
       " {'id': 307, 'name': 'mno', 'designations': 'sse'},\n",
       " {'id': 308, 'name': 'mno', 'designations': 'admin'},\n",
       " {'id': 309, 'name': 'abc', 'designations': 'hr'},\n",
       " {'id': 310, 'name': 'abc', 'designations': 'se'},\n",
       " {'id': 311, 'name': 'qrs', 'designations': 'fin'},\n",
       " {'id': 312, 'name': 'qrs', 'designations': 'admin'},\n",
       " {'id': 313, 'name': 'abc', 'designations': 'mgr'},\n",
       " {'id': 314, 'name': 'mno', 'designations': 'admin'},\n",
       " {'id': 315, 'name': 'mno', 'designations': 'mgr'},\n",
       " {'id': 316, 'name': 'wxy', 'designations': 'admin'},\n",
       " {'id': 317, 'name': 'abc', 'designations': 'hr'},\n",
       " {'id': 318, 'name': 'mno', 'designations': 'admin'},\n",
       " {'id': 319, 'name': 'wxy', 'designations': 'hr'},\n",
       " {'id': 320, 'name': 'abc', 'designations': 'se'},\n",
       " {'id': 321, 'name': 'wxy', 'designations': 'sse'},\n",
       " {'id': 322, 'name': 'mno', 'designations': 'se'},\n",
       " {'id': 323, 'name': 'abc', 'designations': 'fin'},\n",
       " {'id': 324, 'name': 'mno', 'designations': 'admin'},\n",
       " {'id': 325, 'name': 'abc', 'designations': 'hr'},\n",
       " {'id': 326, 'name': 'wxy', 'designations': 'sse'},\n",
       " {'id': 327, 'name': 'mno', 'designations': 'se'},\n",
       " {'id': 328, 'name': 'wxy', 'designations': 'fin'},\n",
       " {'id': 329, 'name': 'mno', 'designations': 'hr'},\n",
       " {'id': 330, 'name': 'mno', 'designations': 'fin'},\n",
       " {'id': 331, 'name': 'mno', 'designations': 'sse'},\n",
       " {'id': 332, 'name': 'qrs', 'designations': 'sse'},\n",
       " {'id': 333, 'name': 'mno', 'designations': 'admin'},\n",
       " {'id': 334, 'name': 'abc', 'designations': 'admin'},\n",
       " {'id': 335, 'name': 'mno', 'designations': 'sse'},\n",
       " {'id': 336, 'name': 'abc', 'designations': 'admin'},\n",
       " {'id': 337, 'name': 'mno', 'designations': 'sse'},\n",
       " {'id': 338, 'name': 'qrs', 'designations': 'fin'},\n",
       " {'id': 339, 'name': 'qrs', 'designations': 'admin'},\n",
       " {'id': 340, 'name': 'qrs', 'designations': 'sse'},\n",
       " {'id': 341, 'name': 'abc', 'designations': 'se'},\n",
       " {'id': 342, 'name': 'wxy', 'designations': 'admin'},\n",
       " {'id': 343, 'name': 'wxy', 'designations': 'admin'},\n",
       " {'id': 344, 'name': 'mno', 'designations': 'se'},\n",
       " {'id': 345, 'name': 'wxy', 'designations': 'admin'},\n",
       " {'id': 346, 'name': 'abc', 'designations': 'admin'},\n",
       " {'id': 347, 'name': 'abc', 'designations': 'sse'},\n",
       " {'id': 348, 'name': 'abc', 'designations': 'mgr'},\n",
       " {'id': 349, 'name': 'mno', 'designations': 'hr'},\n",
       " {'id': 350, 'name': 'qrs', 'designations': 'mgr'},\n",
       " {'id': 351, 'name': 'abc', 'designations': 'se'},\n",
       " {'id': 352, 'name': 'mno', 'designations': 'se'},\n",
       " {'id': 353, 'name': 'abc', 'designations': 'admin'},\n",
       " {'id': 354, 'name': 'qrs', 'designations': 'se'},\n",
       " {'id': 355, 'name': 'wxy', 'designations': 'hr'},\n",
       " {'id': 356, 'name': 'mno', 'designations': 'hr'},\n",
       " {'id': 357, 'name': 'mno', 'designations': 'mgr'},\n",
       " {'id': 358, 'name': 'mno', 'designations': 'admin'},\n",
       " {'id': 359, 'name': 'mno', 'designations': 'fin'},\n",
       " {'id': 360, 'name': 'abc', 'designations': 'sse'},\n",
       " {'id': 361, 'name': 'abc', 'designations': 'hr'},\n",
       " {'id': 362, 'name': 'abc', 'designations': 'admin'},\n",
       " {'id': 363, 'name': 'abc', 'designations': 'sse'},\n",
       " {'id': 364, 'name': 'qrs', 'designations': 'hr'},\n",
       " {'id': 365, 'name': 'wxy', 'designations': 'hr'},\n",
       " {'id': 366, 'name': 'wxy', 'designations': 'sse'},\n",
       " {'id': 367, 'name': 'abc', 'designations': 'admin'},\n",
       " {'id': 368, 'name': 'wxy', 'designations': 'hr'},\n",
       " {'id': 369, 'name': 'abc', 'designations': 'admin'},\n",
       " {'id': 370, 'name': 'qrs', 'designations': 'admin'},\n",
       " {'id': 371, 'name': 'qrs', 'designations': 'se'},\n",
       " {'id': 372, 'name': 'qrs', 'designations': 'hr'},\n",
       " {'id': 373, 'name': 'wxy', 'designations': 'se'},\n",
       " {'id': 374, 'name': 'mno', 'designations': 'sse'},\n",
       " {'id': 375, 'name': 'mno', 'designations': 'admin'},\n",
       " {'id': 376, 'name': 'mno', 'designations': 'fin'},\n",
       " {'id': 377, 'name': 'qrs', 'designations': 'sse'},\n",
       " {'id': 378, 'name': 'mno', 'designations': 'admin'},\n",
       " {'id': 379, 'name': 'abc', 'designations': 'admin'},\n",
       " {'id': 380, 'name': 'wxy', 'designations': 'hr'},\n",
       " {'id': 381, 'name': 'wxy', 'designations': 'se'},\n",
       " {'id': 382, 'name': 'qrs', 'designations': 'se'},\n",
       " {'id': 383, 'name': 'wxy', 'designations': 'mgr'},\n",
       " {'id': 384, 'name': 'wxy', 'designations': 'sse'},\n",
       " {'id': 385, 'name': 'mno', 'designations': 'sse'},\n",
       " {'id': 386, 'name': 'mno', 'designations': 'hr'},\n",
       " {'id': 387, 'name': 'abc', 'designations': 'fin'},\n",
       " {'id': 388, 'name': 'abc', 'designations': 'se'},\n",
       " {'id': 389, 'name': 'abc', 'designations': 'se'},\n",
       " {'id': 390, 'name': 'qrs', 'designations': 'hr'},\n",
       " {'id': 391, 'name': 'wxy', 'designations': 'mgr'},\n",
       " {'id': 392, 'name': 'wxy', 'designations': 'mgr'},\n",
       " {'id': 393, 'name': 'wxy', 'designations': 'sse'},\n",
       " {'id': 394, 'name': 'abc', 'designations': 'hr'},\n",
       " {'id': 395, 'name': 'qrs', 'designations': 'sse'},\n",
       " {'id': 396, 'name': 'qrs', 'designations': 'sse'},\n",
       " {'id': 397, 'name': 'wxy', 'designations': 'mgr'},\n",
       " {'id': 398, 'name': 'wxy', 'designations': 'sse'},\n",
       " {'id': 399, 'name': 'mno', 'designations': 'sse'},\n",
       " {'id': 400, 'name': 'mno', 'designations': 'sse'},\n",
       " {'id': 401, 'name': 'qrs', 'designations': 'sse'},\n",
       " {'id': 402, 'name': 'wxy', 'designations': 'se'},\n",
       " {'id': 403, 'name': 'abc', 'designations': 'fin'},\n",
       " {'id': 404, 'name': 'abc', 'designations': 'mgr'},\n",
       " {'id': 405, 'name': 'qrs', 'designations': 'se'},\n",
       " {'id': 406, 'name': 'mno', 'designations': 'sse'},\n",
       " {'id': 407, 'name': 'qrs', 'designations': 'hr'},\n",
       " {'id': 408, 'name': 'qrs', 'designations': 'mgr'},\n",
       " {'id': 409, 'name': 'wxy', 'designations': 'fin'},\n",
       " {'id': 410, 'name': 'qrs', 'designations': 'se'},\n",
       " {'id': 411, 'name': 'mno', 'designations': 'fin'},\n",
       " {'id': 412, 'name': 'abc', 'designations': 'mgr'},\n",
       " {'id': 413, 'name': 'abc', 'designations': 'fin'},\n",
       " {'id': 414, 'name': 'qrs', 'designations': 'mgr'},\n",
       " {'id': 415, 'name': 'qrs', 'designations': 'se'},\n",
       " {'id': 416, 'name': 'qrs', 'designations': 'hr'},\n",
       " {'id': 417, 'name': 'abc', 'designations': 'admin'},\n",
       " {'id': 418, 'name': 'qrs', 'designations': 'fin'},\n",
       " {'id': 419, 'name': 'mno', 'designations': 'fin'},\n",
       " {'id': 420, 'name': 'qrs', 'designations': 'sse'},\n",
       " {'id': 421, 'name': 'abc', 'designations': 'mgr'},\n",
       " {'id': 422, 'name': 'mno', 'designations': 'fin'},\n",
       " {'id': 423, 'name': 'wxy', 'designations': 'se'},\n",
       " {'id': 424, 'name': 'qrs', 'designations': 'fin'},\n",
       " {'id': 425, 'name': 'qrs', 'designations': 'fin'},\n",
       " {'id': 426, 'name': 'qrs', 'designations': 'se'},\n",
       " {'id': 427, 'name': 'wxy', 'designations': 'admin'},\n",
       " {'id': 428, 'name': 'wxy', 'designations': 'se'},\n",
       " {'id': 429, 'name': 'wxy', 'designations': 'se'},\n",
       " {'id': 430, 'name': 'mno', 'designations': 'mgr'},\n",
       " {'id': 431, 'name': 'abc', 'designations': 'sse'},\n",
       " {'id': 432, 'name': 'wxy', 'designations': 'fin'},\n",
       " {'id': 433, 'name': 'qrs', 'designations': 'hr'},\n",
       " {'id': 434, 'name': 'wxy', 'designations': 'admin'},\n",
       " {'id': 435, 'name': 'mno', 'designations': 'hr'},\n",
       " {'id': 436, 'name': 'wxy', 'designations': 'fin'},\n",
       " {'id': 437, 'name': 'wxy', 'designations': 'fin'},\n",
       " {'id': 438, 'name': 'wxy', 'designations': 'fin'},\n",
       " {'id': 439, 'name': 'qrs', 'designations': 'fin'},\n",
       " {'id': 440, 'name': 'qrs', 'designations': 'fin'},\n",
       " {'id': 441, 'name': 'qrs', 'designations': 'hr'},\n",
       " {'id': 442, 'name': 'wxy', 'designations': 'sse'},\n",
       " {'id': 443, 'name': 'mno', 'designations': 'hr'},\n",
       " {'id': 444, 'name': 'abc', 'designations': 'hr'},\n",
       " {'id': 445, 'name': 'abc', 'designations': 'se'},\n",
       " {'id': 446, 'name': 'wxy', 'designations': 'mgr'},\n",
       " {'id': 447, 'name': 'mno', 'designations': 'se'},\n",
       " {'id': 448, 'name': 'qrs', 'designations': 'hr'},\n",
       " {'id': 449, 'name': 'wxy', 'designations': 'fin'},\n",
       " {'id': 450, 'name': 'abc', 'designations': 'se'},\n",
       " {'id': 451, 'name': 'wxy', 'designations': 'hr'},\n",
       " {'id': 452, 'name': 'wxy', 'designations': 'se'},\n",
       " {'id': 453, 'name': 'abc', 'designations': 'sse'},\n",
       " {'id': 454, 'name': 'qrs', 'designations': 'admin'},\n",
       " {'id': 455, 'name': 'wxy', 'designations': 'admin'},\n",
       " {'id': 456, 'name': 'qrs', 'designations': 'admin'},\n",
       " {'id': 457, 'name': 'wxy', 'designations': 'admin'},\n",
       " {'id': 458, 'name': 'mno', 'designations': 'admin'},\n",
       " {'id': 459, 'name': 'qrs', 'designations': 'hr'},\n",
       " {'id': 460, 'name': 'qrs', 'designations': 'hr'},\n",
       " {'id': 461, 'name': 'qrs', 'designations': 'fin'},\n",
       " {'id': 462, 'name': 'wxy', 'designations': 'fin'},\n",
       " {'id': 463, 'name': 'abc', 'designations': 'admin'},\n",
       " {'id': 464, 'name': 'wxy', 'designations': 'hr'},\n",
       " {'id': 465, 'name': 'wxy', 'designations': 'hr'},\n",
       " {'id': 466, 'name': 'wxy', 'designations': 'fin'},\n",
       " {'id': 467, 'name': 'abc', 'designations': 'hr'},\n",
       " {'id': 468, 'name': 'qrs', 'designations': 'mgr'},\n",
       " {'id': 469, 'name': 'abc', 'designations': 'admin'},\n",
       " {'id': 470, 'name': 'abc', 'designations': 'mgr'},\n",
       " {'id': 471, 'name': 'abc', 'designations': 'sse'},\n",
       " {'id': 472, 'name': 'mno', 'designations': 'admin'},\n",
       " {'id': 473, 'name': 'abc', 'designations': 'mgr'},\n",
       " {'id': 474, 'name': 'mno', 'designations': 'hr'},\n",
       " {'id': 475, 'name': 'mno', 'designations': 'hr'},\n",
       " {'id': 476, 'name': 'wxy', 'designations': 'admin'},\n",
       " {'id': 477, 'name': 'mno', 'designations': 'sse'},\n",
       " {'id': 478, 'name': 'abc', 'designations': 'hr'},\n",
       " {'id': 479, 'name': 'qrs', 'designations': 'sse'},\n",
       " {'id': 480, 'name': 'mno', 'designations': 'admin'},\n",
       " {'id': 481, 'name': 'mno', 'designations': 'hr'},\n",
       " {'id': 482, 'name': 'qrs', 'designations': 'mgr'},\n",
       " {'id': 483, 'name': 'qrs', 'designations': 'se'},\n",
       " {'id': 484, 'name': 'mno', 'designations': 'fin'},\n",
       " {'id': 485, 'name': 'qrs', 'designations': 'fin'},\n",
       " {'id': 486, 'name': 'mno', 'designations': 'fin'},\n",
       " {'id': 487, 'name': 'mno', 'designations': 'fin'},\n",
       " {'id': 488, 'name': 'abc', 'designations': 'hr'},\n",
       " {'id': 489, 'name': 'abc', 'designations': 'fin'},\n",
       " {'id': 490, 'name': 'abc', 'designations': 'admin'},\n",
       " {'id': 491, 'name': 'qrs', 'designations': 'mgr'},\n",
       " {'id': 492, 'name': 'abc', 'designations': 'se'},\n",
       " {'id': 493, 'name': 'mno', 'designations': 'se'},\n",
       " {'id': 494, 'name': 'abc', 'designations': 'admin'},\n",
       " {'id': 495, 'name': 'mno', 'designations': 'fin'},\n",
       " {'id': 496, 'name': 'mno', 'designations': 'se'},\n",
       " {'id': 497, 'name': 'mno', 'designations': 'hr'},\n",
       " {'id': 498, 'name': 'abc', 'designations': 'fin'},\n",
       " {'id': 499, 'name': 'qrs', 'designations': 'sse'},\n",
       " {'id': 500, 'name': 'abc', 'designations': 'fin'},\n",
       " {'id': 501, 'name': 'qrs', 'designations': 'admin'},\n",
       " {'id': 502, 'name': 'qrs', 'designations': 'fin'},\n",
       " {'id': 503, 'name': 'qrs', 'designations': 'mgr'},\n",
       " {'id': 504, 'name': 'abc', 'designations': 'sse'},\n",
       " {'id': 505, 'name': 'abc', 'designations': 'fin'},\n",
       " {'id': 506, 'name': 'wxy', 'designations': 'sse'},\n",
       " {'id': 507, 'name': 'mno', 'designations': 'fin'},\n",
       " {'id': 508, 'name': 'abc', 'designations': 'hr'},\n",
       " {'id': 509, 'name': 'abc', 'designations': 'admin'},\n",
       " {'id': 510, 'name': 'wxy', 'designations': 'se'},\n",
       " {'id': 511, 'name': 'wxy', 'designations': 'sse'},\n",
       " {'id': 512, 'name': 'abc', 'designations': 'fin'},\n",
       " {'id': 513, 'name': 'qrs', 'designations': 'hr'},\n",
       " {'id': 514, 'name': 'qrs', 'designations': 'fin'},\n",
       " {'id': 515, 'name': 'wxy', 'designations': 'mgr'},\n",
       " {'id': 516, 'name': 'mno', 'designations': 'hr'},\n",
       " {'id': 517, 'name': 'mno', 'designations': 'mgr'},\n",
       " {'id': 518, 'name': 'abc', 'designations': 'fin'},\n",
       " {'id': 519, 'name': 'mno', 'designations': 'mgr'},\n",
       " {'id': 520, 'name': 'wxy', 'designations': 'se'},\n",
       " {'id': 521, 'name': 'mno', 'designations': 'se'},\n",
       " {'id': 522, 'name': 'mno', 'designations': 'admin'},\n",
       " {'id': 523, 'name': 'wxy', 'designations': 'hr'},\n",
       " {'id': 524, 'name': 'wxy', 'designations': 'sse'},\n",
       " {'id': 525, 'name': 'wxy', 'designations': 'hr'},\n",
       " {'id': 526, 'name': 'mno', 'designations': 'fin'},\n",
       " {'id': 527, 'name': 'qrs', 'designations': 'hr'},\n",
       " {'id': 528, 'name': 'abc', 'designations': 'hr'},\n",
       " {'id': 529, 'name': 'wxy', 'designations': 'admin'},\n",
       " {'id': 530, 'name': 'wxy', 'designations': 'hr'},\n",
       " {'id': 531, 'name': 'wxy', 'designations': 'sse'},\n",
       " {'id': 532, 'name': 'abc', 'designations': 'se'},\n",
       " {'id': 533, 'name': 'qrs', 'designations': 'admin'},\n",
       " {'id': 534, 'name': 'wxy', 'designations': 'se'},\n",
       " {'id': 535, 'name': 'abc', 'designations': 'se'},\n",
       " {'id': 536, 'name': 'abc', 'designations': 'fin'},\n",
       " {'id': 537, 'name': 'qrs', 'designations': 'mgr'},\n",
       " {'id': 538, 'name': 'mno', 'designations': 'se'},\n",
       " {'id': 539, 'name': 'mno', 'designations': 'admin'},\n",
       " {'id': 540, 'name': 'wxy', 'designations': 'sse'},\n",
       " {'id': 541, 'name': 'mno', 'designations': 'sse'},\n",
       " {'id': 542, 'name': 'qrs', 'designations': 'se'},\n",
       " {'id': 543, 'name': 'qrs', 'designations': 'sse'},\n",
       " {'id': 544, 'name': 'mno', 'designations': 'hr'},\n",
       " {'id': 545, 'name': 'abc', 'designations': 'hr'},\n",
       " {'id': 546, 'name': 'abc', 'designations': 'fin'},\n",
       " {'id': 547, 'name': 'qrs', 'designations': 'fin'},\n",
       " {'id': 548, 'name': 'qrs', 'designations': 'admin'},\n",
       " {'id': 549, 'name': 'mno', 'designations': 'fin'},\n",
       " {'id': 550, 'name': 'mno', 'designations': 'fin'},\n",
       " {'id': 551, 'name': 'mno', 'designations': 'fin'},\n",
       " {'id': 552, 'name': 'wxy', 'designations': 'admin'},\n",
       " {'id': 553, 'name': 'qrs', 'designations': 'sse'},\n",
       " {'id': 554, 'name': 'mno', 'designations': 'fin'},\n",
       " {'id': 555, 'name': 'mno', 'designations': 'se'},\n",
       " {'id': 556, 'name': 'wxy', 'designations': 'fin'},\n",
       " {'id': 557, 'name': 'qrs', 'designations': 'fin'},\n",
       " {'id': 558, 'name': 'qrs', 'designations': 'hr'},\n",
       " {'id': 559, 'name': 'qrs', 'designations': 'se'},\n",
       " {'id': 560, 'name': 'qrs', 'designations': 'se'},\n",
       " {'id': 561, 'name': 'qrs', 'designations': 'se'},\n",
       " {'id': 562, 'name': 'abc', 'designations': 'hr'},\n",
       " {'id': 563, 'name': 'mno', 'designations': 'se'},\n",
       " {'id': 564, 'name': 'wxy', 'designations': 'fin'},\n",
       " {'id': 565, 'name': 'qrs', 'designations': 'sse'},\n",
       " {'id': 566, 'name': 'abc', 'designations': 'se'},\n",
       " {'id': 567, 'name': 'qrs', 'designations': 'se'},\n",
       " {'id': 568, 'name': 'wxy', 'designations': 'hr'},\n",
       " {'id': 569, 'name': 'qrs', 'designations': 'mgr'},\n",
       " {'id': 570, 'name': 'abc', 'designations': 'se'},\n",
       " {'id': 571, 'name': 'qrs', 'designations': 'admin'},\n",
       " {'id': 572, 'name': 'abc', 'designations': 'se'},\n",
       " {'id': 573, 'name': 'abc', 'designations': 'fin'},\n",
       " {'id': 574, 'name': 'wxy', 'designations': 'mgr'},\n",
       " {'id': 575, 'name': 'qrs', 'designations': 'se'},\n",
       " {'id': 576, 'name': 'mno', 'designations': 'mgr'},\n",
       " {'id': 577, 'name': 'abc', 'designations': 'sse'},\n",
       " {'id': 578, 'name': 'abc', 'designations': 'hr'},\n",
       " {'id': 579, 'name': 'wxy', 'designations': 'fin'},\n",
       " {'id': 580, 'name': 'qrs', 'designations': 'mgr'},\n",
       " {'id': 581, 'name': 'mno', 'designations': 'fin'},\n",
       " {'id': 582, 'name': 'abc', 'designations': 'sse'},\n",
       " {'id': 583, 'name': 'mno', 'designations': 'sse'},\n",
       " {'id': 584, 'name': 'wxy', 'designations': 'sse'},\n",
       " {'id': 585, 'name': 'qrs', 'designations': 'sse'},\n",
       " {'id': 586, 'name': 'mno', 'designations': 'admin'},\n",
       " {'id': 587, 'name': 'qrs', 'designations': 'se'},\n",
       " {'id': 588, 'name': 'wxy', 'designations': 'hr'},\n",
       " {'id': 589, 'name': 'mno', 'designations': 'admin'},\n",
       " {'id': 590, 'name': 'abc', 'designations': 'mgr'},\n",
       " {'id': 591, 'name': 'wxy', 'designations': 'hr'},\n",
       " {'id': 592, 'name': 'wxy', 'designations': 'fin'},\n",
       " {'id': 593, 'name': 'abc', 'designations': 'se'},\n",
       " {'id': 594, 'name': 'wxy', 'designations': 'hr'},\n",
       " {'id': 595, 'name': 'abc', 'designations': 'hr'},\n",
       " {'id': 596, 'name': 'qrs', 'designations': 'fin'},\n",
       " {'id': 597, 'name': 'abc', 'designations': 'mgr'},\n",
       " {'id': 598, 'name': 'mno', 'designations': 'admin'},\n",
       " {'id': 599, 'name': 'wxy', 'designations': 'se'},\n",
       " {'id': 600, 'name': 'qrs', 'designations': 'se'},\n",
       " {'id': 601, 'name': 'qrs', 'designations': 'se'},\n",
       " {'id': 602, 'name': 'abc', 'designations': 'mgr'},\n",
       " {'id': 603, 'name': 'mno', 'designations': 'admin'},\n",
       " {'id': 604, 'name': 'qrs', 'designations': 'se'},\n",
       " {'id': 605, 'name': 'wxy', 'designations': 'mgr'},\n",
       " {'id': 606, 'name': 'abc', 'designations': 'hr'},\n",
       " {'id': 607, 'name': 'wxy', 'designations': 'se'},\n",
       " {'id': 608, 'name': 'qrs', 'designations': 'se'},\n",
       " {'id': 609, 'name': 'abc', 'designations': 'fin'},\n",
       " {'id': 610, 'name': 'wxy', 'designations': 'sse'},\n",
       " {'id': 611, 'name': 'qrs', 'designations': 'admin'},\n",
       " {'id': 612, 'name': 'mno', 'designations': 'admin'},\n",
       " {'id': 613, 'name': 'abc', 'designations': 'admin'},\n",
       " {'id': 614, 'name': 'wxy', 'designations': 'fin'},\n",
       " {'id': 615, 'name': 'wxy', 'designations': 'hr'},\n",
       " {'id': 616, 'name': 'mno', 'designations': 'hr'},\n",
       " {'id': 617, 'name': 'mno', 'designations': 'sse'},\n",
       " {'id': 618, 'name': 'mno', 'designations': 'admin'},\n",
       " {'id': 619, 'name': 'qrs', 'designations': 'fin'},\n",
       " {'id': 620, 'name': 'mno', 'designations': 'hr'},\n",
       " {'id': 621, 'name': 'wxy', 'designations': 'sse'},\n",
       " {'id': 622, 'name': 'abc', 'designations': 'sse'},\n",
       " {'id': 623, 'name': 'abc', 'designations': 'mgr'},\n",
       " {'id': 624, 'name': 'mno', 'designations': 'mgr'},\n",
       " {'id': 625, 'name': 'wxy', 'designations': 'admin'},\n",
       " {'id': 626, 'name': 'mno', 'designations': 'fin'},\n",
       " {'id': 627, 'name': 'mno', 'designations': 'sse'},\n",
       " {'id': 628, 'name': 'abc', 'designations': 'admin'},\n",
       " {'id': 629, 'name': 'abc', 'designations': 'fin'},\n",
       " {'id': 630, 'name': 'mno', 'designations': 'admin'},\n",
       " {'id': 631, 'name': 'mno', 'designations': 'mgr'},\n",
       " {'id': 632, 'name': 'abc', 'designations': 'fin'},\n",
       " {'id': 633, 'name': 'wxy', 'designations': 'hr'},\n",
       " {'id': 634, 'name': 'abc', 'designations': 'sse'},\n",
       " {'id': 635, 'name': 'abc', 'designations': 'sse'},\n",
       " {'id': 636, 'name': 'qrs', 'designations': 'fin'},\n",
       " {'id': 637, 'name': 'wxy', 'designations': 'admin'},\n",
       " {'id': 638, 'name': 'mno', 'designations': 'sse'},\n",
       " {'id': 639, 'name': 'mno', 'designations': 'hr'},\n",
       " {'id': 640, 'name': 'mno', 'designations': 'fin'},\n",
       " {'id': 641, 'name': 'mno', 'designations': 'sse'},\n",
       " {'id': 642, 'name': 'abc', 'designations': 'admin'},\n",
       " {'id': 643, 'name': 'abc', 'designations': 'se'},\n",
       " {'id': 644, 'name': 'wxy', 'designations': 'sse'},\n",
       " {'id': 645, 'name': 'abc', 'designations': 'fin'},\n",
       " {'id': 646, 'name': 'abc', 'designations': 'se'},\n",
       " {'id': 647, 'name': 'wxy', 'designations': 'admin'},\n",
       " {'id': 648, 'name': 'qrs', 'designations': 'mgr'},\n",
       " {'id': 649, 'name': 'wxy', 'designations': 'hr'},\n",
       " {'id': 650, 'name': 'wxy', 'designations': 'admin'},\n",
       " {'id': 651, 'name': 'wxy', 'designations': 'sse'},\n",
       " {'id': 652, 'name': 'qrs', 'designations': 'se'},\n",
       " {'id': 653, 'name': 'mno', 'designations': 'admin'},\n",
       " {'id': 654, 'name': 'abc', 'designations': 'fin'},\n",
       " {'id': 655, 'name': 'mno', 'designations': 'se'},\n",
       " {'id': 656, 'name': 'abc', 'designations': 'mgr'},\n",
       " {'id': 657, 'name': 'abc', 'designations': 'se'},\n",
       " {'id': 658, 'name': 'abc', 'designations': 'admin'},\n",
       " {'id': 659, 'name': 'qrs', 'designations': 'admin'},\n",
       " {'id': 660, 'name': 'wxy', 'designations': 'hr'},\n",
       " {'id': 661, 'name': 'qrs', 'designations': 'fin'},\n",
       " {'id': 662, 'name': 'abc', 'designations': 'admin'},\n",
       " {'id': 663, 'name': 'mno', 'designations': 'mgr'},\n",
       " {'id': 664, 'name': 'wxy', 'designations': 'mgr'},\n",
       " {'id': 665, 'name': 'abc', 'designations': 'se'},\n",
       " {'id': 666, 'name': 'qrs', 'designations': 'fin'},\n",
       " {'id': 667, 'name': 'wxy', 'designations': 'admin'},\n",
       " {'id': 668, 'name': 'mno', 'designations': 'fin'},\n",
       " {'id': 669, 'name': 'abc', 'designations': 'admin'},\n",
       " {'id': 670, 'name': 'mno', 'designations': 'fin'},\n",
       " {'id': 671, 'name': 'abc', 'designations': 'admin'},\n",
       " {'id': 672, 'name': 'qrs', 'designations': 'sse'},\n",
       " {'id': 673, 'name': 'qrs', 'designations': 'hr'},\n",
       " {'id': 674, 'name': 'mno', 'designations': 'admin'},\n",
       " {'id': 675, 'name': 'wxy', 'designations': 'admin'},\n",
       " {'id': 676, 'name': 'wxy', 'designations': 'mgr'},\n",
       " {'id': 677, 'name': 'qrs', 'designations': 'admin'},\n",
       " {'id': 678, 'name': 'qrs', 'designations': 'se'},\n",
       " {'id': 679, 'name': 'mno', 'designations': 'mgr'},\n",
       " {'id': 680, 'name': 'qrs', 'designations': 'hr'},\n",
       " {'id': 681, 'name': 'mno', 'designations': 'admin'},\n",
       " {'id': 682, 'name': 'mno', 'designations': 'fin'},\n",
       " {'id': 683, 'name': 'wxy', 'designations': 'admin'},\n",
       " {'id': 684, 'name': 'wxy', 'designations': 'mgr'},\n",
       " {'id': 685, 'name': 'abc', 'designations': 'sse'},\n",
       " {'id': 686, 'name': 'mno', 'designations': 'mgr'},\n",
       " {'id': 687, 'name': 'mno', 'designations': 'mgr'},\n",
       " {'id': 688, 'name': 'qrs', 'designations': 'admin'},\n",
       " {'id': 689, 'name': 'mno', 'designations': 'admin'},\n",
       " {'id': 690, 'name': 'wxy', 'designations': 'sse'},\n",
       " {'id': 691, 'name': 'wxy', 'designations': 'admin'},\n",
       " {'id': 692, 'name': 'wxy', 'designations': 'mgr'},\n",
       " {'id': 693, 'name': 'wxy', 'designations': 'sse'},\n",
       " {'id': 694, 'name': 'qrs', 'designations': 'mgr'},\n",
       " {'id': 695, 'name': 'wxy', 'designations': 'hr'},\n",
       " {'id': 696, 'name': 'qrs', 'designations': 'fin'},\n",
       " {'id': 697, 'name': 'mno', 'designations': 'hr'},\n",
       " {'id': 698, 'name': 'qrs', 'designations': 'se'},\n",
       " {'id': 699, 'name': 'abc', 'designations': 'fin'},\n",
       " {'id': 700, 'name': 'qrs', 'designations': 'se'},\n",
       " {'id': 701, 'name': 'qrs', 'designations': 'hr'},\n",
       " {'id': 702, 'name': 'mno', 'designations': 'admin'},\n",
       " {'id': 703, 'name': 'qrs', 'designations': 'fin'},\n",
       " {'id': 704, 'name': 'wxy', 'designations': 'se'},\n",
       " {'id': 705, 'name': 'mno', 'designations': 'mgr'},\n",
       " {'id': 706, 'name': 'wxy', 'designations': 'se'},\n",
       " {'id': 707, 'name': 'mno', 'designations': 'se'},\n",
       " {'id': 708, 'name': 'mno', 'designations': 'mgr'},\n",
       " {'id': 709, 'name': 'mno', 'designations': 'mgr'},\n",
       " {'id': 710, 'name': 'qrs', 'designations': 'admin'},\n",
       " {'id': 711, 'name': 'abc', 'designations': 'se'},\n",
       " {'id': 712, 'name': 'mno', 'designations': 'mgr'},\n",
       " {'id': 713, 'name': 'abc', 'designations': 'admin'},\n",
       " {'id': 714, 'name': 'qrs', 'designations': 'sse'},\n",
       " {'id': 715, 'name': 'wxy', 'designations': 'fin'},\n",
       " {'id': 716, 'name': 'mno', 'designations': 'se'},\n",
       " {'id': 717, 'name': 'mno', 'designations': 'admin'},\n",
       " {'id': 718, 'name': 'wxy', 'designations': 'fin'},\n",
       " {'id': 719, 'name': 'mno', 'designations': 'admin'},\n",
       " {'id': 720, 'name': 'wxy', 'designations': 'mgr'},\n",
       " {'id': 721, 'name': 'wxy', 'designations': 'se'},\n",
       " {'id': 722, 'name': 'abc', 'designations': 'admin'},\n",
       " {'id': 723, 'name': 'abc', 'designations': 'fin'},\n",
       " {'id': 724, 'name': 'mno', 'designations': 'admin'},\n",
       " {'id': 725, 'name': 'wxy', 'designations': 'sse'},\n",
       " {'id': 726, 'name': 'mno', 'designations': 'fin'},\n",
       " {'id': 727, 'name': 'qrs', 'designations': 'mgr'},\n",
       " {'id': 728, 'name': 'abc', 'designations': 'se'},\n",
       " {'id': 729, 'name': 'abc', 'designations': 'sse'},\n",
       " {'id': 730, 'name': 'wxy', 'designations': 'hr'},\n",
       " {'id': 731, 'name': 'mno', 'designations': 'se'},\n",
       " {'id': 732, 'name': 'qrs', 'designations': 'admin'},\n",
       " {'id': 733, 'name': 'mno', 'designations': 'hr'},\n",
       " {'id': 734, 'name': 'mno', 'designations': 'fin'},\n",
       " {'id': 735, 'name': 'abc', 'designations': 'fin'},\n",
       " {'id': 736, 'name': 'mno', 'designations': 'hr'},\n",
       " {'id': 737, 'name': 'abc', 'designations': 'sse'},\n",
       " {'id': 738, 'name': 'wxy', 'designations': 'mgr'},\n",
       " {'id': 739, 'name': 'abc', 'designations': 'hr'},\n",
       " {'id': 740, 'name': 'qrs', 'designations': 'admin'},\n",
       " {'id': 741, 'name': 'mno', 'designations': 'sse'},\n",
       " {'id': 742, 'name': 'mno', 'designations': 'fin'},\n",
       " {'id': 743, 'name': 'wxy', 'designations': 'admin'},\n",
       " {'id': 744, 'name': 'wxy', 'designations': 'fin'},\n",
       " {'id': 745, 'name': 'qrs', 'designations': 'mgr'},\n",
       " {'id': 746, 'name': 'qrs', 'designations': 'se'},\n",
       " {'id': 747, 'name': 'qrs', 'designations': 'mgr'},\n",
       " {'id': 748, 'name': 'wxy', 'designations': 'hr'},\n",
       " {'id': 749, 'name': 'mno', 'designations': 'fin'},\n",
       " {'id': 750, 'name': 'wxy', 'designations': 'admin'},\n",
       " {'id': 751, 'name': 'abc', 'designations': 'se'},\n",
       " {'id': 752, 'name': 'abc', 'designations': 'hr'},\n",
       " {'id': 753, 'name': 'qrs', 'designations': 'fin'},\n",
       " {'id': 754, 'name': 'mno', 'designations': 'sse'},\n",
       " {'id': 755, 'name': 'abc', 'designations': 'admin'},\n",
       " {'id': 756, 'name': 'mno', 'designations': 'se'},\n",
       " {'id': 757, 'name': 'mno', 'designations': 'hr'},\n",
       " {'id': 758, 'name': 'abc', 'designations': 'mgr'},\n",
       " {'id': 759, 'name': 'abc', 'designations': 'sse'},\n",
       " {'id': 760, 'name': 'abc', 'designations': 'mgr'},\n",
       " {'id': 761, 'name': 'wxy', 'designations': 'fin'},\n",
       " {'id': 762, 'name': 'mno', 'designations': 'fin'},\n",
       " {'id': 763, 'name': 'wxy', 'designations': 'fin'},\n",
       " {'id': 764, 'name': 'wxy', 'designations': 'mgr'},\n",
       " {'id': 765, 'name': 'mno', 'designations': 'sse'},\n",
       " {'id': 766, 'name': 'mno', 'designations': 'sse'},\n",
       " {'id': 767, 'name': 'qrs', 'designations': 'mgr'},\n",
       " {'id': 768, 'name': 'qrs', 'designations': 'fin'},\n",
       " {'id': 769, 'name': 'wxy', 'designations': 'sse'},\n",
       " {'id': 770, 'name': 'mno', 'designations': 'hr'},\n",
       " {'id': 771, 'name': 'wxy', 'designations': 'hr'},\n",
       " {'id': 772, 'name': 'qrs', 'designations': 'mgr'},\n",
       " {'id': 773, 'name': 'abc', 'designations': 'fin'},\n",
       " {'id': 774, 'name': 'abc', 'designations': 'mgr'},\n",
       " {'id': 775, 'name': 'abc', 'designations': 'mgr'},\n",
       " {'id': 776, 'name': 'wxy', 'designations': 'sse'},\n",
       " {'id': 777, 'name': 'abc', 'designations': 'admin'},\n",
       " {'id': 778, 'name': 'qrs', 'designations': 'mgr'},\n",
       " {'id': 779, 'name': 'mno', 'designations': 'admin'},\n",
       " {'id': 780, 'name': 'mno', 'designations': 'hr'},\n",
       " {'id': 781, 'name': 'mno', 'designations': 'mgr'},\n",
       " {'id': 782, 'name': 'mno', 'designations': 'admin'},\n",
       " {'id': 783, 'name': 'qrs', 'designations': 'admin'},\n",
       " {'id': 784, 'name': 'qrs', 'designations': 'sse'},\n",
       " {'id': 785, 'name': 'wxy', 'designations': 'mgr'},\n",
       " {'id': 786, 'name': 'mno', 'designations': 'mgr'},\n",
       " {'id': 787, 'name': 'abc', 'designations': 'sse'},\n",
       " {'id': 788, 'name': 'wxy', 'designations': 'hr'},\n",
       " {'id': 789, 'name': 'wxy', 'designations': 'se'},\n",
       " {'id': 790, 'name': 'abc', 'designations': 'hr'},\n",
       " {'id': 791, 'name': 'mno', 'designations': 'hr'},\n",
       " {'id': 792, 'name': 'wxy', 'designations': 'admin'},\n",
       " {'id': 793, 'name': 'mno', 'designations': 'admin'},\n",
       " {'id': 794, 'name': 'abc', 'designations': 'admin'},\n",
       " {'id': 795, 'name': 'abc', 'designations': 'fin'},\n",
       " {'id': 796, 'name': 'wxy', 'designations': 'hr'},\n",
       " {'id': 797, 'name': 'abc', 'designations': 'sse'},\n",
       " {'id': 798, 'name': 'abc', 'designations': 'se'},\n",
       " {'id': 799, 'name': 'wxy', 'designations': 'mgr'},\n",
       " {'id': 800, 'name': 'wxy', 'designations': 'se'},\n",
       " {'id': 801, 'name': 'wxy', 'designations': 'mgr'},\n",
       " {'id': 802, 'name': 'wxy', 'designations': 'admin'},\n",
       " {'id': 803, 'name': 'mno', 'designations': 'fin'},\n",
       " {'id': 804, 'name': 'qrs', 'designations': 'admin'},\n",
       " {'id': 805, 'name': 'mno', 'designations': 'fin'},\n",
       " {'id': 806, 'name': 'mno', 'designations': 'hr'},\n",
       " {'id': 807, 'name': 'wxy', 'designations': 'fin'},\n",
       " {'id': 808, 'name': 'qrs', 'designations': 'fin'},\n",
       " {'id': 809, 'name': 'wxy', 'designations': 'admin'},\n",
       " {'id': 810, 'name': 'mno', 'designations': 'hr'},\n",
       " {'id': 811, 'name': 'qrs', 'designations': 'admin'},\n",
       " {'id': 812, 'name': 'qrs', 'designations': 'mgr'},\n",
       " {'id': 813, 'name': 'mno', 'designations': 'sse'},\n",
       " {'id': 814, 'name': 'abc', 'designations': 'sse'},\n",
       " {'id': 815, 'name': 'qrs', 'designations': 'se'},\n",
       " {'id': 816, 'name': 'qrs', 'designations': 'mgr'},\n",
       " {'id': 817, 'name': 'wxy', 'designations': 'se'},\n",
       " {'id': 818, 'name': 'mno', 'designations': 'se'},\n",
       " {'id': 819, 'name': 'qrs', 'designations': 'admin'},\n",
       " {'id': 820, 'name': 'wxy', 'designations': 'mgr'},\n",
       " {'id': 821, 'name': 'mno', 'designations': 'hr'},\n",
       " {'id': 822, 'name': 'qrs', 'designations': 'se'},\n",
       " {'id': 823, 'name': 'qrs', 'designations': 'admin'},\n",
       " {'id': 824, 'name': 'qrs', 'designations': 'sse'},\n",
       " {'id': 825, 'name': 'wxy', 'designations': 'mgr'},\n",
       " {'id': 826, 'name': 'qrs', 'designations': 'hr'},\n",
       " {'id': 827, 'name': 'qrs', 'designations': 'admin'},\n",
       " {'id': 828, 'name': 'qrs', 'designations': 'admin'},\n",
       " {'id': 829, 'name': 'qrs', 'designations': 'fin'},\n",
       " {'id': 830, 'name': 'mno', 'designations': 'hr'},\n",
       " {'id': 831, 'name': 'mno', 'designations': 'fin'},\n",
       " {'id': 832, 'name': 'mno', 'designations': 'sse'},\n",
       " {'id': 833, 'name': 'qrs', 'designations': 'mgr'},\n",
       " {'id': 834, 'name': 'mno', 'designations': 'se'},\n",
       " {'id': 835, 'name': 'mno', 'designations': 'sse'},\n",
       " {'id': 836, 'name': 'mno', 'designations': 'mgr'},\n",
       " {'id': 837, 'name': 'wxy', 'designations': 'se'},\n",
       " {'id': 838, 'name': 'mno', 'designations': 'fin'},\n",
       " {'id': 839, 'name': 'mno', 'designations': 'mgr'},\n",
       " {'id': 840, 'name': 'mno', 'designations': 'sse'},\n",
       " {'id': 841, 'name': 'abc', 'designations': 'se'},\n",
       " {'id': 842, 'name': 'qrs', 'designations': 'admin'},\n",
       " {'id': 843, 'name': 'mno', 'designations': 'mgr'},\n",
       " {'id': 844, 'name': 'mno', 'designations': 'fin'},\n",
       " {'id': 845, 'name': 'abc', 'designations': 'fin'},\n",
       " {'id': 846, 'name': 'mno', 'designations': 'fin'},\n",
       " {'id': 847, 'name': 'abc', 'designations': 'hr'},\n",
       " {'id': 848, 'name': 'mno', 'designations': 'admin'},\n",
       " {'id': 849, 'name': 'abc', 'designations': 'sse'},\n",
       " {'id': 850, 'name': 'qrs', 'designations': 'se'},\n",
       " {'id': 851, 'name': 'mno', 'designations': 'hr'},\n",
       " {'id': 852, 'name': 'wxy', 'designations': 'se'},\n",
       " {'id': 853, 'name': 'mno', 'designations': 'sse'},\n",
       " {'id': 854, 'name': 'qrs', 'designations': 'mgr'},\n",
       " {'id': 855, 'name': 'qrs', 'designations': 'se'},\n",
       " {'id': 856, 'name': 'abc', 'designations': 'mgr'},\n",
       " {'id': 857, 'name': 'mno', 'designations': 'se'},\n",
       " {'id': 858, 'name': 'wxy', 'designations': 'mgr'},\n",
       " {'id': 859, 'name': 'wxy', 'designations': 'fin'},\n",
       " {'id': 860, 'name': 'abc', 'designations': 'sse'},\n",
       " {'id': 861, 'name': 'wxy', 'designations': 'mgr'},\n",
       " {'id': 862, 'name': 'qrs', 'designations': 'mgr'},\n",
       " {'id': 863, 'name': 'abc', 'designations': 'se'},\n",
       " {'id': 864, 'name': 'mno', 'designations': 'se'},\n",
       " {'id': 865, 'name': 'qrs', 'designations': 'sse'},\n",
       " {'id': 866, 'name': 'abc', 'designations': 'fin'},\n",
       " {'id': 867, 'name': 'abc', 'designations': 'fin'},\n",
       " {'id': 868, 'name': 'mno', 'designations': 'se'},\n",
       " {'id': 869, 'name': 'abc', 'designations': 'mgr'},\n",
       " {'id': 870, 'name': 'qrs', 'designations': 'admin'},\n",
       " {'id': 871, 'name': 'qrs', 'designations': 'mgr'},\n",
       " {'id': 872, 'name': 'qrs', 'designations': 'hr'},\n",
       " {'id': 873, 'name': 'qrs', 'designations': 'mgr'},\n",
       " {'id': 874, 'name': 'abc', 'designations': 'fin'},\n",
       " {'id': 875, 'name': 'abc', 'designations': 'se'},\n",
       " {'id': 876, 'name': 'abc', 'designations': 'se'},\n",
       " {'id': 877, 'name': 'mno', 'designations': 'se'},\n",
       " {'id': 878, 'name': 'mno', 'designations': 'mgr'},\n",
       " {'id': 879, 'name': 'abc', 'designations': 'admin'},\n",
       " {'id': 880, 'name': 'qrs', 'designations': 'mgr'},\n",
       " {'id': 881, 'name': 'qrs', 'designations': 'se'},\n",
       " {'id': 882, 'name': 'abc', 'designations': 'fin'},\n",
       " {'id': 883, 'name': 'mno', 'designations': 'admin'},\n",
       " {'id': 884, 'name': 'wxy', 'designations': 'admin'},\n",
       " {'id': 885, 'name': 'abc', 'designations': 'se'},\n",
       " {'id': 886, 'name': 'mno', 'designations': 'sse'},\n",
       " {'id': 887, 'name': 'mno', 'designations': 'hr'},\n",
       " {'id': 888, 'name': 'mno', 'designations': 'sse'},\n",
       " {'id': 889, 'name': 'wxy', 'designations': 'se'},\n",
       " {'id': 890, 'name': 'wxy', 'designations': 'sse'},\n",
       " {'id': 891, 'name': 'mno', 'designations': 'admin'},\n",
       " {'id': 892, 'name': 'qrs', 'designations': 'mgr'},\n",
       " {'id': 893, 'name': 'mno', 'designations': 'mgr'},\n",
       " {'id': 894, 'name': 'qrs', 'designations': 'sse'},\n",
       " {'id': 895, 'name': 'abc', 'designations': 'se'},\n",
       " {'id': 896, 'name': 'wxy', 'designations': 'fin'},\n",
       " {'id': 897, 'name': 'wxy', 'designations': 'hr'},\n",
       " {'id': 898, 'name': 'wxy', 'designations': 'fin'},\n",
       " {'id': 899, 'name': 'mno', 'designations': 'mgr'},\n",
       " {'id': 900, 'name': 'wxy', 'designations': 'mgr'},\n",
       " {'id': 901, 'name': 'abc', 'designations': 'sse'},\n",
       " {'id': 902, 'name': 'qrs', 'designations': 'fin'},\n",
       " {'id': 903, 'name': 'wxy', 'designations': 'se'},\n",
       " {'id': 904, 'name': 'abc', 'designations': 'hr'},\n",
       " {'id': 905, 'name': 'mno', 'designations': 'se'},\n",
       " {'id': 906, 'name': 'mno', 'designations': 'hr'},\n",
       " {'id': 907, 'name': 'wxy', 'designations': 'fin'},\n",
       " {'id': 908, 'name': 'qrs', 'designations': 'hr'},\n",
       " {'id': 909, 'name': 'abc', 'designations': 'mgr'},\n",
       " {'id': 910, 'name': 'qrs', 'designations': 'admin'},\n",
       " {'id': 911, 'name': 'mno', 'designations': 'admin'},\n",
       " {'id': 912, 'name': 'mno', 'designations': 'se'},\n",
       " {'id': 913, 'name': 'mno', 'designations': 'hr'},\n",
       " {'id': 914, 'name': 'wxy', 'designations': 'hr'},\n",
       " {'id': 915, 'name': 'qrs', 'designations': 'fin'},\n",
       " {'id': 916, 'name': 'mno', 'designations': 'admin'},\n",
       " {'id': 917, 'name': 'wxy', 'designations': 'se'},\n",
       " {'id': 918, 'name': 'wxy', 'designations': 'hr'},\n",
       " {'id': 919, 'name': 'qrs', 'designations': 'se'},\n",
       " {'id': 920, 'name': 'wxy', 'designations': 'fin'},\n",
       " {'id': 921, 'name': 'abc', 'designations': 'se'},\n",
       " {'id': 922, 'name': 'mno', 'designations': 'admin'},\n",
       " {'id': 923, 'name': 'qrs', 'designations': 'fin'},\n",
       " {'id': 924, 'name': 'abc', 'designations': 'fin'},\n",
       " {'id': 925, 'name': 'wxy', 'designations': 'hr'},\n",
       " {'id': 926, 'name': 'qrs', 'designations': 'sse'},\n",
       " {'id': 927, 'name': 'mno', 'designations': 'mgr'},\n",
       " {'id': 928, 'name': 'abc', 'designations': 'sse'},\n",
       " {'id': 929, 'name': 'qrs', 'designations': 'se'},\n",
       " {'id': 930, 'name': 'mno', 'designations': 'hr'},\n",
       " {'id': 931, 'name': 'qrs', 'designations': 'sse'},\n",
       " {'id': 932, 'name': 'wxy', 'designations': 'admin'},\n",
       " {'id': 933, 'name': 'abc', 'designations': 'fin'},\n",
       " {'id': 934, 'name': 'abc', 'designations': 'hr'},\n",
       " {'id': 935, 'name': 'mno', 'designations': 'se'},\n",
       " {'id': 936, 'name': 'qrs', 'designations': 'hr'},\n",
       " {'id': 937, 'name': 'abc', 'designations': 'se'},\n",
       " {'id': 938, 'name': 'abc', 'designations': 'hr'},\n",
       " {'id': 939, 'name': 'abc', 'designations': 'hr'},\n",
       " {'id': 940, 'name': 'mno', 'designations': 'sse'},\n",
       " {'id': 941, 'name': 'abc', 'designations': 'mgr'},\n",
       " {'id': 942, 'name': 'qrs', 'designations': 'se'},\n",
       " {'id': 943, 'name': 'wxy', 'designations': 'admin'},\n",
       " {'id': 944, 'name': 'abc', 'designations': 'fin'},\n",
       " {'id': 945, 'name': 'abc', 'designations': 'se'},\n",
       " {'id': 946, 'name': 'qrs', 'designations': 'admin'},\n",
       " {'id': 947, 'name': 'wxy', 'designations': 'admin'},\n",
       " {'id': 948, 'name': 'mno', 'designations': 'mgr'},\n",
       " {'id': 949, 'name': 'wxy', 'designations': 'fin'},\n",
       " {'id': 950, 'name': 'qrs', 'designations': 'se'},\n",
       " {'id': 951, 'name': 'mno', 'designations': 'hr'},\n",
       " {'id': 952, 'name': 'qrs', 'designations': 'se'},\n",
       " {'id': 953, 'name': 'mno', 'designations': 'mgr'},\n",
       " {'id': 954, 'name': 'wxy', 'designations': 'fin'},\n",
       " {'id': 955, 'name': 'mno', 'designations': 'hr'},\n",
       " {'id': 956, 'name': 'qrs', 'designations': 'se'},\n",
       " {'id': 957, 'name': 'qrs', 'designations': 'se'},\n",
       " {'id': 958, 'name': 'wxy', 'designations': 'admin'},\n",
       " {'id': 959, 'name': 'qrs', 'designations': 'hr'},\n",
       " {'id': 960, 'name': 'qrs', 'designations': 'sse'},\n",
       " {'id': 961, 'name': 'abc', 'designations': 'fin'},\n",
       " {'id': 962, 'name': 'abc', 'designations': 'admin'},\n",
       " {'id': 963, 'name': 'abc', 'designations': 'se'},\n",
       " {'id': 964, 'name': 'mno', 'designations': 'admin'},\n",
       " {'id': 965, 'name': 'wxy', 'designations': 'admin'},\n",
       " {'id': 966, 'name': 'wxy', 'designations': 'se'},\n",
       " {'id': 967, 'name': 'wxy', 'designations': 'fin'},\n",
       " {'id': 968, 'name': 'qrs', 'designations': 'fin'},\n",
       " {'id': 969, 'name': 'mno', 'designations': 'hr'},\n",
       " {'id': 970, 'name': 'qrs', 'designations': 'se'},\n",
       " {'id': 971, 'name': 'qrs', 'designations': 'sse'},\n",
       " {'id': 972, 'name': 'mno', 'designations': 'hr'},\n",
       " {'id': 973, 'name': 'abc', 'designations': 'se'},\n",
       " {'id': 974, 'name': 'qrs', 'designations': 'sse'},\n",
       " {'id': 975, 'name': 'wxy', 'designations': 'mgr'},\n",
       " {'id': 976, 'name': 'mno', 'designations': 'sse'},\n",
       " {'id': 977, 'name': 'abc', 'designations': 'se'},\n",
       " {'id': 978, 'name': 'abc', 'designations': 'admin'},\n",
       " {'id': 979, 'name': 'wxy', 'designations': 'sse'},\n",
       " {'id': 980, 'name': 'abc', 'designations': 'mgr'},\n",
       " {'id': 981, 'name': 'wxy', 'designations': 'se'},\n",
       " {'id': 982, 'name': 'mno', 'designations': 'se'},\n",
       " {'id': 983, 'name': 'wxy', 'designations': 'fin'},\n",
       " {'id': 984, 'name': 'qrs', 'designations': 'hr'},\n",
       " {'id': 985, 'name': 'abc', 'designations': 'sse'},\n",
       " {'id': 986, 'name': 'abc', 'designations': 'se'},\n",
       " {'id': 987, 'name': 'qrs', 'designations': 'sse'},\n",
       " {'id': 988, 'name': 'wxy', 'designations': 'se'},\n",
       " {'id': 989, 'name': 'wxy', 'designations': 'hr'},\n",
       " {'id': 990, 'name': 'wxy', 'designations': 'admin'},\n",
       " {'id': 991, 'name': 'qrs', 'designations': 'admin'},\n",
       " {'id': 992, 'name': 'wxy', 'designations': 'admin'},\n",
       " {'id': 993, 'name': 'qrs', 'designations': 'fin'},\n",
       " {'id': 994, 'name': 'wxy', 'designations': 'admin'},\n",
       " {'id': 995, 'name': 'mno', 'designations': 'se'},\n",
       " {'id': 996, 'name': 'abc', 'designations': 'admin'},\n",
       " {'id': 997, 'name': 'qrs', 'designations': 'se'},\n",
       " {'id': 998, 'name': 'qrs', 'designations': 'fin'},\n",
       " {'id': 999, 'name': 'mno', 'designations': 'admin'},\n",
       " ...]"
      ]
     },
     "execution_count": 80,
     "metadata": {},
     "output_type": "execute_result"
    }
   ],
   "source": [
    "next(ret)"
   ]
  },
  {
   "cell_type": "code",
   "execution_count": 81,
   "id": "55528eaf",
   "metadata": {},
   "outputs": [],
   "source": [
    "def frange(start, stop, increment):\n",
    "    x = start\n",
    "    while x < stop:\n",
    "        yield x\n",
    "        x += increment"
   ]
  },
  {
   "cell_type": "code",
   "execution_count": 83,
   "id": "925f5b2e",
   "metadata": {},
   "outputs": [
    {
     "name": "stdout",
     "output_type": "stream",
     "text": [
      "<class 'generator'>\n",
      "0\n",
      "0.5\n",
      "1.0\n",
      "1.5\n",
      "2.0\n",
      "2.5\n",
      "3.0\n",
      "3.5\n"
     ]
    }
   ],
   "source": [
    "c = frange(0, 4, 0.5)\n",
    "print(type(c))\n",
    "\n",
    "for n in frange(0, 4, 0.5):\n",
    "    print(n)"
   ]
  },
  {
   "cell_type": "code",
   "execution_count": 93,
   "id": "086d2a66",
   "metadata": {},
   "outputs": [],
   "source": [
    "def countdown(n):\n",
    "    print(\"starting to count from\", n)\n",
    "    while n > 0:\n",
    "        yield n\n",
    "        n -= 1\n",
    "    print(\"Done\")"
   ]
  },
  {
   "cell_type": "code",
   "execution_count": 94,
   "id": "8ba14d28",
   "metadata": {},
   "outputs": [],
   "source": [
    "c = countdown(3)"
   ]
  },
  {
   "cell_type": "code",
   "execution_count": 89,
   "id": "657c28d3",
   "metadata": {},
   "outputs": [
    {
     "name": "stdout",
     "output_type": "stream",
     "text": [
      "starting to count from 3\n"
     ]
    },
    {
     "data": {
      "text/plain": [
       "3"
      ]
     },
     "execution_count": 89,
     "metadata": {},
     "output_type": "execute_result"
    }
   ],
   "source": [
    "next(c)"
   ]
  },
  {
   "cell_type": "code",
   "execution_count": 90,
   "id": "cd564efa",
   "metadata": {},
   "outputs": [
    {
     "data": {
      "text/plain": [
       "2"
      ]
     },
     "execution_count": 90,
     "metadata": {},
     "output_type": "execute_result"
    }
   ],
   "source": [
    "next(c)"
   ]
  },
  {
   "cell_type": "code",
   "execution_count": 91,
   "id": "cbb51c4d",
   "metadata": {},
   "outputs": [
    {
     "data": {
      "text/plain": [
       "1"
      ]
     },
     "execution_count": 91,
     "metadata": {},
     "output_type": "execute_result"
    }
   ],
   "source": [
    "next(c)"
   ]
  },
  {
   "cell_type": "code",
   "execution_count": 95,
   "id": "40677edf",
   "metadata": {},
   "outputs": [
    {
     "name": "stdout",
     "output_type": "stream",
     "text": [
      "starting to count from 3\n",
      "Done\n"
     ]
    },
    {
     "data": {
      "text/plain": [
       "[3, 2, 1]"
      ]
     },
     "execution_count": 95,
     "metadata": {},
     "output_type": "execute_result"
    }
   ],
   "source": [
    "list(c)"
   ]
  },
  {
   "cell_type": "code",
   "execution_count": 96,
   "id": "7ab8e328",
   "metadata": {},
   "outputs": [
    {
     "name": "stdout",
     "output_type": "stream",
     "text": [
      "5\n",
      "4\n",
      "3\n",
      "2\n",
      "1\n"
     ]
    }
   ],
   "source": [
    "a = [1,2,3,4,5]\n",
    "for x in reversed(a):\n",
    "    print(x)"
   ]
  },
  {
   "cell_type": "code",
   "execution_count": 97,
   "id": "1f696487",
   "metadata": {},
   "outputs": [
    {
     "name": "stdout",
     "output_type": "stream",
     "text": [
      "('a', 'b', 'c')\n",
      "('a', 'c', 'b')\n",
      "('b', 'a', 'c')\n",
      "('b', 'c', 'a')\n",
      "('c', 'a', 'b')\n",
      "('c', 'b', 'a')\n"
     ]
    }
   ],
   "source": [
    "items = ['a','b','c']\n",
    "from itertools import permutations\n",
    "for p in permutations(items):\n",
    "    print(p)"
   ]
  },
  {
   "cell_type": "code",
   "execution_count": 99,
   "id": "13713169",
   "metadata": {},
   "outputs": [
    {
     "name": "stdout",
     "output_type": "stream",
     "text": [
      "('a', 'b', 'c')\n"
     ]
    }
   ],
   "source": [
    "from itertools import combinations\n",
    "for c in combinations(items, 3):\n",
    "    print(c)"
   ]
  },
  {
   "cell_type": "code",
   "execution_count": 100,
   "id": "64bd8375",
   "metadata": {},
   "outputs": [
    {
     "name": "stdout",
     "output_type": "stream",
     "text": [
      "('a', 'b')\n",
      "('a', 'c')\n",
      "('b', 'c')\n"
     ]
    }
   ],
   "source": [
    "from itertools import combinations\n",
    "for c in combinations(items, 2):\n",
    "    print(c)"
   ]
  },
  {
   "cell_type": "code",
   "execution_count": 101,
   "id": "7dd5c222",
   "metadata": {},
   "outputs": [
    {
     "name": "stdout",
     "output_type": "stream",
     "text": [
      "('a',)\n",
      "('b',)\n",
      "('c',)\n"
     ]
    }
   ],
   "source": [
    "from itertools import combinations\n",
    "for c in combinations(items, 1):\n",
    "    print(c)"
   ]
  },
  {
   "cell_type": "code",
   "execution_count": 102,
   "id": "610a71ae",
   "metadata": {},
   "outputs": [
    {
     "name": "stdout",
     "output_type": "stream",
     "text": [
      "0 a\n",
      "1 b\n",
      "2 c\n"
     ]
    }
   ],
   "source": [
    "# enumerate to the track of sequence and element in terms of index and value\n",
    "\n",
    "mylist = ['a','b','c']\n",
    "for idx, val in enumerate(mylist):\n",
    "    print(idx, val)"
   ]
  },
  {
   "cell_type": "code",
   "execution_count": 103,
   "id": "c7f4dbea",
   "metadata": {},
   "outputs": [
    {
     "name": "stdout",
     "output_type": "stream",
     "text": [
      "1 a\n",
      "2 b\n",
      "3 c\n"
     ]
    }
   ],
   "source": [
    "for idx, val in enumerate(mylist, 1):\n",
    "    print(idx, val)"
   ]
  },
  {
   "cell_type": "code",
   "execution_count": 104,
   "id": "78f1518b",
   "metadata": {},
   "outputs": [
    {
     "name": "stdout",
     "output_type": "stream",
     "text": [
      "1 101\n",
      "2 102\n",
      "3 103\n",
      "4 104\n",
      "5 105\n"
     ]
    }
   ],
   "source": [
    "# zip iterator\n",
    "x = [1,2,3,4,5]\n",
    "y = [101,102,103,104,105]\n",
    "\n",
    "for i, j in zip(x, y):\n",
    "    print(i, j)"
   ]
  },
  {
   "cell_type": "code",
   "execution_count": 105,
   "id": "8462e0eb",
   "metadata": {},
   "outputs": [
    {
     "name": "stdout",
     "output_type": "stream",
     "text": [
      "{1: 101, 2: 102, 3: 103, 4: 104, 5: 105}\n"
     ]
    }
   ],
   "source": [
    "# zip iterator\n",
    "x = [1,2,3,4,5]\n",
    "y = [101,102,103,104,105]\n",
    "d = {}\n",
    "for i, j in zip(x, y):\n",
    "    d[i] = j\n",
    "print(d)"
   ]
  },
  {
   "cell_type": "code",
   "execution_count": 106,
   "id": "23ec7f2c",
   "metadata": {},
   "outputs": [
    {
     "name": "stdout",
     "output_type": "stream",
     "text": [
      "(1, 'w')\n",
      "(2, 'x')\n",
      "(3, 'y')\n"
     ]
    }
   ],
   "source": [
    "a = [1,2,3]\n",
    "b = ['w', 'x', 'y', 'z']\n",
    "for i in zip(a,b):\n",
    "    print(i)"
   ]
  },
  {
   "cell_type": "code",
   "execution_count": 107,
   "id": "fc64dce5",
   "metadata": {},
   "outputs": [
    {
     "name": "stdout",
     "output_type": "stream",
     "text": [
      "(1, 'w')\n",
      "(2, 'x')\n",
      "(3, 'y')\n",
      "(None, 'z')\n"
     ]
    }
   ],
   "source": [
    "from itertools import zip_longest\n",
    "for i in zip_longest(a,b):\n",
    "    print(i)"
   ]
  },
  {
   "cell_type": "code",
   "execution_count": 108,
   "id": "722b4122",
   "metadata": {},
   "outputs": [
    {
     "name": "stdout",
     "output_type": "stream",
     "text": [
      "(1, 'w', 10)\n",
      "(2, 'x', 11)\n",
      "(3, 'y', 12)\n"
     ]
    }
   ],
   "source": [
    "a = [1,2,3]\n",
    "b = ['w', 'x', 'y']\n",
    "c = [10,11,12]\n",
    "for i in zip(a,b,c):\n",
    "    print(i)"
   ]
  },
  {
   "cell_type": "code",
   "execution_count": 109,
   "id": "ffa7e54d",
   "metadata": {},
   "outputs": [
    {
     "name": "stdout",
     "output_type": "stream",
     "text": [
      "1\n",
      "2\n",
      "3\n",
      "w\n",
      "x\n",
      "y\n",
      "10\n",
      "11\n",
      "12\n"
     ]
    }
   ],
   "source": [
    "from itertools import chain\n",
    "for x in chain(a,b,c):\n",
    "    print(x)"
   ]
  },
  {
   "cell_type": "code",
   "execution_count": 122,
   "id": "200c3e23",
   "metadata": {},
   "outputs": [],
   "source": [
    "# flattening the nested sequence\n",
    "from collections import Iterable\n",
    "\n",
    "def flatten(items, ignore_type=(str, bytes)):\n",
    "    for x in items:\n",
    "        if isinstance(x, Iterable) and not isinstance(x, ignore_type):\n",
    "            yield from flatten(x)\n",
    "        else:\n",
    "            yield x"
   ]
  },
  {
   "cell_type": "code",
   "execution_count": 123,
   "id": "c7d1ae44",
   "metadata": {},
   "outputs": [
    {
     "name": "stdout",
     "output_type": "stream",
     "text": [
      "1\n",
      "2\n",
      "3\n",
      "4\n",
      "5\n",
      "6\n",
      "7\n",
      "8\n"
     ]
    }
   ],
   "source": [
    "items = [1, 2, [3,4, [5,6],7], 8]\n",
    "\n",
    "for x in flatten(items):\n",
    "    print(x)"
   ]
  },
  {
   "cell_type": "code",
   "execution_count": 124,
   "id": "cb380409",
   "metadata": {},
   "outputs": [
    {
     "name": "stdout",
     "output_type": "stream",
     "text": [
      "john\n",
      "ate\n",
      "fred\n",
      "tom\n"
     ]
    }
   ],
   "source": [
    "items = ['john', ['ate','fred'],'tom']\n",
    "\n",
    "for x in flatten(items):\n",
    "    print(x)"
   ]
  },
  {
   "cell_type": "code",
   "execution_count": 2,
   "id": "44b9ee2a",
   "metadata": {},
   "outputs": [
    {
     "name": "stdout",
     "output_type": "stream",
     "text": [
      "hi\n",
      "hello\n",
      "\n"
     ]
    }
   ],
   "source": [
    "# files\n",
    "\n",
    "with open('sample.txt', 'rt') as f:\n",
    "    data = f.read()\n",
    "print(data)"
   ]
  },
  {
   "cell_type": "code",
   "execution_count": 3,
   "id": "4b7dac00",
   "metadata": {},
   "outputs": [
    {
     "name": "stdout",
     "output_type": "stream",
     "text": [
      "hi\n",
      "\n",
      "hello\n",
      "\n"
     ]
    }
   ],
   "source": [
    "# iterate over the line of files\n",
    "with open('sample.txt', 'rt') as f:\n",
    "    for line in f:\n",
    "        # process line\n",
    "        print(line)"
   ]
  },
  {
   "cell_type": "code",
   "execution_count": 127,
   "id": "31e8dc91",
   "metadata": {},
   "outputs": [
    {
     "name": "stdout",
     "output_type": "stream",
     "text": [
      "Help on built-in function print in module builtins:\n",
      "\n",
      "print(...)\n",
      "    print(value, ..., sep=' ', end='\\n', file=sys.stdout, flush=False)\n",
      "    \n",
      "    Prints the values to a stream, or to sys.stdout by default.\n",
      "    Optional keyword arguments:\n",
      "    file:  a file-like object (stream); defaults to the current sys.stdout.\n",
      "    sep:   string inserted between values, default a space.\n",
      "    end:   string appended after the last value, default a newline.\n",
      "    flush: whether to forcibly flush the stream.\n",
      "\n"
     ]
    }
   ],
   "source": [
    "# redirected output\n",
    "help(print)"
   ]
  },
  {
   "cell_type": "code",
   "execution_count": 128,
   "id": "14bc2804",
   "metadata": {},
   "outputs": [],
   "source": [
    "with open('abc.txt', 'wt') as f:\n",
    "    print('hi', file=f)\n",
    "    print(\"hello\", file=f)"
   ]
  },
  {
   "cell_type": "code",
   "execution_count": 129,
   "id": "45e13b7c",
   "metadata": {},
   "outputs": [
    {
     "name": "stdout",
     "output_type": "stream",
     "text": [
      "hi\n",
      "hello\n",
      "\n"
     ]
    }
   ],
   "source": [
    "with open('abc.txt', 'rt') as f:\n",
    "    print(f.read())"
   ]
  },
  {
   "cell_type": "code",
   "execution_count": 1,
   "id": "61572a7a",
   "metadata": {},
   "outputs": [],
   "source": [
    "with open('sample.txt', 'wt') as f:\n",
    "    print('hi', file=f)\n",
    "    print(\"hello\", file=f)"
   ]
  },
  {
   "cell_type": "code",
   "execution_count": null,
   "id": "9af65df4",
   "metadata": {},
   "outputs": [],
   "source": []
  }
 ],
 "metadata": {
  "kernelspec": {
   "display_name": "Python 3 (ipykernel)",
   "language": "python",
   "name": "python3"
  },
  "language_info": {
   "codemirror_mode": {
    "name": "ipython",
    "version": 3
   },
   "file_extension": ".py",
   "mimetype": "text/x-python",
   "name": "python",
   "nbconvert_exporter": "python",
   "pygments_lexer": "ipython3",
   "version": "3.9.7"
  }
 },
 "nbformat": 4,
 "nbformat_minor": 5
}
